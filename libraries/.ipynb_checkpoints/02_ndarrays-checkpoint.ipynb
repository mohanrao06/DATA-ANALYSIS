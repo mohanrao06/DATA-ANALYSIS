{
 "cells": [
  {
   "cell_type": "markdown",
   "id": "404f81c0-fc83-431d-a8f3-06df13b22f4e",
   "metadata": {},
   "source": [
    "ndarray is a short form for N-dimensional array which is a important component of NumPy. It’s allows us to store and manipulate large amounts of data efficiently. All elements in an ndarray must be of same type making it a homogeneous array. This structure supports multiple dimensions which makes it ideal for handling complex datasets like those used in scientific computing or data analysis. With this we can perform fast and memory efficient operations on data."
   ]
  },
  {
   "cell_type": "code",
   "execution_count": 1,
   "id": "12ef8613-297f-4479-9bf4-c96729788326",
   "metadata": {},
   "outputs": [],
   "source": [
    "import numpy as np"
   ]
  },
  {
   "cell_type": "code",
   "execution_count": 3,
   "id": "7065459d-2bcf-4b9b-beaf-815791ccd4bd",
   "metadata": {},
   "outputs": [
    {
     "name": "stdout",
     "output_type": "stream",
     "text": [
      "[1 2 3 4 5]\n",
      "[[1 2 3]\n",
      " [4 5 6]]\n",
      "[[[1 2]\n",
      "  [3 4]]\n",
      "\n",
      " [[5 6]\n",
      "  [7 8]]]\n"
     ]
    }
   ],
   "source": [
    "arr1=np.array([1,2,3,4,5])\n",
    "arr2=np.array([[1,2,3],[4,5,6]])\n",
    "arr3 = np.array([[[1, 2], [3, 4]], [[5, 6], [7, 8]]])\n",
    "print(arr1)\n",
    "print(arr2)\n",
    "print(arr3)"
   ]
  },
  {
   "cell_type": "markdown",
   "id": "15542f00-5d81-4533-9a1f-8e1b45fae285",
   "metadata": {},
   "source": [
    "### Attributes of ndarray\n",
    "Understanding the attributes of an ndarray is important while working with NumPy effectively. Here are the key attributes:\n",
    "\n",
    "1. ndarray.shape: Returns a tuple representing the shape (dimensions) of the array.\n",
    "2. ndarray.ndim: Returns the number of dimensions (axes) of the array.\n",
    "3. ndarray.size: Returns the total number of elements in the array.\n",
    "4. ndarray.dtype: Provides the data type of the array elements.\n",
    "5. ndarray.itemsize: Returns the size in bytes of each element"
   ]
  },
  {
   "cell_type": "code",
   "execution_count": 4,
   "id": "b6feffb7-4879-4320-b261-555402138ea4",
   "metadata": {},
   "outputs": [
    {
     "name": "stdout",
     "output_type": "stream",
     "text": [
      "Shape: (2, 3)\n",
      "Dimensions: 2\n",
      "Size: 6\n",
      "Data type: int64\n",
      "Item size: 8\n"
     ]
    }
   ],
   "source": [
    "arr = np.array([[1, 2, 3], [4, 5, 6]])\n",
    "\n",
    "print(\"Shape:\", arr.shape)  \n",
    "print(\"Dimensions:\", arr.ndim)  \n",
    "print(\"Size:\", arr.size) \n",
    "print(\"Data type:\", arr.dtype)  \n",
    "print(\"Item size:\", arr.itemsize)"
   ]
  },
  {
   "cell_type": "markdown",
   "id": "d50e7882-b726-4d40-80d9-4c78e55688a7",
   "metadata": {},
   "source": [
    "### Array Indexing and Slicing\n",
    "NumPy allows indexing and slicing operations on ndarrays which offers more flexibility compared to standard Python lists. Here's a overview:\n",
    "\n",
    "1. Basic Indexing\n",
    "We can access individual elements in an array using square brackets just like Python lists. The indexing starts at 0."
   ]
  },
  {
   "cell_type": "code",
   "execution_count": 6,
   "id": "fa9d5814-0c1e-4ded-84b6-a8959f189895",
   "metadata": {},
   "outputs": [
    {
     "name": "stdout",
     "output_type": "stream",
     "text": [
      "30\n"
     ]
    }
   ],
   "source": [
    "arr = np.array([10, 20, 30, 40, 50])\n",
    "print(arr[2])"
   ]
  },
  {
   "cell_type": "markdown",
   "id": "1f352ba0-5156-4a96-b78c-6a0db5dd22ef",
   "metadata": {},
   "source": [
    "2. Slicing\n",
    "It allows us to extract sub-arrays using a range of indices. The syntax is [start:stop] where start is inclusive and stop is exclusive."
   ]
  },
  {
   "cell_type": "code",
   "execution_count": 7,
   "id": "f4435cfb-5654-47f1-9918-03e1b2ebd1f8",
   "metadata": {},
   "outputs": [
    {
     "name": "stdout",
     "output_type": "stream",
     "text": [
      "[20 30 40]\n"
     ]
    }
   ],
   "source": [
    "arr = np.array([10, 20, 30, 40, 50])\n",
    "print(arr[1:4])"
   ]
  },
  {
   "cell_type": "markdown",
   "id": "9bc8d02b-58c9-453d-a856-2ca8dfba9bc3",
   "metadata": {},
   "source": [
    "3. Multi-dimensional Indexing\n",
    "We can index and slice each dimension separately in multi-dimensional arrays. This allows us to access specific rows, columns or deeper dimensions of the array.\n"
   ]
  },
  {
   "cell_type": "code",
   "execution_count": 8,
   "id": "e73797f5-418d-48e7-867a-86226002b046",
   "metadata": {},
   "outputs": [
    {
     "name": "stdout",
     "output_type": "stream",
     "text": [
      "6\n",
      "[[2 3]\n",
      " [5 6]]\n"
     ]
    }
   ],
   "source": [
    "arr_2d = np.array([[1, 2, 3], [4, 5, 6], [7, 8, 9]])\n",
    "\n",
    "print(arr_2d[1, 2])  \n",
    "\n",
    "print(arr_2d[0:2, 1:3])"
   ]
  },
  {
   "cell_type": "markdown",
   "id": "0d55e57d-05e9-4859-9f87-7c2025d6bfcb",
   "metadata": {},
   "source": [
    "### Array Operations\n",
    "NumPy allows us to perform operations on entire arrays which enables efficient computation without the need for explicit loops. These operations include:\n",
    "\n",
    "1. Element-wise Operations\n",
    "These are straightforward and allow us to perform arithmetic operations on each element of the array directly."
   ]
  },
  {
   "cell_type": "code",
   "execution_count": 9,
   "id": "b1cc35f6-4518-45fc-b577-12cae2adcc51",
   "metadata": {},
   "outputs": [
    {
     "name": "stdout",
     "output_type": "stream",
     "text": [
      "[5 7 9]\n",
      "[ 4 10 18]\n",
      "[-3 -3 -3]\n",
      "[0.25 0.4  0.5 ]\n"
     ]
    }
   ],
   "source": [
    "arr = np.array([1, 2, 3])\n",
    "arr2 = np.array([4, 5, 6])\n",
    "\n",
    "print(arr + arr2)  \n",
    "print(arr * arr2)  \n",
    "print(arr - arr2)  \n",
    "print(arr / arr2)"
   ]
  },
  {
   "cell_type": "markdown",
   "id": "f2b58c1c-8d04-43f1-a0c7-5d3523dfe539",
   "metadata": {},
   "source": [
    "2. Matrix Operations (Dot product)\n",
    "It allow us to multiply two arrays or matrices and get a single value or another matrix."
   ]
  },
  {
   "cell_type": "code",
   "execution_count": 10,
   "id": "368fa22d-a6cc-4880-8064-216331f872d3",
   "metadata": {},
   "outputs": [
    {
     "name": "stdout",
     "output_type": "stream",
     "text": [
      "[[19 22]\n",
      " [43 50]]\n"
     ]
    }
   ],
   "source": [
    "matrix1 = np.array([[1, 2], [3, 4]])\n",
    "matrix2 = np.array([[5, 6], [7, 8]])\n",
    "\n",
    "print(np.dot(matrix1, matrix2))"
   ]
  },
  {
   "cell_type": "markdown",
   "id": "ab561714-9e79-4bdf-8f11-8bb0aa49568c",
   "metadata": {},
   "source": [
    "3. Broadcasting\n",
    "This feature enables us to perform operations on arrays of different shapes. NumPy automatically adjusts the smaller array to match the shape of the larger one for the operation."
   ]
  },
  {
   "cell_type": "code",
   "execution_count": 11,
   "id": "acbbfc78-9930-411b-b672-6824d283e314",
   "metadata": {},
   "outputs": [
    {
     "name": "stdout",
     "output_type": "stream",
     "text": [
      "[[11 12]\n",
      " [13 14]]\n"
     ]
    }
   ],
   "source": [
    "arr = np.array([[1, 2], [3, 4]])\n",
    "\n",
    "print(arr + 10)"
   ]
  },
  {
   "cell_type": "markdown",
   "id": "5f41f2d7-1661-46bd-adc1-190ad0dd7b27",
   "metadata": {},
   "source": [
    "4. Reshaping and Flattening\n",
    "NumPy provides functions to reshape or flatten arrays which is useful when working with machine learning or deep learning algorithms.\n",
    "\n",
    "* Reshaping: Change the shape of an array while keeping the data same.\n",
    "* Flattening: Convert multi-dimensional arrays into one-dimensional arrays"
   ]
  },
  {
   "cell_type": "code",
   "execution_count": 13,
   "id": "9564cbef-2353-4cbe-b12a-3c8c168aea4f",
   "metadata": {},
   "outputs": [
    {
     "name": "stdout",
     "output_type": "stream",
     "text": [
      "[[1 2 3]\n",
      " [4 5 6]]\n",
      "[1 2 3 4 5 6]\n"
     ]
    }
   ],
   "source": [
    "arr = np.array([1, 2, 3, 4, 5, 6])\n",
    "reshaped_arr = arr.reshape(2, 3)  \n",
    "print(reshaped_arr)\n",
    "arr = np.array([[1, 2, 3], [4, 5, 6]])\n",
    "flattened_arr = arr.flatten()\n",
    "print(flattened_arr)"
   ]
  },
  {
   "cell_type": "markdown",
   "id": "40463789-c443-4a92-9160-d56ce72e2a43",
   "metadata": {},
   "source": [
    "Array indexing in NumPy refers to the method of accessing specific elements or subsets of data within an array. This feature allows us to retrieve, modify and manipulate data at specific positions or ranges helps in making it easier to work with large datasets. In this article, we’ll see the different ways to index and slice NumPy arrays which helps us to work with our data more effectively."
   ]
  },
  {
   "cell_type": "markdown",
   "id": "319e4d3a-334a-4147-bf42-b9c59a516680",
   "metadata": {},
   "source": [
    "### 1. Accessing Elements in 1D Arrays\n",
    "A 1D NumPy array is a sequence of values with positions called indices which starts at 0. We access elements by using these indices in square brackets like arr[0] for the first element. Negative indices count from the end so arr[-1] gives the last element."
   ]
  },
  {
   "cell_type": "code",
   "execution_count": 14,
   "id": "55e8185a-6e4d-40a4-a8fb-49b4fe3d03ec",
   "metadata": {},
   "outputs": [
    {
     "name": "stdout",
     "output_type": "stream",
     "text": [
      "10\n"
     ]
    }
   ],
   "source": [
    "arr = np.array([10, 20, 30, 40, 50])\n",
    "\n",
    "print(arr[0])"
   ]
  },
  {
   "cell_type": "markdown",
   "id": "ffd00d6f-29ce-44f9-b663-d9b644f14aa2",
   "metadata": {},
   "source": [
    "### 2. Accessing Elements in Multidimensional Arrays\n",
    "In this we will see how to access elements in both 2D and 3D arrays using specific indices.\n",
    "\n",
    "* 2D Arrays: We can access elements by specifying both row and column indices like matrix[row, column]."
   ]
  },
  {
   "cell_type": "code",
   "execution_count": 15,
   "id": "c9e4499d-7f01-485b-8986-be3e1c7c5e1a",
   "metadata": {},
   "outputs": [
    {
     "name": "stdout",
     "output_type": "stream",
     "text": [
      "6\n"
     ]
    }
   ],
   "source": [
    "matrix = np.array([[1, 2, 3], [4, 5, 6], [7, 8, 9]])\n",
    "\n",
    "print(matrix[1, 2])"
   ]
  },
  {
   "cell_type": "markdown",
   "id": "f45f9900-f5a9-4065-9234-fdb6951e6b68",
   "metadata": {},
   "source": [
    "##### 3D Arrays: It can be visualized as a stack of 2D arrays, we need three indices-\n",
    "\n",
    "Depth: Specifies the 2D slice.  \n",
    "Row: Specifies the row within the slice.  \n",
    "Column: Specifies the column within the row.  \n",
    "We can access elements by specifying row, column and depth indices like matrix[depth, row, column]."
   ]
  },
  {
   "cell_type": "code",
   "execution_count": 16,
   "id": "ae34f0ea-8205-4e94-9e0b-f3c1d132e229",
   "metadata": {},
   "outputs": [
    {
     "name": "stdout",
     "output_type": "stream",
     "text": [
      "16\n"
     ]
    }
   ],
   "source": [
    "cube = np.array([[[1, 2, 3],\n",
    "                  [4, 5, 6],\n",
    "                  [7, 8, 9]],\n",
    "                 \n",
    "                 [[10, 11, 12],\n",
    "                  [13, 14, 15],\n",
    "                  [16, 17, 18]]])\n",
    "\n",
    "print(cube[1, 2, 0])"
   ]
  },
  {
   "cell_type": "markdown",
   "id": "3c30b290-fb95-4e2c-aa34-5fe4e8e7ab48",
   "metadata": {},
   "source": [
    "### 3. Slicing Arrays\n",
    "It allows us to extract a range of elements using the format start:stop:step. This can be done for both 1D and multidimensional arrays which allows us to select ranges of elements or submatrices easily.\n",
    "\n",
    "Slicing 1D Arrays: For a 1D array, slicing returns a subset of elements between the start and stop indices."
   ]
  },
  {
   "cell_type": "code",
   "execution_count": 17,
   "id": "c81d221b-9e3a-4636-8f6b-be235c4942ea",
   "metadata": {},
   "outputs": [
    {
     "name": "stdout",
     "output_type": "stream",
     "text": [
      "[1 2 3]\n"
     ]
    }
   ],
   "source": [
    "arr = np.array([0, 1, 2, 3, 4, 5])\n",
    "\n",
    "print(arr[1:4])"
   ]
  },
  {
   "cell_type": "markdown",
   "id": "9f5414c6-4de3-4eb4-82ae-0ea0e3bd5099",
   "metadata": {},
   "source": [
    "Slicing Multidimensional Arrays: In this slicing can be applied to each dimension separately which allows us to extract submatrices or smaller blocks of data."
   ]
  },
  {
   "cell_type": "code",
   "execution_count": 18,
   "id": "a53ae3a1-0490-46be-a4d4-31ebf509495a",
   "metadata": {},
   "outputs": [
    {
     "name": "stdout",
     "output_type": "stream",
     "text": [
      "[[2 3]\n",
      " [5 6]]\n"
     ]
    }
   ],
   "source": [
    "matrix = np.array([[1, 2, 3], [4, 5, 6], [7, 8, 9]])\n",
    "\n",
    "print(matrix[0:2, 1:3])"
   ]
  },
  {
   "cell_type": "markdown",
   "id": "a4d894ea-bca5-4096-9113-7bc945a08420",
   "metadata": {},
   "source": [
    "### 4. Boolean Indexing\n",
    "It allows us to filter elements from an array based on a condition and returns only those that meet it. We create a boolean array from a condition and use it to select elements and can combine conditions with logical operators.\n",
    "\n",
    "\n",
    "\n",
    "\n"
   ]
  },
  {
   "cell_type": "code",
   "execution_count": 20,
   "id": "193bf082-0da6-4cfa-af92-f3f2cd550176",
   "metadata": {},
   "outputs": [
    {
     "data": {
      "text/plain": [
       "array([ 2,  4,  6,  8, 10, 12, 14, 16, 18])"
      ]
     },
     "execution_count": 20,
     "metadata": {},
     "output_type": "execute_result"
    }
   ],
   "source": [
    "arr=np.arange(1,20)\n",
    "even_arr=arr[arr%2==0]\n",
    "even_arr"
   ]
  },
  {
   "cell_type": "markdown",
   "id": "ae777b26-36d0-46c2-9bd6-36a6583d06c8",
   "metadata": {},
   "source": [
    "The condition arr > 20 returns True for elements greater than 20 so only 25 and 30 are selected and printed.  \n",
    "\n",
    "We can also use logical operators like & (AND), | (OR) and ~ (NOT) to combine conditions."
   ]
  },
  {
   "cell_type": "code",
   "execution_count": 22,
   "id": "208a61b0-3904-4c3b-b110-49b6be06fe20",
   "metadata": {},
   "outputs": [
    {
     "data": {
      "text/plain": [
       "array([2, 4, 6, 8])"
      ]
     },
     "execution_count": 22,
     "metadata": {},
     "output_type": "execute_result"
    }
   ],
   "source": [
    "even_arr=arr[(arr%2==0) & (arr<10)]\n",
    "even_arr"
   ]
  },
  {
   "cell_type": "markdown",
   "id": "8d9cda66-2e0a-46c3-a5a8-5946853b6d30",
   "metadata": {},
   "source": [
    "### 5. Fancy Indexing\n",
    "It is also known as Advanced Indexing which allows us access elements of an array by using another array or list of indices. This allows selecting multiple elements at once even if they are not next to each other which makes it easy to pick specific values from different positions in the array."
   ]
  },
  {
   "cell_type": "code",
   "execution_count": 26,
   "id": "8ed4f560-ffcc-4994-9400-b33422b92f31",
   "metadata": {},
   "outputs": [
    {
     "name": "stdout",
     "output_type": "stream",
     "text": [
      "[10 30 50]\n"
     ]
    }
   ],
   "source": [
    "arr = np.array([10, 20, 30, 40, 50])\n",
    "indices = [0, 2, 4]\n",
    "print(arr[indices])"
   ]
  },
  {
   "cell_type": "markdown",
   "id": "09354f95-7c0e-410f-94c3-54286475ff99",
   "metadata": {},
   "source": [
    "### 6. Integer Array Indexing\n",
    "It is similar to fancy indexing and uses an array of integers to select multiple elements from another array. This method allows us to access elements at specific, non-adjacent positions which makes it useful for extracting scattered data points."
   ]
  },
  {
   "cell_type": "code",
   "execution_count": 24,
   "id": "002ed992-ebab-4fb4-828c-37f2627c0b1e",
   "metadata": {},
   "outputs": [
    {
     "name": "stdout",
     "output_type": "stream",
     "text": [
      "[1 3 5]\n"
     ]
    }
   ],
   "source": [
    "arr = np.array([1, 2, 3, 4, 5])\n",
    "print(arr[[0, 2, 4]])"
   ]
  },
  {
   "cell_type": "markdown",
   "id": "cff19fe3-0532-4ede-9bd0-59fd7530a06c",
   "metadata": {},
   "source": [
    "### 7. Modifying Array Elements\n",
    "We can modify array elements directly by using indexing or slicing. This makes it easy to update specific elements or ranges of elements in an array."
   ]
  },
  {
   "cell_type": "code",
   "execution_count": 27,
   "id": "551f1c4c-21f1-4ead-b14c-a754173ed890",
   "metadata": {},
   "outputs": [
    {
     "name": "stdout",
     "output_type": "stream",
     "text": [
      "[ 1 99 99  4]\n"
     ]
    }
   ],
   "source": [
    "arr = np.array([1, 2, 3, 4])\n",
    "\n",
    "arr[1:3] = 99\n",
    "\n",
    "print(arr)"
   ]
  },
  {
   "cell_type": "code",
   "execution_count": null,
   "id": "f6802180-db6d-415a-abd0-7face6511085",
   "metadata": {},
   "outputs": [],
   "source": []
  }
 ],
 "metadata": {
  "kernelspec": {
   "display_name": "Python 3 (ipykernel)",
   "language": "python",
   "name": "python3"
  },
  "language_info": {
   "codemirror_mode": {
    "name": "ipython",
    "version": 3
   },
   "file_extension": ".py",
   "mimetype": "text/x-python",
   "name": "python",
   "nbconvert_exporter": "python",
   "pygments_lexer": "ipython3",
   "version": "3.13.5"
  }
 },
 "nbformat": 4,
 "nbformat_minor": 5
}
