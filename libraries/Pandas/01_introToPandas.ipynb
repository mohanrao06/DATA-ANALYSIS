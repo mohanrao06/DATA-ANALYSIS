{
 "cells": [
  {
   "cell_type": "markdown",
   "id": "bf24a7b0-ecc8-4858-878b-8154d3aeb4f8",
   "metadata": {},
   "source": [
    "Pandas is open-source Python library which is used for data manipulation and analysis. It consist of data structures and functions to perform efficient operations on data. It is well-suited for working with tabular data such as spreadsheets or SQL tables. It is used in data science because it works well with other important libraries. It is built on top of the NumPy library as it makes easier to manipulate and analyze. Pandas is used in other libraries such as:\n",
    "* Matplotlib for plotting graphs\n",
    "* SciPy for statistical analysis\n",
    "* Scikit-learn for machine learning algorithms.\n",
    "* It uses many functionalities provided by NumPy library.\n",
    "  \n",
    "Here is a various tasks that we can do using Pandas:\n",
    "\n",
    "* Data Cleaning, Merging and Joining: Clean and combine data from multiple sources, handling inconsistencies and duplicates.\n",
    "* Handling Missing Data: Manage missing values (NaN) in both floating and non-floating point data.\n",
    "* Column Insertion and Deletion: Easily add, remove or modify columns in a DataFrame.\n",
    "* Group By Operations: Use \"split-apply-combine\" to group and analyze data.\n",
    "* Data Visualization: Create visualizations with Matplotlib and Seaborn, integrated with Pandas"
   ]
  },
  {
   "cell_type": "markdown",
   "id": "673e3076-769b-4acf-82cf-ee010ac36c28",
   "metadata": {},
   "source": [
    "### 1. Pandas Series\n",
    "A Pandas Series is one-dimensional labeled array capable of holding data of any type (integer, string, float, Python objects etc.). The axis labels are collectively called indexes.\n",
    "\n",
    "Pandas Series is created by loading the datasets from existing storage which can be a SQL database, a CSV file or an Excel file. It can be created from lists, dictionaries, scalar values, etc.\n",
    "\n",
    "Example: Creating a series using the Pandas Library."
   ]
  },
  {
   "cell_type": "code",
   "execution_count": 1,
   "id": "65686a56-7000-44a7-a279-88d1ea96256f",
   "metadata": {},
   "outputs": [
    {
     "name": "stdout",
     "output_type": "stream",
     "text": [
      "Pandas Series:  Series([], dtype: object)\n",
      "Pandas Series:\n",
      " 0    g\n",
      "1    e\n",
      "2    e\n",
      "3    k\n",
      "4    s\n",
      "dtype: object\n"
     ]
    }
   ],
   "source": [
    "import pandas as pd \n",
    "import numpy as np\n",
    "\n",
    "ser = pd.Series() \n",
    "print(\"Pandas Series: \", ser) \n",
    "\n",
    "data = np.array(['g', 'e', 'e', 'k', 's']) \n",
    "  \n",
    "ser = pd.Series(data) \n",
    "print(\"Pandas Series:\\n\", ser)"
   ]
  },
  {
   "cell_type": "code",
   "execution_count": 10,
   "id": "3fce143e-7123-408c-b6ce-3f79a9d35d33",
   "metadata": {},
   "outputs": [
    {
     "name": "stdout",
     "output_type": "stream",
     "text": [
      "Empty DataFrame\n",
      "Columns: []\n",
      "Index: []\n"
     ]
    },
    {
     "data": {
      "text/html": [
       "<div>\n",
       "<style scoped>\n",
       "    .dataframe tbody tr th:only-of-type {\n",
       "        vertical-align: middle;\n",
       "    }\n",
       "\n",
       "    .dataframe tbody tr th {\n",
       "        vertical-align: top;\n",
       "    }\n",
       "\n",
       "    .dataframe thead th {\n",
       "        text-align: right;\n",
       "    }\n",
       "</style>\n",
       "<table border=\"1\" class=\"dataframe\">\n",
       "  <thead>\n",
       "    <tr style=\"text-align: right;\">\n",
       "      <th></th>\n",
       "      <th>0</th>\n",
       "    </tr>\n",
       "  </thead>\n",
       "  <tbody>\n",
       "    <tr>\n",
       "      <th>0</th>\n",
       "      <td>Geeks</td>\n",
       "    </tr>\n",
       "    <tr>\n",
       "      <th>1</th>\n",
       "      <td>For</td>\n",
       "    </tr>\n",
       "    <tr>\n",
       "      <th>2</th>\n",
       "      <td>Geeks</td>\n",
       "    </tr>\n",
       "    <tr>\n",
       "      <th>3</th>\n",
       "      <td>is</td>\n",
       "    </tr>\n",
       "    <tr>\n",
       "      <th>4</th>\n",
       "      <td>portal</td>\n",
       "    </tr>\n",
       "    <tr>\n",
       "      <th>5</th>\n",
       "      <td>for</td>\n",
       "    </tr>\n",
       "    <tr>\n",
       "      <th>6</th>\n",
       "      <td>Geeks</td>\n",
       "    </tr>\n",
       "  </tbody>\n",
       "</table>\n",
       "</div>"
      ],
      "text/plain": [
       "        0\n",
       "0   Geeks\n",
       "1     For\n",
       "2   Geeks\n",
       "3      is\n",
       "4  portal\n",
       "5     for\n",
       "6   Geeks"
      ]
     },
     "execution_count": 10,
     "metadata": {},
     "output_type": "execute_result"
    }
   ],
   "source": [
    "df = pd.DataFrame() \n",
    "print(df)\n",
    "\n",
    "lst = ['Geeks', 'For', 'Geeks', 'is', 'portal', 'for', 'Geeks'] \n",
    "  \n",
    "df = pd.DataFrame(lst) \n",
    "df"
   ]
  },
  {
   "cell_type": "markdown",
   "id": "c7f38f2f-2cd6-44da-bc7a-cd6a52ad0a4a",
   "metadata": {},
   "source": [
    "Pandas Series is a one-dimensional labeled array that can hold data of any type (integer, float, string, Python objects, etc.). It is similar to a column in an Excel spreadsheet or a database table. In this article we will study Pandas Series which is a useful one-dimensional data structure in Python.\n",
    "\n",
    "Key Features of Pandas Series:\n",
    "\n",
    "* Supports integer-based and label-based indexing.\n",
    "* Stores heterogeneous data types.\n",
    "* Offers a variety of built-in methods for data manipulation and analysis."
   ]
  },
  {
   "cell_type": "markdown",
   "id": "75435511-7853-4eac-83c6-d364958410d3",
   "metadata": {},
   "source": [
    "### Creating a Pandas Series\n",
    "A Pandas Series can be created from different data structures such as lists, NumPy arrays, dictionaries or scalar value."
   ]
  },
  {
   "cell_type": "code",
   "execution_count": 12,
   "id": "7a778b9d-94de-47c6-ae74-cfd366956e53",
   "metadata": {},
   "outputs": [
    {
     "data": {
      "text/plain": [
       "0    1\n",
       "1    2\n",
       "2    3\n",
       "3    4\n",
       "dtype: int64"
      ]
     },
     "execution_count": 12,
     "metadata": {},
     "output_type": "execute_result"
    }
   ],
   "source": [
    "data = [1, 2, 3, 4]\n",
    " \n",
    "ser = pd.Series(data)\n",
    "ser"
   ]
  },
  {
   "cell_type": "markdown",
   "id": "f6d2d81d-909c-493d-805e-55502cdfbe77",
   "metadata": {},
   "source": [
    "### Accessing element of Series\n",
    "In Pandas we can access element of series using two ways:\n",
    "\n",
    "* Position-based Indexing - In this we use numerical positions similar to lists in Python.\n",
    "* Label-based Indexing - This method also custom index labels assigned to elements."
   ]
  },
  {
   "cell_type": "markdown",
   "id": "bd73acbe-9f92-4ed2-86d2-05a388446f47",
   "metadata": {},
   "source": [
    "#### 1. Position-based Indexing\n",
    "In order to access the series element refers to the index number. Use the index operator []to access an element in a series. The index must be an integer. In order to access multiple elements from a series we use Slice operation."
   ]
  },
  {
   "cell_type": "code",
   "execution_count": 15,
   "id": "9e6369a0-6c5a-4b22-8298-007120c01d09",
   "metadata": {},
   "outputs": [
    {
     "name": "stdout",
     "output_type": "stream",
     "text": [
      "0    g\n",
      "1    e\n",
      "2    e\n",
      "3    k\n",
      "4    s\n",
      "5    f\n",
      "dtype: object\n"
     ]
    }
   ],
   "source": [
    "data = np.array(['g','e','e','k','s','f', 'o','r','g','e','e','k','s'])\n",
    "ser = pd.Series(data)\n",
    "\n",
    "print(ser[:6])"
   ]
  },
  {
   "cell_type": "markdown",
   "id": "b81ed188-ae40-48fb-a303-fcbe77eece7a",
   "metadata": {},
   "source": [
    "#### 2. Label-based Indexing\n",
    "In order to access an element from series, we have to set values by index label. A Series is like a fixed-size dictionary in that we can get and set values by index label. let's see a example to understand this"
   ]
  },
  {
   "cell_type": "code",
   "execution_count": 17,
   "id": "4c1cfed3-9284-4045-ae33-e682cba77d66",
   "metadata": {},
   "outputs": [
    {
     "name": "stdout",
     "output_type": "stream",
     "text": [
      "g\n"
     ]
    }
   ],
   "source": [
    "data = np.array(['g','e','e','k','s','f', 'o','r','g','e','e','k','s'])\n",
    "ser = pd.Series(data,index=[10,11,12,13,14,15,16,17,18,19,20,21,22])\n",
    "\n",
    "print(ser[18])"
   ]
  },
  {
   "cell_type": "markdown",
   "id": "c4c1adab-5c43-4ab5-95d4-e8728524d932",
   "metadata": {},
   "source": [
    "### Indexing and Selecting Data in Series\n",
    "Indexing in pandas means simply selecting particular data from a Series. Indexing could mean selecting all the data some of the data from particular columns. Indexing can also be known as Subset Selection. We can use .iloc[] for position-based selection and .loc[] for label-based selection."
   ]
  },
  {
   "cell_type": "markdown",
   "id": "73fc2f92-8577-4ffc-862f-91997670e09a",
   "metadata": {},
   "source": [
    "#### 1. Indexing a Series using .loc[]\n",
    "This function selects data by refering the explicit index . The df.loc indexer selects data in a different way than just the indexing operator. It can select subsets of data. You can download dataset from here."
   ]
  },
  {
   "cell_type": "code",
   "execution_count": 31,
   "id": "9d658cb5-c38a-4b1c-84e3-7e5c23326dd9",
   "metadata": {},
   "outputs": [
    {
     "data": {
      "text/plain": [
       "0       Jai\n",
       "1    Princi\n",
       "2    Gaurav\n",
       "3      Anuj\n",
       "Name: Name, dtype: object"
      ]
     },
     "execution_count": 31,
     "metadata": {},
     "output_type": "execute_result"
    }
   ],
   "source": [
    "nba_data=pd.read_csv(\"nba.csv\")\n",
    "ser=pd.Series(df['Name'])\n",
    "data=ser.head(10)\n",
    "data"
   ]
  },
  {
   "cell_type": "code",
   "execution_count": 21,
   "id": "1788320f-1fd1-41e6-bbd0-b301fcf8f8c4",
   "metadata": {},
   "outputs": [
    {
     "data": {
      "text/plain": [
       "3      R.J. Hunter\n",
       "4    Jonas Jerebko\n",
       "5     Amir Johnson\n",
       "6    Jordan Mickey\n",
       "Name: Name, dtype: object"
      ]
     },
     "execution_count": 21,
     "metadata": {},
     "output_type": "execute_result"
    }
   ],
   "source": [
    "data.loc[3:6]"
   ]
  },
  {
   "cell_type": "markdown",
   "id": "ea0b9c08-9032-496f-b886-50f8ca657fb7",
   "metadata": {},
   "source": [
    "#### 2. Indexing a Series using .iloc[]\n",
    ".iloc[] function allows us to retrieve data by position. In order to do that we’ll need to specify the positions of the data that we want. The df.iloc indexer is very similar to df.loc but only uses integer locations to make its selections."
   ]
  },
  {
   "cell_type": "code",
   "execution_count": 22,
   "id": "7919da19-bd73-4ef9-b84f-134ffc589d5c",
   "metadata": {},
   "outputs": [
    {
     "data": {
      "text/plain": [
       "3      R.J. Hunter\n",
       "4    Jonas Jerebko\n",
       "5     Amir Johnson\n",
       "Name: Name, dtype: object"
      ]
     },
     "execution_count": 22,
     "metadata": {},
     "output_type": "execute_result"
    }
   ],
   "source": [
    "data.iloc[3:6]"
   ]
  },
  {
   "cell_type": "markdown",
   "id": "90ddd91c-9c3a-4e96-bc8e-c6ece91b3754",
   "metadata": {},
   "source": [
    "### Binary Operations on Pandas Series\n",
    "Pandas allows performing binary operations on Series, such as addition, subtraction, multiplication and division. These operations can be performed using functions like .add() , .sub(), .mul() and .div().\n",
    "\n",
    "Example: Performing Binary Operations"
   ]
  },
  {
   "cell_type": "code",
   "execution_count": 23,
   "id": "d6fb86b5-a092-48b6-95b5-af6e500a2c4a",
   "metadata": {},
   "outputs": [
    {
     "name": "stdout",
     "output_type": "stream",
     "text": [
      "A    5\n",
      "B    7\n",
      "C    9\n",
      "dtype: int64\n"
     ]
    }
   ],
   "source": [
    "ser1 = pd.Series([1, 2, 3], index=['A', 'B', 'C'])\n",
    "ser2 = pd.Series([4, 5, 6], index=['A', 'B', 'C'])\n",
    "\n",
    "df_sum = ser1.add(ser2)\n",
    "print(df_sum)"
   ]
  },
  {
   "cell_type": "markdown",
   "id": "7ec9a7bc-cbd7-4c7e-b82a-9529b65cd625",
   "metadata": {},
   "source": [
    "#### Common Binary Operations  \n",
    "\n",
    "sub()\t-> Method is used to subtract series or list like objects with same length from the caller series    \n",
    "mul()\t-> Method is used to multiply series or list like objects with same length with the caller series  \n",
    "div()\t-> Method is used to divide series or list like objects with same length by the caller series  \n",
    "sum()\t-> Returns the sum of the values for the requested axis  \n",
    "prod()\t-> Returns the product of the values for the requested axis  \n",
    "mean()\t-> Returns the mean of the values for the requested axis  \n",
    "pow()\t-> Method is used to put each element of passed series as exponential power of caller series and returned the results  \n",
    "abs()\t-> Method is used to get the absolute numeric value of each element in Series/DataFrame  \n",
    "cov()\t-> Method is used to find covariance of two series   "
   ]
  },
  {
   "cell_type": "markdown",
   "id": "f71dc7ac-d1f4-4da1-b6f2-e094c1831261",
   "metadata": {},
   "source": [
    "### Conversion Operation on Series\n",
    "Conversion operations allow transforming data types within a Series. This can be useful for ensuring consistency in data types. In order to perform conversion operation we have various function which help in conversion like .astype(), .tolist() etc"
   ]
  },
  {
   "cell_type": "code",
   "execution_count": 24,
   "id": "65b7667b-892f-4c55-a859-ec43754d054f",
   "metadata": {},
   "outputs": [
    {
     "name": "stdout",
     "output_type": "stream",
     "text": [
      "0    1.0\n",
      "1    2.0\n",
      "2    3.0\n",
      "3    4.0\n",
      "dtype: float64\n"
     ]
    }
   ],
   "source": [
    "ser = pd.Series([1, 2, 3, 4])\n",
    "ser = ser.astype(float)\n",
    "print(ser)"
   ]
  },
  {
   "cell_type": "markdown",
   "id": "9aea5a60-042f-4b0e-b52c-4512994ea64b",
   "metadata": {},
   "source": [
    "A Pandas DataFrame is a two-dimensional table-like structure in Python where data is arranged in rows and columns. It’s one of the most commonly used tools for handling data and makes it easy to organize, analyze and manipulate data. It can store different types of data such as numbers, text and dates across its columns. The main parts of a DataFrame are:\n",
    "\n",
    "* Data: Actual values in the table.\n",
    "* Rows: Labels that identify each row.\n",
    "* Columns: Labels that define each data category.  \n",
    "In this article, we’ll see the key components of a DataFrame and see how to work with it to make data analysis easier and more efficient."
   ]
  },
  {
   "cell_type": "markdown",
   "id": "8ff7661d-02d6-47d0-8d70-423764270884",
   "metadata": {},
   "source": [
    "### Creating a Pandas DataFrame\n",
    "Pandas allows us to create a DataFrame from many data sources. We can create DataFrames directly from Python objects like lists and dictionaries or by reading data from external files like CSV, Excel or SQL databases."
   ]
  },
  {
   "cell_type": "markdown",
   "id": "6929a347-e0fa-4ef9-9aaf-f1402bb5baa6",
   "metadata": {},
   "source": [
    "#### 1. Creating DataFrame using a List\n",
    "If we have a simple list of data, we can easily create a DataFrame by passing that list to the pd.DataFrame() function."
   ]
  },
  {
   "cell_type": "code",
   "execution_count": 26,
   "id": "c0812b41-30e4-4af1-a5a5-0917e8331664",
   "metadata": {},
   "outputs": [
    {
     "data": {
      "text/html": [
       "<div>\n",
       "<style scoped>\n",
       "    .dataframe tbody tr th:only-of-type {\n",
       "        vertical-align: middle;\n",
       "    }\n",
       "\n",
       "    .dataframe tbody tr th {\n",
       "        vertical-align: top;\n",
       "    }\n",
       "\n",
       "    .dataframe thead th {\n",
       "        text-align: right;\n",
       "    }\n",
       "</style>\n",
       "<table border=\"1\" class=\"dataframe\">\n",
       "  <thead>\n",
       "    <tr style=\"text-align: right;\">\n",
       "      <th></th>\n",
       "      <th>0</th>\n",
       "    </tr>\n",
       "  </thead>\n",
       "  <tbody>\n",
       "    <tr>\n",
       "      <th>0</th>\n",
       "      <td>Geeks</td>\n",
       "    </tr>\n",
       "    <tr>\n",
       "      <th>1</th>\n",
       "      <td>For</td>\n",
       "    </tr>\n",
       "    <tr>\n",
       "      <th>2</th>\n",
       "      <td>Geeks</td>\n",
       "    </tr>\n",
       "    <tr>\n",
       "      <th>3</th>\n",
       "      <td>is</td>\n",
       "    </tr>\n",
       "    <tr>\n",
       "      <th>4</th>\n",
       "      <td>portal</td>\n",
       "    </tr>\n",
       "    <tr>\n",
       "      <th>5</th>\n",
       "      <td>for</td>\n",
       "    </tr>\n",
       "    <tr>\n",
       "      <th>6</th>\n",
       "      <td>Geeks</td>\n",
       "    </tr>\n",
       "  </tbody>\n",
       "</table>\n",
       "</div>"
      ],
      "text/plain": [
       "        0\n",
       "0   Geeks\n",
       "1     For\n",
       "2   Geeks\n",
       "3      is\n",
       "4  portal\n",
       "5     for\n",
       "6   Geeks"
      ]
     },
     "execution_count": 26,
     "metadata": {},
     "output_type": "execute_result"
    }
   ],
   "source": [
    "lst = ['Geeks', 'For', 'Geeks', 'is', \n",
    "            'portal', 'for', 'Geeks']\n",
    "\n",
    "df = pd.DataFrame(lst)\n",
    "df"
   ]
  },
  {
   "cell_type": "markdown",
   "id": "61e5e30b-b84e-40b3-81c3-742ba6a14247",
   "metadata": {},
   "source": [
    "#### 2. Creating DataFrame from dict of ndarray/lists\n",
    "We can create a DataFrame from a dictionary where the keys are column names and the values are lists or arrays.\n",
    "\n",
    "* All arrays/lists must have the same length.\n",
    "* If an index is provided, it must match the length of the arrays.\n",
    "* If no index is provided, Pandas will use a default range index (0, 1, 2, …)."
   ]
  },
  {
   "cell_type": "code",
   "execution_count": 27,
   "id": "c3786600-f824-4208-b2a3-093c77e9f748",
   "metadata": {},
   "outputs": [
    {
     "data": {
      "text/html": [
       "<div>\n",
       "<style scoped>\n",
       "    .dataframe tbody tr th:only-of-type {\n",
       "        vertical-align: middle;\n",
       "    }\n",
       "\n",
       "    .dataframe tbody tr th {\n",
       "        vertical-align: top;\n",
       "    }\n",
       "\n",
       "    .dataframe thead th {\n",
       "        text-align: right;\n",
       "    }\n",
       "</style>\n",
       "<table border=\"1\" class=\"dataframe\">\n",
       "  <thead>\n",
       "    <tr style=\"text-align: right;\">\n",
       "      <th></th>\n",
       "      <th>Name</th>\n",
       "      <th>Age</th>\n",
       "    </tr>\n",
       "  </thead>\n",
       "  <tbody>\n",
       "    <tr>\n",
       "      <th>0</th>\n",
       "      <td>Tom</td>\n",
       "      <td>20</td>\n",
       "    </tr>\n",
       "    <tr>\n",
       "      <th>1</th>\n",
       "      <td>nick</td>\n",
       "      <td>21</td>\n",
       "    </tr>\n",
       "    <tr>\n",
       "      <th>2</th>\n",
       "      <td>krish</td>\n",
       "      <td>19</td>\n",
       "    </tr>\n",
       "    <tr>\n",
       "      <th>3</th>\n",
       "      <td>jack</td>\n",
       "      <td>18</td>\n",
       "    </tr>\n",
       "  </tbody>\n",
       "</table>\n",
       "</div>"
      ],
      "text/plain": [
       "    Name  Age\n",
       "0    Tom   20\n",
       "1   nick   21\n",
       "2  krish   19\n",
       "3   jack   18"
      ]
     },
     "execution_count": 27,
     "metadata": {},
     "output_type": "execute_result"
    }
   ],
   "source": [
    "data = {'Name':['Tom', 'nick', 'krish', 'jack'],\n",
    "        'Age':[20, 21, 19, 18]}\n",
    " \n",
    "df = pd.DataFrame(data)\n",
    " \n",
    "df"
   ]
  },
  {
   "cell_type": "markdown",
   "id": "85d7866f-1866-4ea2-9444-3f49205aa6f1",
   "metadata": {},
   "source": [
    "### Working With Rows and Columns in Pandas DataFrame\n",
    "We can perform basic operations on rows/columns like selecting, deleting, adding and renaming."
   ]
  },
  {
   "cell_type": "markdown",
   "id": "8597c895-a0e6-4bd8-99f8-a5a5a4ea14ea",
   "metadata": {},
   "source": [
    "#### 1. Column Selection\n",
    "In Order to select a column in Pandas DataFrame, we can either access the columns by calling them by their columns name."
   ]
  },
  {
   "cell_type": "code",
   "execution_count": 29,
   "id": "015d19a5-9498-4766-9d53-4a410748b834",
   "metadata": {},
   "outputs": [
    {
     "data": {
      "text/html": [
       "<div>\n",
       "<style scoped>\n",
       "    .dataframe tbody tr th:only-of-type {\n",
       "        vertical-align: middle;\n",
       "    }\n",
       "\n",
       "    .dataframe tbody tr th {\n",
       "        vertical-align: top;\n",
       "    }\n",
       "\n",
       "    .dataframe thead th {\n",
       "        text-align: right;\n",
       "    }\n",
       "</style>\n",
       "<table border=\"1\" class=\"dataframe\">\n",
       "  <thead>\n",
       "    <tr style=\"text-align: right;\">\n",
       "      <th></th>\n",
       "      <th>Name</th>\n",
       "      <th>Qualification</th>\n",
       "    </tr>\n",
       "  </thead>\n",
       "  <tbody>\n",
       "    <tr>\n",
       "      <th>0</th>\n",
       "      <td>Jai</td>\n",
       "      <td>Msc</td>\n",
       "    </tr>\n",
       "    <tr>\n",
       "      <th>1</th>\n",
       "      <td>Princi</td>\n",
       "      <td>MA</td>\n",
       "    </tr>\n",
       "    <tr>\n",
       "      <th>2</th>\n",
       "      <td>Gaurav</td>\n",
       "      <td>MCA</td>\n",
       "    </tr>\n",
       "    <tr>\n",
       "      <th>3</th>\n",
       "      <td>Anuj</td>\n",
       "      <td>Phd</td>\n",
       "    </tr>\n",
       "  </tbody>\n",
       "</table>\n",
       "</div>"
      ],
      "text/plain": [
       "     Name Qualification\n",
       "0     Jai           Msc\n",
       "1  Princi            MA\n",
       "2  Gaurav           MCA\n",
       "3    Anuj           Phd"
      ]
     },
     "execution_count": 29,
     "metadata": {},
     "output_type": "execute_result"
    }
   ],
   "source": [
    "data = {'Name':['Jai', 'Princi', 'Gaurav', 'Anuj'],\n",
    "        'Age':[27, 24, 22, 32],\n",
    "        'Address':['Delhi', 'Kanpur', 'Allahabad', 'Kannauj'],\n",
    "        'Qualification':['Msc', 'MA', 'MCA', 'Phd']}\n",
    " \n",
    "df = pd.DataFrame(data)\n",
    "df[['Name', 'Qualification']]"
   ]
  },
  {
   "cell_type": "markdown",
   "id": "6c69fda0-52fd-4d50-bd8f-fd27d2e84189",
   "metadata": {},
   "source": [
    "#### 2. Row Selection\n",
    "Pandas provide unique methods for selecting rows from a Data frame. DataFrame.loc[] method is used for label-based selection\n",
    "\n",
    "Here we’ll be using nba.csv dataset in below examples for better understanding.\n",
    "\n",
    "\n",
    "\n",
    "\n"
   ]
  },
  {
   "cell_type": "code",
   "execution_count": 46,
   "id": "3e8fe991-4ad7-4c71-8c57-78f21f7750db",
   "metadata": {},
   "outputs": [
    {
     "name": "stdout",
     "output_type": "stream",
     "text": [
      "Team        Boston Celtics\n",
      "Number                 0.0\n",
      "Position                PG\n",
      "Age                   25.0\n",
      "Height                 6-2\n",
      "Weight               180.0\n",
      "College              Texas\n",
      "Salary           7730337.0\n",
      "Name: Avery Bradley, dtype: object \n",
      "\n",
      "\n",
      " Team        Boston Celtics\n",
      "Number                28.0\n",
      "Position                SG\n",
      "Age                   22.0\n",
      "Height                 6-5\n",
      "Weight               185.0\n",
      "College      Georgia State\n",
      "Salary           1148640.0\n",
      "Name: R.J. Hunter, dtype: object\n"
     ]
    }
   ],
   "source": [
    "data=pd.read_csv(\"nba.csv\",index_col=\"Name\")\n",
    "\n",
    "first=data.loc[\"Avery Bradley\"]\n",
    "second=data.loc[\"R.J. Hunter\"]\n",
    "print(first, \"\\n\\n\\n\", second)"
   ]
  },
  {
   "cell_type": "markdown",
   "id": "48271746-522c-41a2-b0fc-d6470efabb85",
   "metadata": {},
   "source": [
    "### Indexing and Selecting Data in Pandas DataFrame\n",
    "Indexing in pandas means simply selecting particular rows and columns of data from a DataFrame. It allows us to access subsets of data such as:\n",
    "\n",
    "* Selecting all rows and some columns.\n",
    "* Selecting some rows and all columns.\n",
    "* Selecting a specific subset of rows and columns.\n",
    "* Indexing can also be known as Subset Selection."
   ]
  },
  {
   "cell_type": "markdown",
   "id": "191f9c10-8cad-4cef-b851-6e5e3383a7ba",
   "metadata": {},
   "source": [
    "#### 1. Indexing a Dataframe using indexing operator [] \n",
    "The indexing operator [] is the basic way to select data in Pandas. We can use this operator to access columns from a DataFrame. This method allows us to retrieve one or more columns. The .loc and .iloc indexers also use the indexing operator to make selections.\n",
    "\n",
    "In order to select a single column, we simply put the name of the column in-between the brackets."
   ]
  },
  {
   "cell_type": "code",
   "execution_count": 48,
   "id": "869c8ba4-0a62-412a-909a-99296ea7c146",
   "metadata": {},
   "outputs": [
    {
     "data": {
      "text/plain": [
       "Name\n",
       "Avery Bradley    25.0\n",
       "Jae Crowder      25.0\n",
       "John Holland     27.0\n",
       "R.J. Hunter      22.0\n",
       "Jonas Jerebko    29.0\n",
       "Name: Age, dtype: float64"
      ]
     },
     "execution_count": 48,
     "metadata": {},
     "output_type": "execute_result"
    }
   ],
   "source": [
    "age=data['Age']\n",
    "age.head()"
   ]
  },
  {
   "cell_type": "markdown",
   "id": "38511713-138f-4994-8a2c-2edb49f9f0de",
   "metadata": {},
   "source": [
    "#### 2. Indexing a DataFrame using .loc[ ]\n",
    "The .loc method is used to select data by label. This means it uses the row and column labels to access specific data points. .loc[] is versatile because it can select both rows and columns simultaneously based on labels.\n",
    "\n",
    "In order to select a single row using .loc[], we put a single row label in a .loc function."
   ]
  },
  {
   "cell_type": "code",
   "execution_count": 49,
   "id": "3eb1f868-3fd2-406d-8434-3702ff62864d",
   "metadata": {},
   "outputs": [
    {
     "name": "stdout",
     "output_type": "stream",
     "text": [
      "Team        Boston Celtics\n",
      "Number                 0.0\n",
      "Position                PG\n",
      "Age                   25.0\n",
      "Height                 6-2\n",
      "Weight               180.0\n",
      "College              Texas\n",
      "Salary           7730337.0\n",
      "Name: Avery Bradley, dtype: object \n",
      "\n",
      "\n",
      " Team        Boston Celtics\n",
      "Number                28.0\n",
      "Position                SG\n",
      "Age                   22.0\n",
      "Height                 6-5\n",
      "Weight               185.0\n",
      "College      Georgia State\n",
      "Salary           1148640.0\n",
      "Name: R.J. Hunter, dtype: object\n"
     ]
    }
   ],
   "source": [
    "first = data.loc[\"Avery Bradley\"]\n",
    "second = data.loc[\"R.J. Hunter\"]\n",
    " \n",
    "print(first, \"\\n\\n\\n\", second)"
   ]
  },
  {
   "cell_type": "markdown",
   "id": "60eb8015-b452-4a5a-ad5e-dd8e47f8344c",
   "metadata": {},
   "source": [
    "#### 3. Indexing a DataFrame using .iloc[ ] \n",
    "The .iloc() method allows us to select data based on integer position. Unlike .loc[] (which uses labels) .iloc[] requires us to specify row and column positions as integers (0-based indexing).\n",
    "\n",
    "In order to select a single row using .iloc[], we can pass a single integer to .iloc[] function."
   ]
  },
  {
   "cell_type": "code",
   "execution_count": 53,
   "id": "86d5e07c-d01b-4015-9c97-fdec7a13a17f",
   "metadata": {},
   "outputs": [
    {
     "data": {
      "text/html": [
       "<div>\n",
       "<style scoped>\n",
       "    .dataframe tbody tr th:only-of-type {\n",
       "        vertical-align: middle;\n",
       "    }\n",
       "\n",
       "    .dataframe tbody tr th {\n",
       "        vertical-align: top;\n",
       "    }\n",
       "\n",
       "    .dataframe thead th {\n",
       "        text-align: right;\n",
       "    }\n",
       "</style>\n",
       "<table border=\"1\" class=\"dataframe\">\n",
       "  <thead>\n",
       "    <tr style=\"text-align: right;\">\n",
       "      <th></th>\n",
       "      <th>Team</th>\n",
       "      <th>Number</th>\n",
       "      <th>Position</th>\n",
       "      <th>Age</th>\n",
       "      <th>Height</th>\n",
       "      <th>Weight</th>\n",
       "      <th>College</th>\n",
       "      <th>Salary</th>\n",
       "    </tr>\n",
       "    <tr>\n",
       "      <th>Name</th>\n",
       "      <th></th>\n",
       "      <th></th>\n",
       "      <th></th>\n",
       "      <th></th>\n",
       "      <th></th>\n",
       "      <th></th>\n",
       "      <th></th>\n",
       "      <th></th>\n",
       "    </tr>\n",
       "  </thead>\n",
       "  <tbody>\n",
       "    <tr>\n",
       "      <th>R.J. Hunter</th>\n",
       "      <td>Boston Celtics</td>\n",
       "      <td>28.0</td>\n",
       "      <td>SG</td>\n",
       "      <td>22.0</td>\n",
       "      <td>6-5</td>\n",
       "      <td>185.0</td>\n",
       "      <td>Georgia State</td>\n",
       "      <td>1148640.0</td>\n",
       "    </tr>\n",
       "    <tr>\n",
       "      <th>Jonas Jerebko</th>\n",
       "      <td>Boston Celtics</td>\n",
       "      <td>8.0</td>\n",
       "      <td>PF</td>\n",
       "      <td>29.0</td>\n",
       "      <td>6-10</td>\n",
       "      <td>231.0</td>\n",
       "      <td>NaN</td>\n",
       "      <td>5000000.0</td>\n",
       "    </tr>\n",
       "    <tr>\n",
       "      <th>Amir Johnson</th>\n",
       "      <td>Boston Celtics</td>\n",
       "      <td>90.0</td>\n",
       "      <td>PF</td>\n",
       "      <td>29.0</td>\n",
       "      <td>6-9</td>\n",
       "      <td>240.0</td>\n",
       "      <td>NaN</td>\n",
       "      <td>12000000.0</td>\n",
       "    </tr>\n",
       "    <tr>\n",
       "      <th>Jordan Mickey</th>\n",
       "      <td>Boston Celtics</td>\n",
       "      <td>55.0</td>\n",
       "      <td>PF</td>\n",
       "      <td>21.0</td>\n",
       "      <td>6-8</td>\n",
       "      <td>235.0</td>\n",
       "      <td>LSU</td>\n",
       "      <td>1170960.0</td>\n",
       "    </tr>\n",
       "    <tr>\n",
       "      <th>Kelly Olynyk</th>\n",
       "      <td>Boston Celtics</td>\n",
       "      <td>41.0</td>\n",
       "      <td>C</td>\n",
       "      <td>25.0</td>\n",
       "      <td>7-0</td>\n",
       "      <td>238.0</td>\n",
       "      <td>Gonzaga</td>\n",
       "      <td>2165160.0</td>\n",
       "    </tr>\n",
       "    <tr>\n",
       "      <th>Terry Rozier</th>\n",
       "      <td>Boston Celtics</td>\n",
       "      <td>12.0</td>\n",
       "      <td>PG</td>\n",
       "      <td>22.0</td>\n",
       "      <td>6-2</td>\n",
       "      <td>190.0</td>\n",
       "      <td>Louisville</td>\n",
       "      <td>1824360.0</td>\n",
       "    </tr>\n",
       "    <tr>\n",
       "      <th>Marcus Smart</th>\n",
       "      <td>Boston Celtics</td>\n",
       "      <td>36.0</td>\n",
       "      <td>PG</td>\n",
       "      <td>22.0</td>\n",
       "      <td>6-4</td>\n",
       "      <td>220.0</td>\n",
       "      <td>Oklahoma State</td>\n",
       "      <td>3431040.0</td>\n",
       "    </tr>\n",
       "    <tr>\n",
       "      <th>Jared Sullinger</th>\n",
       "      <td>Boston Celtics</td>\n",
       "      <td>7.0</td>\n",
       "      <td>C</td>\n",
       "      <td>24.0</td>\n",
       "      <td>6-9</td>\n",
       "      <td>260.0</td>\n",
       "      <td>Ohio State</td>\n",
       "      <td>2569260.0</td>\n",
       "    </tr>\n",
       "    <tr>\n",
       "      <th>Isaiah Thomas</th>\n",
       "      <td>Boston Celtics</td>\n",
       "      <td>4.0</td>\n",
       "      <td>PG</td>\n",
       "      <td>27.0</td>\n",
       "      <td>5-9</td>\n",
       "      <td>185.0</td>\n",
       "      <td>Washington</td>\n",
       "      <td>6912869.0</td>\n",
       "    </tr>\n",
       "    <tr>\n",
       "      <th>Evan Turner</th>\n",
       "      <td>Boston Celtics</td>\n",
       "      <td>11.0</td>\n",
       "      <td>SG</td>\n",
       "      <td>27.0</td>\n",
       "      <td>6-7</td>\n",
       "      <td>220.0</td>\n",
       "      <td>Ohio State</td>\n",
       "      <td>3425510.0</td>\n",
       "    </tr>\n",
       "    <tr>\n",
       "      <th>James Young</th>\n",
       "      <td>Boston Celtics</td>\n",
       "      <td>13.0</td>\n",
       "      <td>SG</td>\n",
       "      <td>20.0</td>\n",
       "      <td>6-6</td>\n",
       "      <td>215.0</td>\n",
       "      <td>Kentucky</td>\n",
       "      <td>1749840.0</td>\n",
       "    </tr>\n",
       "    <tr>\n",
       "      <th>Tyler Zeller</th>\n",
       "      <td>Boston Celtics</td>\n",
       "      <td>44.0</td>\n",
       "      <td>C</td>\n",
       "      <td>26.0</td>\n",
       "      <td>7-0</td>\n",
       "      <td>253.0</td>\n",
       "      <td>North Carolina</td>\n",
       "      <td>2616975.0</td>\n",
       "    </tr>\n",
       "    <tr>\n",
       "      <th>Bojan Bogdanovic</th>\n",
       "      <td>Brooklyn Nets</td>\n",
       "      <td>44.0</td>\n",
       "      <td>SG</td>\n",
       "      <td>27.0</td>\n",
       "      <td>6-8</td>\n",
       "      <td>216.0</td>\n",
       "      <td>NaN</td>\n",
       "      <td>3425510.0</td>\n",
       "    </tr>\n",
       "    <tr>\n",
       "      <th>Markel Brown</th>\n",
       "      <td>Brooklyn Nets</td>\n",
       "      <td>22.0</td>\n",
       "      <td>SG</td>\n",
       "      <td>24.0</td>\n",
       "      <td>6-3</td>\n",
       "      <td>190.0</td>\n",
       "      <td>Oklahoma State</td>\n",
       "      <td>845059.0</td>\n",
       "    </tr>\n",
       "    <tr>\n",
       "      <th>Wayne Ellington</th>\n",
       "      <td>Brooklyn Nets</td>\n",
       "      <td>21.0</td>\n",
       "      <td>SG</td>\n",
       "      <td>28.0</td>\n",
       "      <td>6-4</td>\n",
       "      <td>200.0</td>\n",
       "      <td>North Carolina</td>\n",
       "      <td>1500000.0</td>\n",
       "    </tr>\n",
       "    <tr>\n",
       "      <th>Rondae Hollis-Jefferson</th>\n",
       "      <td>Brooklyn Nets</td>\n",
       "      <td>24.0</td>\n",
       "      <td>SG</td>\n",
       "      <td>21.0</td>\n",
       "      <td>6-7</td>\n",
       "      <td>220.0</td>\n",
       "      <td>Arizona</td>\n",
       "      <td>1335480.0</td>\n",
       "    </tr>\n",
       "    <tr>\n",
       "      <th>Jarrett Jack</th>\n",
       "      <td>Brooklyn Nets</td>\n",
       "      <td>2.0</td>\n",
       "      <td>PG</td>\n",
       "      <td>32.0</td>\n",
       "      <td>6-3</td>\n",
       "      <td>200.0</td>\n",
       "      <td>Georgia Tech</td>\n",
       "      <td>6300000.0</td>\n",
       "    </tr>\n",
       "  </tbody>\n",
       "</table>\n",
       "</div>"
      ],
      "text/plain": [
       "                                   Team  Number Position   Age Height  Weight  \\\n",
       "Name                                                                            \n",
       "R.J. Hunter              Boston Celtics    28.0       SG  22.0    6-5   185.0   \n",
       "Jonas Jerebko            Boston Celtics     8.0       PF  29.0   6-10   231.0   \n",
       "Amir Johnson             Boston Celtics    90.0       PF  29.0    6-9   240.0   \n",
       "Jordan Mickey            Boston Celtics    55.0       PF  21.0    6-8   235.0   \n",
       "Kelly Olynyk             Boston Celtics    41.0        C  25.0    7-0   238.0   \n",
       "Terry Rozier             Boston Celtics    12.0       PG  22.0    6-2   190.0   \n",
       "Marcus Smart             Boston Celtics    36.0       PG  22.0    6-4   220.0   \n",
       "Jared Sullinger          Boston Celtics     7.0        C  24.0    6-9   260.0   \n",
       "Isaiah Thomas            Boston Celtics     4.0       PG  27.0    5-9   185.0   \n",
       "Evan Turner              Boston Celtics    11.0       SG  27.0    6-7   220.0   \n",
       "James Young              Boston Celtics    13.0       SG  20.0    6-6   215.0   \n",
       "Tyler Zeller             Boston Celtics    44.0        C  26.0    7-0   253.0   \n",
       "Bojan Bogdanovic          Brooklyn Nets    44.0       SG  27.0    6-8   216.0   \n",
       "Markel Brown              Brooklyn Nets    22.0       SG  24.0    6-3   190.0   \n",
       "Wayne Ellington           Brooklyn Nets    21.0       SG  28.0    6-4   200.0   \n",
       "Rondae Hollis-Jefferson   Brooklyn Nets    24.0       SG  21.0    6-7   220.0   \n",
       "Jarrett Jack              Brooklyn Nets     2.0       PG  32.0    6-3   200.0   \n",
       "\n",
       "                                College      Salary  \n",
       "Name                                                 \n",
       "R.J. Hunter               Georgia State   1148640.0  \n",
       "Jonas Jerebko                       NaN   5000000.0  \n",
       "Amir Johnson                        NaN  12000000.0  \n",
       "Jordan Mickey                       LSU   1170960.0  \n",
       "Kelly Olynyk                    Gonzaga   2165160.0  \n",
       "Terry Rozier                 Louisville   1824360.0  \n",
       "Marcus Smart             Oklahoma State   3431040.0  \n",
       "Jared Sullinger              Ohio State   2569260.0  \n",
       "Isaiah Thomas                Washington   6912869.0  \n",
       "Evan Turner                  Ohio State   3425510.0  \n",
       "James Young                    Kentucky   1749840.0  \n",
       "Tyler Zeller             North Carolina   2616975.0  \n",
       "Bojan Bogdanovic                    NaN   3425510.0  \n",
       "Markel Brown             Oklahoma State    845059.0  \n",
       "Wayne Ellington          North Carolina   1500000.0  \n",
       "Rondae Hollis-Jefferson         Arizona   1335480.0  \n",
       "Jarrett Jack               Georgia Tech   6300000.0  "
      ]
     },
     "execution_count": 53,
     "metadata": {},
     "output_type": "execute_result"
    }
   ],
   "source": [
    "\n",
    " \n",
    "row2 = data.iloc[3:20] \n",
    " \n",
    "row2"
   ]
  },
  {
   "cell_type": "markdown",
   "id": "5c28fe89-a002-4219-a8ee-e98bd96a8093",
   "metadata": {},
   "source": [
    "### Working with Missing Data\n",
    "Missing Data can occur when no information is available for one or more items or for an entire row/column. In Pandas missing data is represented as NaN (Not a Number). Missing data can be problematic in real-world datasets where data is incomplete. Pandas provides several methods to handle such missing data effectively:"
   ]
  },
  {
   "cell_type": "markdown",
   "id": "1792667e-b48a-4f54-a9ca-03ee581d9918",
   "metadata": {},
   "source": [
    "#### 1. Checking for Missing Values using isnull() and notnull()\n",
    "To check for missing values (NaN) we can use two useful functions:\n",
    "\n",
    "1. isnull(): It returns True for NaN (missing) values and False otherwise.\n",
    "2. notnull(): It returns the opposite, True for non-missing values and False for NaN values."
   ]
  },
  {
   "cell_type": "code",
   "execution_count": 57,
   "id": "2f8fce9c-c747-47f6-a6d0-cc01bc1ca245",
   "metadata": {},
   "outputs": [
    {
     "name": "stdout",
     "output_type": "stream",
     "text": [
      "   First Score  Second Score  Third Score\n",
      "0        100.0          30.0          NaN\n",
      "1         90.0          45.0         40.0\n",
      "2          NaN          56.0         80.0\n",
      "3         95.0           NaN         98.0\n",
      "   First Score  Second Score  Third Score\n",
      "0        False         False         True\n",
      "1        False         False        False\n",
      "2         True         False        False\n",
      "3        False          True        False\n"
     ]
    }
   ],
   "source": [
    "dict = {'First Score':[100, 90, np.nan, 95],\n",
    "        'Second Score': [30, 45, 56, np.nan],\n",
    "        'Third Score':[np.nan, 40, 80, 98]}\n",
    "\n",
    "df = pd.DataFrame(dict)\n",
    "print(df)\n",
    "print(df.isnull())"
   ]
  },
  {
   "cell_type": "markdown",
   "id": "437ad794-f953-45f7-9c6e-5e3f777540e1",
   "metadata": {},
   "source": [
    "#### 2. Filling Missing Values using fillna(), replace() and interpolate()\n",
    "In order to fill null values in a datasets, we use fillna(), replace() and interpolate() function these function replace NaN values with some value of their own. All these function help in filling a null values in datasets of a DataFrame. Interpolate() function is used to fill NA values in the dataframe but it uses various interpolation technique to fill the missing values rather than hard-coding the value."
   ]
  },
  {
   "cell_type": "code",
   "execution_count": 62,
   "id": "bda514fd-4805-42ac-aa4c-06abd94cebb3",
   "metadata": {},
   "outputs": [
    {
     "data": {
      "text/html": [
       "<div>\n",
       "<style scoped>\n",
       "    .dataframe tbody tr th:only-of-type {\n",
       "        vertical-align: middle;\n",
       "    }\n",
       "\n",
       "    .dataframe tbody tr th {\n",
       "        vertical-align: top;\n",
       "    }\n",
       "\n",
       "    .dataframe thead th {\n",
       "        text-align: right;\n",
       "    }\n",
       "</style>\n",
       "<table border=\"1\" class=\"dataframe\">\n",
       "  <thead>\n",
       "    <tr style=\"text-align: right;\">\n",
       "      <th></th>\n",
       "      <th>First Score</th>\n",
       "      <th>Second Score</th>\n",
       "      <th>Third Score</th>\n",
       "    </tr>\n",
       "  </thead>\n",
       "  <tbody>\n",
       "    <tr>\n",
       "      <th>0</th>\n",
       "      <td>100.00</td>\n",
       "      <td>30.00</td>\n",
       "      <td>70.44</td>\n",
       "    </tr>\n",
       "    <tr>\n",
       "      <th>1</th>\n",
       "      <td>90.00</td>\n",
       "      <td>45.00</td>\n",
       "      <td>40.00</td>\n",
       "    </tr>\n",
       "    <tr>\n",
       "      <th>2</th>\n",
       "      <td>70.44</td>\n",
       "      <td>56.00</td>\n",
       "      <td>80.00</td>\n",
       "    </tr>\n",
       "    <tr>\n",
       "      <th>3</th>\n",
       "      <td>95.00</td>\n",
       "      <td>70.44</td>\n",
       "      <td>98.00</td>\n",
       "    </tr>\n",
       "  </tbody>\n",
       "</table>\n",
       "</div>"
      ],
      "text/plain": [
       "   First Score  Second Score  Third Score\n",
       "0       100.00         30.00        70.44\n",
       "1        90.00         45.00        40.00\n",
       "2        70.44         56.00        80.00\n",
       "3        95.00         70.44        98.00"
      ]
     },
     "execution_count": 62,
     "metadata": {},
     "output_type": "execute_result"
    }
   ],
   "source": [
    "dict = {'First Score':[100, 90, np.nan, 95],\n",
    "        'Second Score': [30, 45, 56, np.nan],\n",
    "        'Third Score':[np.nan, 40, 80, 98]}\n",
    "df = pd.DataFrame(dict)\n",
    " \n",
    "df.fillna(np.mean(df).round(2))"
   ]
  },
  {
   "cell_type": "markdown",
   "id": "407ff868-1138-4dbf-bee6-5ff837bcca82",
   "metadata": {},
   "source": [
    "#### 3. Dropping Missing Values using dropna()\n",
    "If we want to remove rows or columns with missing data we can use the dropna() method. This method is flexible which allows us to drop rows or columns depending on the configuration."
   ]
  },
  {
   "cell_type": "code",
   "execution_count": 67,
   "id": "0200ee46-1bc4-4ef3-a7f6-9f1ec453c3d6",
   "metadata": {},
   "outputs": [
    {
     "data": {
      "text/html": [
       "<div>\n",
       "<style scoped>\n",
       "    .dataframe tbody tr th:only-of-type {\n",
       "        vertical-align: middle;\n",
       "    }\n",
       "\n",
       "    .dataframe tbody tr th {\n",
       "        vertical-align: top;\n",
       "    }\n",
       "\n",
       "    .dataframe thead th {\n",
       "        text-align: right;\n",
       "    }\n",
       "</style>\n",
       "<table border=\"1\" class=\"dataframe\">\n",
       "  <thead>\n",
       "    <tr style=\"text-align: right;\">\n",
       "      <th></th>\n",
       "      <th>First Score</th>\n",
       "      <th>Second Score</th>\n",
       "      <th>Third Score</th>\n",
       "      <th>Fourth Score</th>\n",
       "    </tr>\n",
       "  </thead>\n",
       "  <tbody>\n",
       "    <tr>\n",
       "      <th>3</th>\n",
       "      <td>95.0</td>\n",
       "      <td>56.0</td>\n",
       "      <td>98</td>\n",
       "      <td>65.0</td>\n",
       "    </tr>\n",
       "  </tbody>\n",
       "</table>\n",
       "</div>"
      ],
      "text/plain": [
       "   First Score  Second Score  Third Score  Fourth Score\n",
       "3         95.0          56.0           98          65.0"
      ]
     },
     "execution_count": 67,
     "metadata": {},
     "output_type": "execute_result"
    }
   ],
   "source": [
    "dict = {'First Score':[100, 90, np.nan, 95],\n",
    "        'Second Score': [30, np.nan, 45, 56],\n",
    "        'Third Score':[52, 40, 80, 98],\n",
    "        'Fourth Score':[np.nan, np.nan, np.nan, 65]}\n",
    " \n",
    "df = pd.DataFrame(dict)\n",
    "   \n",
    "df.dropna()"
   ]
  },
  {
   "cell_type": "markdown",
   "id": "108642ba-5cda-46b8-ace5-840c3b1a6fd9",
   "metadata": {},
   "source": [
    "### Iterating over rows and columns\n",
    "Iteration refers to the process of accessing each item one at a time. In Pandas, it means iterating through rows or columns in a DataFrame to access or manipulate the data. We can iterate over rows and columns to extract values or perform operations on each item."
   ]
  },
  {
   "cell_type": "markdown",
   "id": "c4992fa9-30c6-42de-9341-e08d3e782ee9",
   "metadata": {},
   "source": [
    "#### 1. Iterating Over Rows\n",
    "There are several ways to iterate over the rows of a Pandas DataFrame and three common methods are:\n",
    "\n",
    "1. iteritems()\n",
    "2. iterrows()\n",
    "3. itertuples()"
   ]
  },
  {
   "cell_type": "code",
   "execution_count": 69,
   "id": "38bc6ffc-60e1-4f03-aadc-bbcd0f16e529",
   "metadata": {},
   "outputs": [
    {
     "name": "stdout",
     "output_type": "stream",
     "text": [
      "0 name      aparna\n",
      "degree       MBA\n",
      "score         90\n",
      "Name: 0, dtype: object\n",
      "\n",
      "1 name      pankaj\n",
      "degree       BCA\n",
      "score         40\n",
      "Name: 1, dtype: object\n",
      "\n",
      "2 name      sudhir\n",
      "degree    M.Tech\n",
      "score         80\n",
      "Name: 2, dtype: object\n",
      "\n",
      "3 name      Geeku\n",
      "degree      MBA\n",
      "score        98\n",
      "Name: 3, dtype: object\n",
      "\n"
     ]
    }
   ],
   "source": [
    "dict = {'name':[\"aparna\", \"pankaj\", \"sudhir\", \"Geeku\"],\n",
    "        'degree': [\"MBA\", \"BCA\", \"M.Tech\", \"MBA\"],\n",
    "        'score':[90, 40, 80, 98]}\n",
    " \n",
    "df = pd.DataFrame(dict)\n",
    "\n",
    "for i, j in df.iterrows():\n",
    "    print(i, j)\n",
    "    print()"
   ]
  },
  {
   "cell_type": "code",
   "execution_count": 76,
   "id": "74d1d962-a3a2-4daa-8530-ee05c21296d0",
   "metadata": {},
   "outputs": [
    {
     "name": "stdout",
     "output_type": "stream",
     "text": [
      "sudhir\n",
      "M.Tech\n",
      "80\n"
     ]
    }
   ],
   "source": [
    "for i in df:\n",
    "    print (df[i][2])"
   ]
  },
  {
   "cell_type": "markdown",
   "id": "39ebca04-2b2a-4c4a-8aff-31becf58adc3",
   "metadata": {},
   "source": [
    "| Function         | Description |\n",
    "|------------------|-------------|\n",
    "| `index`          | Method returns index (row labels) of the DataFrame |\n",
    "| `insert`         | Method inserts a column into a DataFrame |\n",
    "| `add`            | Method returns addition of DataFrame and other, element-wise (binary operator add) |\n",
    "| `sub`            | Method returns subtraction of DataFrame and other element-wise (binary operator sub) |\n",
    "| `mul`            | Method returns multiplication of DataFrame and other, element-wise (binary operator mul) |\n",
    "| `div`            | Method returns floating division of DataFrame and other element-wise (binary operator truediv) |\n",
    "| `unique`         | Method extracts the unique values in the DataFrame |\n",
    "| `nunique`        | Method returns count of the unique values in the DataFrame |\n",
    "| `value_counts`   | Method counts the number of times each unique value occurs within the Series |\n",
    "| `columns`        | Method returns the column labels of the DataFrame |\n",
    "| `axes`           | Method returns a list representing the axes of the DataFrame |\n",
    "| `isnull`         | Method creates a Boolean Series for extracting rows with null values |\n",
    "| `notnull`        | Method creates a Boolean Series for extracting rows with non-null values |\n",
    "| `isin`           | Method extracts rows from a DataFrame where a column value exists in a predefined collection |\n",
    "| `dtypes`         | Method returns a Series with the data type of each column. The result’s index is the original DataFrame’s columns |\n",
    "| `astype`         | Method converts the data types in a Series |\n",
    "| `values`         | Method returns a Numpy representation of the DataFrame (only the values, labels removed) |\n",
    "| `sort_values`    | Method sorts a DataFrame in Ascending or Descending order of passed column |\n",
    "| `sort_index`     | Method sorts the values in a DataFrame based on their index positions or labels |\n",
    "| `loc[]`          | Method retrieves rows based on index label |\n",
    "| `iloc[]`         | Method retrieves rows based on index position |\n",
    "| `ix[]`           | Method retrieves rows based on either index label or index position (deprecated in latest pandas) |\n",
    "| `rename`         | Method is called on a DataFrame to change the names of the index labels or column names |\n",
    "| `drop`           | Method is used to delete rows or columns from a DataFrame |\n",
    "| `pop`            | Method is used to delete rows or columns from a DataFrame |\n",
    "| `sample`         | Method pulls out a random sample of rows or columns from a DataFrame |\n",
    "| `nsmallest`      | Method pulls out the rows with the smallest values in a column |\n",
    "| `nlargest`       | Method pulls out the rows with the largest values in a column |\n",
    "| `shape`          | Method returns a tuple representing the dimensionality of the DataFrame |\n",
    "| `ndim`           | Method returns an int representing the number of axes/array dimensions (1 if Series, 2 if DataFrame) |\n",
    "| `dropna`         | Method allows the user to drop Rows/Columns with Null values in different ways |\n",
    "| `fillna`         | Method replaces NaN values with some value provided by the user |\n",
    "| `rank`           | Values in a Series can be ranked in order with this method |\n",
    "| `query`          | Method is an alternate string-based syntax for extracting a subset from a DataFrame |\n",
    "| `copy`           | Method creates an independent copy of a pandas object |\n",
    "| `duplicated`     | Method creates a Boolean Series and uses it to extract rows that have duplicate values |\n",
    "| `drop_duplicates`| Method removes duplicate rows from a DataFrame |\n",
    "| `set_index`      | Method sets the DataFrame index (row labels) using one or more existing columns |\n",
    "| `reset_index`    | Method resets the index of a DataFrame to default integer values |\n",
    "| `where`          | Method is used to check a DataFrame for one or more conditions and return the result accordingly. By default, rows not satisfying the condition are filled with NaN |\n"
   ]
  },
  {
   "cell_type": "markdown",
   "id": "86e2fb00-70e0-4b7c-85dc-00e554b4b42a",
   "metadata": {},
   "source": []
  },
  {
   "cell_type": "code",
   "execution_count": null,
   "id": "2ab0396e-1783-47e2-b60d-3b9704f56182",
   "metadata": {},
   "outputs": [],
   "source": []
  }
 ],
 "metadata": {
  "kernelspec": {
   "display_name": "Python 3 (ipykernel)",
   "language": "python",
   "name": "python3"
  },
  "language_info": {
   "codemirror_mode": {
    "name": "ipython",
    "version": 3
   },
   "file_extension": ".py",
   "mimetype": "text/x-python",
   "name": "python",
   "nbconvert_exporter": "python",
   "pygments_lexer": "ipython3",
   "version": "3.13.5"
  }
 },
 "nbformat": 4,
 "nbformat_minor": 5
}
