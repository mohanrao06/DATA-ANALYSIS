{
 "cells": [
  {
   "cell_type": "markdown",
   "id": "59f990a3-1e94-46e3-904c-08ed72f1ec86",
   "metadata": {},
   "source": [
    "ndexing and selecting data helps us to efficiently retrieve specific rows, columns or subsets of data from a DataFrame. Whether we're filtering rows based on conditions, extracting particular columns or accessing data by labels or positions, mastering these techniques helps to work effectively with large datasets. In this article, we’ll see various ways to index and select data in Pandas which shows us how to access the parts of our dataset."
   ]
  },
  {
   "cell_type": "markdown",
   "id": "633d3316-34cc-48e3-b62d-818d18a2e025",
   "metadata": {},
   "source": [
    "### 1. Indexing Data using the [] Operator\n",
    "The [] operator is the basic and frequently used method for indexing in Pandas. It allows us to select columns and filter rows based on conditions. This method can be used to select individual columns or multiple columns."
   ]
  },
  {
   "cell_type": "markdown",
   "id": "2be4d93a-9c33-4b36-bb1f-1a6bda1a3c91",
   "metadata": {},
   "source": [
    "#### 1. Selecting a Single Column\n",
    "To select a single column, we simply refer the column name inside square brackets."
   ]
  },
  {
   "cell_type": "code",
   "execution_count": 1,
   "id": "9175206e-93b1-4f08-af6b-4dfb0179e4c0",
   "metadata": {},
   "outputs": [
    {
     "name": "stdout",
     "output_type": "stream",
     "text": [
      "Dataset\n"
     ]
    },
    {
     "data": {
      "text/html": [
       "<div>\n",
       "<style scoped>\n",
       "    .dataframe tbody tr th:only-of-type {\n",
       "        vertical-align: middle;\n",
       "    }\n",
       "\n",
       "    .dataframe tbody tr th {\n",
       "        vertical-align: top;\n",
       "    }\n",
       "\n",
       "    .dataframe thead th {\n",
       "        text-align: right;\n",
       "    }\n",
       "</style>\n",
       "<table border=\"1\" class=\"dataframe\">\n",
       "  <thead>\n",
       "    <tr style=\"text-align: right;\">\n",
       "      <th></th>\n",
       "      <th>Team</th>\n",
       "      <th>Number</th>\n",
       "      <th>Position</th>\n",
       "      <th>Age</th>\n",
       "      <th>Height</th>\n",
       "      <th>Weight</th>\n",
       "      <th>College</th>\n",
       "      <th>Salary</th>\n",
       "    </tr>\n",
       "    <tr>\n",
       "      <th>Name</th>\n",
       "      <th></th>\n",
       "      <th></th>\n",
       "      <th></th>\n",
       "      <th></th>\n",
       "      <th></th>\n",
       "      <th></th>\n",
       "      <th></th>\n",
       "      <th></th>\n",
       "    </tr>\n",
       "  </thead>\n",
       "  <tbody>\n",
       "    <tr>\n",
       "      <th>Avery Bradley</th>\n",
       "      <td>Boston Celtics</td>\n",
       "      <td>0.0</td>\n",
       "      <td>PG</td>\n",
       "      <td>25.0</td>\n",
       "      <td>6-2</td>\n",
       "      <td>180.0</td>\n",
       "      <td>Texas</td>\n",
       "      <td>7730337.0</td>\n",
       "    </tr>\n",
       "    <tr>\n",
       "      <th>Jae Crowder</th>\n",
       "      <td>Boston Celtics</td>\n",
       "      <td>99.0</td>\n",
       "      <td>SF</td>\n",
       "      <td>25.0</td>\n",
       "      <td>6-6</td>\n",
       "      <td>235.0</td>\n",
       "      <td>Marquette</td>\n",
       "      <td>6796117.0</td>\n",
       "    </tr>\n",
       "    <tr>\n",
       "      <th>John Holland</th>\n",
       "      <td>Boston Celtics</td>\n",
       "      <td>30.0</td>\n",
       "      <td>SG</td>\n",
       "      <td>27.0</td>\n",
       "      <td>6-5</td>\n",
       "      <td>205.0</td>\n",
       "      <td>Boston University</td>\n",
       "      <td>NaN</td>\n",
       "    </tr>\n",
       "    <tr>\n",
       "      <th>R.J. Hunter</th>\n",
       "      <td>Boston Celtics</td>\n",
       "      <td>28.0</td>\n",
       "      <td>SG</td>\n",
       "      <td>22.0</td>\n",
       "      <td>6-5</td>\n",
       "      <td>185.0</td>\n",
       "      <td>Georgia State</td>\n",
       "      <td>1148640.0</td>\n",
       "    </tr>\n",
       "    <tr>\n",
       "      <th>Jonas Jerebko</th>\n",
       "      <td>Boston Celtics</td>\n",
       "      <td>8.0</td>\n",
       "      <td>PF</td>\n",
       "      <td>29.0</td>\n",
       "      <td>6-10</td>\n",
       "      <td>231.0</td>\n",
       "      <td>NaN</td>\n",
       "      <td>5000000.0</td>\n",
       "    </tr>\n",
       "  </tbody>\n",
       "</table>\n",
       "</div>"
      ],
      "text/plain": [
       "                         Team  Number Position   Age Height  Weight  \\\n",
       "Name                                                                  \n",
       "Avery Bradley  Boston Celtics     0.0       PG  25.0    6-2   180.0   \n",
       "Jae Crowder    Boston Celtics    99.0       SF  25.0    6-6   235.0   \n",
       "John Holland   Boston Celtics    30.0       SG  27.0    6-5   205.0   \n",
       "R.J. Hunter    Boston Celtics    28.0       SG  22.0    6-5   185.0   \n",
       "Jonas Jerebko  Boston Celtics     8.0       PF  29.0   6-10   231.0   \n",
       "\n",
       "                         College     Salary  \n",
       "Name                                         \n",
       "Avery Bradley              Texas  7730337.0  \n",
       "Jae Crowder            Marquette  6796117.0  \n",
       "John Holland   Boston University        NaN  \n",
       "R.J. Hunter        Georgia State  1148640.0  \n",
       "Jonas Jerebko                NaN  5000000.0  "
      ]
     },
     "metadata": {},
     "output_type": "display_data"
    },
    {
     "name": "stdout",
     "output_type": "stream",
     "text": [
      "\n",
      "Single Column selected from Dataset\n"
     ]
    },
    {
     "data": {
      "text/plain": [
       "Name\n",
       "Avery Bradley    25.0\n",
       "Jae Crowder      25.0\n",
       "John Holland     27.0\n",
       "R.J. Hunter      22.0\n",
       "Jonas Jerebko    29.0\n",
       "Name: Age, dtype: float64"
      ]
     },
     "metadata": {},
     "output_type": "display_data"
    }
   ],
   "source": [
    "import pandas as pd\n",
    "\n",
    "data = pd.read_csv(\"nba.csv\", index_col=\"Name\")\n",
    "print(\"Dataset\")\n",
    "display(data.head(5))\n",
    "\n",
    "first = data[\"Age\"]\n",
    "print(\"\\nSingle Column selected from Dataset\")\n",
    "display(first.head(5))"
   ]
  },
  {
   "cell_type": "markdown",
   "id": "3f5882b0-ddaa-4660-9b7d-18ffc72add7c",
   "metadata": {},
   "source": [
    "#### 2. Selecting Multiple Columns\n",
    "To select multiple columns, pass a list of column names inside the [] operator:"
   ]
  },
  {
   "cell_type": "code",
   "execution_count": 2,
   "id": "9a6af445-92cc-4953-b73d-221e2e40e9c6",
   "metadata": {},
   "outputs": [
    {
     "name": "stdout",
     "output_type": "stream",
     "text": [
      "\n",
      "Multiple Columns selected from Dataset\n"
     ]
    },
    {
     "data": {
      "text/html": [
       "<div>\n",
       "<style scoped>\n",
       "    .dataframe tbody tr th:only-of-type {\n",
       "        vertical-align: middle;\n",
       "    }\n",
       "\n",
       "    .dataframe tbody tr th {\n",
       "        vertical-align: top;\n",
       "    }\n",
       "\n",
       "    .dataframe thead th {\n",
       "        text-align: right;\n",
       "    }\n",
       "</style>\n",
       "<table border=\"1\" class=\"dataframe\">\n",
       "  <thead>\n",
       "    <tr style=\"text-align: right;\">\n",
       "      <th></th>\n",
       "      <th>Age</th>\n",
       "      <th>College</th>\n",
       "      <th>Salary</th>\n",
       "    </tr>\n",
       "    <tr>\n",
       "      <th>Name</th>\n",
       "      <th></th>\n",
       "      <th></th>\n",
       "      <th></th>\n",
       "    </tr>\n",
       "  </thead>\n",
       "  <tbody>\n",
       "    <tr>\n",
       "      <th>Avery Bradley</th>\n",
       "      <td>25.0</td>\n",
       "      <td>Texas</td>\n",
       "      <td>7730337.0</td>\n",
       "    </tr>\n",
       "    <tr>\n",
       "      <th>Jae Crowder</th>\n",
       "      <td>25.0</td>\n",
       "      <td>Marquette</td>\n",
       "      <td>6796117.0</td>\n",
       "    </tr>\n",
       "    <tr>\n",
       "      <th>John Holland</th>\n",
       "      <td>27.0</td>\n",
       "      <td>Boston University</td>\n",
       "      <td>NaN</td>\n",
       "    </tr>\n",
       "    <tr>\n",
       "      <th>R.J. Hunter</th>\n",
       "      <td>22.0</td>\n",
       "      <td>Georgia State</td>\n",
       "      <td>1148640.0</td>\n",
       "    </tr>\n",
       "    <tr>\n",
       "      <th>Jonas Jerebko</th>\n",
       "      <td>29.0</td>\n",
       "      <td>NaN</td>\n",
       "      <td>5000000.0</td>\n",
       "    </tr>\n",
       "  </tbody>\n",
       "</table>\n",
       "</div>"
      ],
      "text/plain": [
       "                Age            College     Salary\n",
       "Name                                             \n",
       "Avery Bradley  25.0              Texas  7730337.0\n",
       "Jae Crowder    25.0          Marquette  6796117.0\n",
       "John Holland   27.0  Boston University        NaN\n",
       "R.J. Hunter    22.0      Georgia State  1148640.0\n",
       "Jonas Jerebko  29.0                NaN  5000000.0"
      ]
     },
     "metadata": {},
     "output_type": "display_data"
    }
   ],
   "source": [
    "first = data[[\"Age\", \"College\", \"Salary\"]]\n",
    "print(\"\\nMultiple Columns selected from Dataset\")\n",
    "display(first.head(5))"
   ]
  },
  {
   "cell_type": "markdown",
   "id": "724b1b61-21ce-4939-ba82-22f3f0b4c7e1",
   "metadata": {},
   "source": [
    "### 2. Indexing with .loc[ ]\n",
    "The.loc[] function is used for label-based indexing. It allows us to access rows and columns by their labels. Unlike the indexing operator, it can select subsets of rows and columns simultaneously which offers flexibility in data retrieval."
   ]
  },
  {
   "cell_type": "markdown",
   "id": "eda5dc0d-90bc-4c90-bbc5-14050ea5f78d",
   "metadata": {},
   "source": [
    "#### 1. Selecting a Single Row by Label\n",
    "We can select a single row by its label:"
   ]
  },
  {
   "cell_type": "code",
   "execution_count": 3,
   "id": "11ce0179-5a2d-4c6f-b97d-3f8c2cf9ad15",
   "metadata": {},
   "outputs": [
    {
     "name": "stdout",
     "output_type": "stream",
     "text": [
      "Team        Boston Celtics\n",
      "Number                 0.0\n",
      "Position                PG\n",
      "Age                   25.0\n",
      "Height                 6-2\n",
      "Weight               180.0\n",
      "College              Texas\n",
      "Salary           7730337.0\n",
      "Name: Avery Bradley, dtype: object\n"
     ]
    }
   ],
   "source": [
    "row = data.loc[\"Avery Bradley\"]\n",
    "print(row)"
   ]
  },
  {
   "cell_type": "markdown",
   "id": "5e5785f6-e7f3-4ebd-84f2-7ec1c09d8505",
   "metadata": {},
   "source": [
    "#### 2. Selecting Multiple Rows by Label\n",
    "To select multiple rows, pass a list of labels:"
   ]
  },
  {
   "cell_type": "code",
   "execution_count": 5,
   "id": "e031207a-4e60-4e7e-8198-e40636499c36",
   "metadata": {},
   "outputs": [
    {
     "data": {
      "text/html": [
       "<div>\n",
       "<style scoped>\n",
       "    .dataframe tbody tr th:only-of-type {\n",
       "        vertical-align: middle;\n",
       "    }\n",
       "\n",
       "    .dataframe tbody tr th {\n",
       "        vertical-align: top;\n",
       "    }\n",
       "\n",
       "    .dataframe thead th {\n",
       "        text-align: right;\n",
       "    }\n",
       "</style>\n",
       "<table border=\"1\" class=\"dataframe\">\n",
       "  <thead>\n",
       "    <tr style=\"text-align: right;\">\n",
       "      <th></th>\n",
       "      <th>Team</th>\n",
       "      <th>Number</th>\n",
       "      <th>Position</th>\n",
       "      <th>Age</th>\n",
       "      <th>Height</th>\n",
       "      <th>Weight</th>\n",
       "      <th>College</th>\n",
       "      <th>Salary</th>\n",
       "    </tr>\n",
       "    <tr>\n",
       "      <th>Name</th>\n",
       "      <th></th>\n",
       "      <th></th>\n",
       "      <th></th>\n",
       "      <th></th>\n",
       "      <th></th>\n",
       "      <th></th>\n",
       "      <th></th>\n",
       "      <th></th>\n",
       "    </tr>\n",
       "  </thead>\n",
       "  <tbody>\n",
       "    <tr>\n",
       "      <th>Avery Bradley</th>\n",
       "      <td>Boston Celtics</td>\n",
       "      <td>0.0</td>\n",
       "      <td>PG</td>\n",
       "      <td>25.0</td>\n",
       "      <td>6-2</td>\n",
       "      <td>180.0</td>\n",
       "      <td>Texas</td>\n",
       "      <td>7730337.0</td>\n",
       "    </tr>\n",
       "    <tr>\n",
       "      <th>R.J. Hunter</th>\n",
       "      <td>Boston Celtics</td>\n",
       "      <td>28.0</td>\n",
       "      <td>SG</td>\n",
       "      <td>22.0</td>\n",
       "      <td>6-5</td>\n",
       "      <td>185.0</td>\n",
       "      <td>Georgia State</td>\n",
       "      <td>1148640.0</td>\n",
       "    </tr>\n",
       "  </tbody>\n",
       "</table>\n",
       "</div>"
      ],
      "text/plain": [
       "                         Team  Number Position   Age Height  Weight  \\\n",
       "Name                                                                  \n",
       "Avery Bradley  Boston Celtics     0.0       PG  25.0    6-2   180.0   \n",
       "R.J. Hunter    Boston Celtics    28.0       SG  22.0    6-5   185.0   \n",
       "\n",
       "                     College     Salary  \n",
       "Name                                     \n",
       "Avery Bradley          Texas  7730337.0  \n",
       "R.J. Hunter    Georgia State  1148640.0  "
      ]
     },
     "execution_count": 5,
     "metadata": {},
     "output_type": "execute_result"
    }
   ],
   "source": [
    "rows = data.loc[[\"Avery Bradley\", \"R.J. Hunter\"]]\n",
    "rows"
   ]
  },
  {
   "cell_type": "markdown",
   "id": "bb9cac2d-e5da-4c28-b590-bf9128c60c8e",
   "metadata": {},
   "source": [
    "#### 3. Selecting Specific Rows and Columns\n",
    "We can select specific rows and columns by providing lists of row labels and column names:\n",
    "\n",
    "Dataframe.loc[[\"row1\", \"row2\"], [\"column1\", \"column2\", \"column3\"]]"
   ]
  },
  {
   "cell_type": "code",
   "execution_count": 6,
   "id": "2a669613-7607-495e-825b-e85a80b5b0d2",
   "metadata": {},
   "outputs": [
    {
     "name": "stdout",
     "output_type": "stream",
     "text": [
      "                         Team  Number Position\n",
      "Name                                          \n",
      "Avery Bradley  Boston Celtics     0.0       PG\n",
      "R.J. Hunter    Boston Celtics    28.0       SG\n"
     ]
    }
   ],
   "source": [
    "selection = data.loc[[\"Avery Bradley\", \"R.J. Hunter\"], [\"Team\", \"Number\", \"Position\"]]\n",
    "print(selection)"
   ]
  },
  {
   "cell_type": "markdown",
   "id": "549a2bab-ef82-40cd-8b47-cae69fc7252f",
   "metadata": {},
   "source": [
    "#### 4. Selecting All Rows and Specific Columns\n",
    "We can select all rows and specific columns by using a colon [:] to indicate all rows followed by the list of column names:\n",
    "\n",
    "Dataframe.loc[:, [\"column1\", \"column2\", \"column3\"]]"
   ]
  },
  {
   "cell_type": "code",
   "execution_count": 8,
   "id": "39d03714-829e-4491-a75c-5caa13e98e11",
   "metadata": {},
   "outputs": [
    {
     "data": {
      "text/html": [
       "<div>\n",
       "<style scoped>\n",
       "    .dataframe tbody tr th:only-of-type {\n",
       "        vertical-align: middle;\n",
       "    }\n",
       "\n",
       "    .dataframe tbody tr th {\n",
       "        vertical-align: top;\n",
       "    }\n",
       "\n",
       "    .dataframe thead th {\n",
       "        text-align: right;\n",
       "    }\n",
       "</style>\n",
       "<table border=\"1\" class=\"dataframe\">\n",
       "  <thead>\n",
       "    <tr style=\"text-align: right;\">\n",
       "      <th></th>\n",
       "      <th>Team</th>\n",
       "      <th>Position</th>\n",
       "      <th>Salary</th>\n",
       "    </tr>\n",
       "    <tr>\n",
       "      <th>Name</th>\n",
       "      <th></th>\n",
       "      <th></th>\n",
       "      <th></th>\n",
       "    </tr>\n",
       "  </thead>\n",
       "  <tbody>\n",
       "    <tr>\n",
       "      <th>Avery Bradley</th>\n",
       "      <td>Boston Celtics</td>\n",
       "      <td>PG</td>\n",
       "      <td>7730337.0</td>\n",
       "    </tr>\n",
       "    <tr>\n",
       "      <th>Jae Crowder</th>\n",
       "      <td>Boston Celtics</td>\n",
       "      <td>SF</td>\n",
       "      <td>6796117.0</td>\n",
       "    </tr>\n",
       "    <tr>\n",
       "      <th>John Holland</th>\n",
       "      <td>Boston Celtics</td>\n",
       "      <td>SG</td>\n",
       "      <td>NaN</td>\n",
       "    </tr>\n",
       "    <tr>\n",
       "      <th>R.J. Hunter</th>\n",
       "      <td>Boston Celtics</td>\n",
       "      <td>SG</td>\n",
       "      <td>1148640.0</td>\n",
       "    </tr>\n",
       "    <tr>\n",
       "      <th>Jonas Jerebko</th>\n",
       "      <td>Boston Celtics</td>\n",
       "      <td>PF</td>\n",
       "      <td>5000000.0</td>\n",
       "    </tr>\n",
       "    <tr>\n",
       "      <th>...</th>\n",
       "      <td>...</td>\n",
       "      <td>...</td>\n",
       "      <td>...</td>\n",
       "    </tr>\n",
       "    <tr>\n",
       "      <th>Shelvin Mack</th>\n",
       "      <td>Utah Jazz</td>\n",
       "      <td>PG</td>\n",
       "      <td>2433333.0</td>\n",
       "    </tr>\n",
       "    <tr>\n",
       "      <th>Raul Neto</th>\n",
       "      <td>Utah Jazz</td>\n",
       "      <td>PG</td>\n",
       "      <td>900000.0</td>\n",
       "    </tr>\n",
       "    <tr>\n",
       "      <th>Tibor Pleiss</th>\n",
       "      <td>Utah Jazz</td>\n",
       "      <td>C</td>\n",
       "      <td>2900000.0</td>\n",
       "    </tr>\n",
       "    <tr>\n",
       "      <th>Jeff Withey</th>\n",
       "      <td>Utah Jazz</td>\n",
       "      <td>C</td>\n",
       "      <td>947276.0</td>\n",
       "    </tr>\n",
       "    <tr>\n",
       "      <th>NaN</th>\n",
       "      <td>NaN</td>\n",
       "      <td>NaN</td>\n",
       "      <td>NaN</td>\n",
       "    </tr>\n",
       "  </tbody>\n",
       "</table>\n",
       "<p>458 rows × 3 columns</p>\n",
       "</div>"
      ],
      "text/plain": [
       "                         Team Position     Salary\n",
       "Name                                             \n",
       "Avery Bradley  Boston Celtics       PG  7730337.0\n",
       "Jae Crowder    Boston Celtics       SF  6796117.0\n",
       "John Holland   Boston Celtics       SG        NaN\n",
       "R.J. Hunter    Boston Celtics       SG  1148640.0\n",
       "Jonas Jerebko  Boston Celtics       PF  5000000.0\n",
       "...                       ...      ...        ...\n",
       "Shelvin Mack        Utah Jazz       PG  2433333.0\n",
       "Raul Neto           Utah Jazz       PG   900000.0\n",
       "Tibor Pleiss        Utah Jazz        C  2900000.0\n",
       "Jeff Withey         Utah Jazz        C   947276.0\n",
       "NaN                       NaN      NaN        NaN\n",
       "\n",
       "[458 rows x 3 columns]"
      ]
     },
     "execution_count": 8,
     "metadata": {},
     "output_type": "execute_result"
    }
   ],
   "source": [
    "all_rows_specific_columns = data.loc[:, [\"Team\", \"Position\", \"Salary\"]]\n",
    "all_rows_specific_columns"
   ]
  },
  {
   "cell_type": "markdown",
   "id": "bab832d3-5da1-466f-b751-05c871574583",
   "metadata": {},
   "source": [
    "### 3. Indexing with .iloc[ ]\n",
    "The .iloc[] function is used for position-based indexing. It allows us to access rows and columns by their integer positions. It is similar to .loc[] but only accepts integer-based indices to specify rows and columns."
   ]
  },
  {
   "cell_type": "markdown",
   "id": "dad63485-e199-44f0-a910-6044d2b05157",
   "metadata": {},
   "source": [
    "#### 1. Selecting a Single Row by Position\n",
    "To select a single row using .iloc[] provide the integer position of the row:"
   ]
  },
  {
   "cell_type": "code",
   "execution_count": 9,
   "id": "b917e9ae-7e65-4db3-a2dd-6967fd3114ee",
   "metadata": {},
   "outputs": [
    {
     "name": "stdout",
     "output_type": "stream",
     "text": [
      "Team        Boston Celtics\n",
      "Number                28.0\n",
      "Position                SG\n",
      "Age                   22.0\n",
      "Height                 6-5\n",
      "Weight               185.0\n",
      "College      Georgia State\n",
      "Salary           1148640.0\n",
      "Name: R.J. Hunter, dtype: object\n"
     ]
    }
   ],
   "source": [
    "row = data.iloc[3]\n",
    "print(row)"
   ]
  },
  {
   "cell_type": "markdown",
   "id": "e44d813f-27aa-412f-8412-ba3cd5426cc1",
   "metadata": {},
   "source": [
    "#### 2. Selecting Multiple Rows by Position\n",
    "We can select multiple rows by passing a list of integer positions:"
   ]
  },
  {
   "cell_type": "code",
   "execution_count": 11,
   "id": "8a5a1bb5-dbe2-4de7-828e-a7e2a5b3e8d1",
   "metadata": {},
   "outputs": [
    {
     "data": {
      "text/html": [
       "<div>\n",
       "<style scoped>\n",
       "    .dataframe tbody tr th:only-of-type {\n",
       "        vertical-align: middle;\n",
       "    }\n",
       "\n",
       "    .dataframe tbody tr th {\n",
       "        vertical-align: top;\n",
       "    }\n",
       "\n",
       "    .dataframe thead th {\n",
       "        text-align: right;\n",
       "    }\n",
       "</style>\n",
       "<table border=\"1\" class=\"dataframe\">\n",
       "  <thead>\n",
       "    <tr style=\"text-align: right;\">\n",
       "      <th></th>\n",
       "      <th>Team</th>\n",
       "      <th>Number</th>\n",
       "      <th>Position</th>\n",
       "      <th>Age</th>\n",
       "      <th>Height</th>\n",
       "      <th>Weight</th>\n",
       "      <th>College</th>\n",
       "      <th>Salary</th>\n",
       "    </tr>\n",
       "    <tr>\n",
       "      <th>Name</th>\n",
       "      <th></th>\n",
       "      <th></th>\n",
       "      <th></th>\n",
       "      <th></th>\n",
       "      <th></th>\n",
       "      <th></th>\n",
       "      <th></th>\n",
       "      <th></th>\n",
       "    </tr>\n",
       "  </thead>\n",
       "  <tbody>\n",
       "    <tr>\n",
       "      <th>R.J. Hunter</th>\n",
       "      <td>Boston Celtics</td>\n",
       "      <td>28.0</td>\n",
       "      <td>SG</td>\n",
       "      <td>22.0</td>\n",
       "      <td>6-5</td>\n",
       "      <td>185.0</td>\n",
       "      <td>Georgia State</td>\n",
       "      <td>1148640.0</td>\n",
       "    </tr>\n",
       "    <tr>\n",
       "      <th>Amir Johnson</th>\n",
       "      <td>Boston Celtics</td>\n",
       "      <td>90.0</td>\n",
       "      <td>PF</td>\n",
       "      <td>29.0</td>\n",
       "      <td>6-9</td>\n",
       "      <td>240.0</td>\n",
       "      <td>NaN</td>\n",
       "      <td>12000000.0</td>\n",
       "    </tr>\n",
       "    <tr>\n",
       "      <th>Kelly Olynyk</th>\n",
       "      <td>Boston Celtics</td>\n",
       "      <td>41.0</td>\n",
       "      <td>C</td>\n",
       "      <td>25.0</td>\n",
       "      <td>7-0</td>\n",
       "      <td>238.0</td>\n",
       "      <td>Gonzaga</td>\n",
       "      <td>2165160.0</td>\n",
       "    </tr>\n",
       "  </tbody>\n",
       "</table>\n",
       "</div>"
      ],
      "text/plain": [
       "                        Team  Number Position   Age Height  Weight  \\\n",
       "Name                                                                 \n",
       "R.J. Hunter   Boston Celtics    28.0       SG  22.0    6-5   185.0   \n",
       "Amir Johnson  Boston Celtics    90.0       PF  29.0    6-9   240.0   \n",
       "Kelly Olynyk  Boston Celtics    41.0        C  25.0    7-0   238.0   \n",
       "\n",
       "                    College      Salary  \n",
       "Name                                     \n",
       "R.J. Hunter   Georgia State   1148640.0  \n",
       "Amir Johnson            NaN  12000000.0  \n",
       "Kelly Olynyk        Gonzaga   2165160.0  "
      ]
     },
     "execution_count": 11,
     "metadata": {},
     "output_type": "execute_result"
    }
   ],
   "source": [
    "rows = data.iloc[[3, 5, 7]]\n",
    "rows"
   ]
  },
  {
   "cell_type": "markdown",
   "id": "4a954e2d-c7b5-455a-85c9-2d8285099b61",
   "metadata": {},
   "source": [
    "#### 3. Selecting Specific Rows and Columns by Position\n",
    "We can select specific rows and columns by providing integer positions for both rows and columns:"
   ]
  },
  {
   "cell_type": "code",
   "execution_count": 12,
   "id": "eb3df07d-479b-461c-ae5b-87ee95c40907",
   "metadata": {},
   "outputs": [
    {
     "name": "stdout",
     "output_type": "stream",
     "text": [
      "               Number Position\n",
      "Name                          \n",
      "R.J. Hunter      28.0       SG\n",
      "Jonas Jerebko     8.0       PF\n"
     ]
    }
   ],
   "source": [
    "selection = data.iloc[[3, 4], [1, 2]]\n",
    "print(selection)"
   ]
  },
  {
   "cell_type": "markdown",
   "id": "63a00869-7f7d-4a2d-a4ce-5a421b8f2963",
   "metadata": {},
   "source": [
    "#### 4. Selecting All Rows and Specific Columns by Position\n",
    "To select all rows and specific columns, use a colon [:] for all rows and a list of column positions:"
   ]
  },
  {
   "cell_type": "code",
   "execution_count": 13,
   "id": "e75031e7-d1c1-4c7f-ab02-620c8260b069",
   "metadata": {},
   "outputs": [
    {
     "name": "stdout",
     "output_type": "stream",
     "text": [
      "               Number Position\n",
      "Name                          \n",
      "Avery Bradley     0.0       PG\n",
      "Jae Crowder      99.0       SF\n",
      "John Holland     30.0       SG\n",
      "R.J. Hunter      28.0       SG\n",
      "Jonas Jerebko     8.0       PF\n",
      "...               ...      ...\n",
      "Shelvin Mack      8.0       PG\n",
      "Raul Neto        25.0       PG\n",
      "Tibor Pleiss     21.0        C\n",
      "Jeff Withey      24.0        C\n",
      "NaN               NaN      NaN\n",
      "\n",
      "[458 rows x 2 columns]\n"
     ]
    }
   ],
   "source": [
    "selection = data.iloc[:, [1, 2]]\n",
    "print(selection)"
   ]
  },
  {
   "cell_type": "markdown",
   "id": "af346a54-36a5-429b-aefb-c304bd210ec8",
   "metadata": {},
   "source": [
    "### 4. Other Useful Indexing Methods\n",
    "Pandas also provides several other methods that we may find useful for indexing and manipulating DataFrames:"
   ]
  },
  {
   "cell_type": "markdown",
   "id": "04ab574a-ee58-4b6a-b0a2-e4bf206e3428",
   "metadata": {},
   "source": [
    "#### 1. .head(): Returns the first n rows of a DataFrame"
   ]
  },
  {
   "cell_type": "code",
   "execution_count": 14,
   "id": "a4c040bf-e77e-4d77-8eaa-c13826089d54",
   "metadata": {},
   "outputs": [
    {
     "name": "stdout",
     "output_type": "stream",
     "text": [
      "                         Team  Number Position   Age Height  Weight  \\\n",
      "Name                                                                  \n",
      "Avery Bradley  Boston Celtics     0.0       PG  25.0    6-2   180.0   \n",
      "Jae Crowder    Boston Celtics    99.0       SF  25.0    6-6   235.0   \n",
      "John Holland   Boston Celtics    30.0       SG  27.0    6-5   205.0   \n",
      "R.J. Hunter    Boston Celtics    28.0       SG  22.0    6-5   185.0   \n",
      "Jonas Jerebko  Boston Celtics     8.0       PF  29.0   6-10   231.0   \n",
      "\n",
      "                         College     Salary  \n",
      "Name                                         \n",
      "Avery Bradley              Texas  7730337.0  \n",
      "Jae Crowder            Marquette  6796117.0  \n",
      "John Holland   Boston University        NaN  \n",
      "R.J. Hunter        Georgia State  1148640.0  \n",
      "Jonas Jerebko                NaN  5000000.0  \n"
     ]
    }
   ],
   "source": [
    "print(data.head(5))"
   ]
  },
  {
   "cell_type": "markdown",
   "id": "d095fe92-2527-4ce2-a7c1-82827cfe7f63",
   "metadata": {},
   "source": [
    "#### 2. .tail(): Returns the last n rows of a DataFrame"
   ]
  },
  {
   "cell_type": "code",
   "execution_count": 15,
   "id": "8dffafc0-e805-425b-85a6-a75ac704502b",
   "metadata": {},
   "outputs": [
    {
     "name": "stdout",
     "output_type": "stream",
     "text": [
      "                   Team  Number Position   Age Height  Weight College  \\\n",
      "Name                                                                    \n",
      "Shelvin Mack  Utah Jazz     8.0       PG  26.0    6-3   203.0  Butler   \n",
      "Raul Neto     Utah Jazz    25.0       PG  24.0    6-1   179.0     NaN   \n",
      "Tibor Pleiss  Utah Jazz    21.0        C  26.0    7-3   256.0     NaN   \n",
      "Jeff Withey   Utah Jazz    24.0        C  26.0    7-0   231.0  Kansas   \n",
      "NaN                 NaN     NaN      NaN   NaN    NaN     NaN     NaN   \n",
      "\n",
      "                 Salary  \n",
      "Name                     \n",
      "Shelvin Mack  2433333.0  \n",
      "Raul Neto      900000.0  \n",
      "Tibor Pleiss  2900000.0  \n",
      "Jeff Withey    947276.0  \n",
      "NaN                 NaN  \n"
     ]
    }
   ],
   "source": [
    "print(data.tail(5))"
   ]
  },
  {
   "cell_type": "markdown",
   "id": "bd19a757-38d6-4bce-91ee-a488c29ca986",
   "metadata": {},
   "source": [
    "#### 3. .at[]: Access a single value for a row/column label pair"
   ]
  },
  {
   "cell_type": "code",
   "execution_count": 16,
   "id": "260e755f-b49c-4a98-a9ec-bb6404e872ef",
   "metadata": {},
   "outputs": [
    {
     "name": "stdout",
     "output_type": "stream",
     "text": [
      "25.0\n"
     ]
    }
   ],
   "source": [
    "value = data.at[\"Avery Bradley\", \"Age\"]\n",
    "print(value)"
   ]
  },
  {
   "cell_type": "markdown",
   "id": "b4acc145-0526-4a19-98e3-2ba03ac8150d",
   "metadata": {},
   "source": [
    "#### 4. .query(): Query the DataFrame using a boolean expression"
   ]
  },
  {
   "cell_type": "code",
   "execution_count": 17,
   "id": "657dcffd-9dba-496b-9aa3-1b5582379444",
   "metadata": {},
   "outputs": [
    {
     "name": "stdout",
     "output_type": "stream",
     "text": [
      "                                    Team  Number Position   Age Height  \\\n",
      "Name                                                                     \n",
      "Lance Thomas             New York Knicks    42.0       SF  28.0    6-8   \n",
      "Elton Brand           Philadelphia 76ers    42.0       PF  37.0    6-9   \n",
      "JJ Redick           Los Angeles Clippers     4.0       SG  31.0    6-4   \n",
      "Mike Dunleavy              Chicago Bulls    34.0       SG  35.0    6-9   \n",
      "Dahntay Jones        Cleveland Cavaliers    30.0       SG  35.0    6-6   \n",
      "Miles Plumlee            Milwaukee Bucks    18.0        C  27.0   6-11   \n",
      "Luol Deng                     Miami Heat     9.0       SF  31.0    6-9   \n",
      "Josh McRoberts                Miami Heat     4.0       PF  29.0   6-10   \n",
      "Kyle Singler       Oklahoma City Thunder     5.0       SF  28.0    6-8   \n",
      "Gerald Henderson  Portland Trail Blazers     9.0       SG  28.0    6-5   \n",
      "Mason Plumlee     Portland Trail Blazers    24.0        C  26.0   6-11   \n",
      "\n",
      "                  Weight College      Salary  \n",
      "Name                                          \n",
      "Lance Thomas       235.0    Duke   1636842.0  \n",
      "Elton Brand        254.0    Duke         NaN  \n",
      "JJ Redick          190.0    Duke   7085000.0  \n",
      "Mike Dunleavy      230.0    Duke   4500000.0  \n",
      "Dahntay Jones      225.0    Duke         NaN  \n",
      "Miles Plumlee      249.0    Duke   2109294.0  \n",
      "Luol Deng          220.0    Duke  10151612.0  \n",
      "Josh McRoberts     240.0    Duke   5543725.0  \n",
      "Kyle Singler       228.0    Duke   4500000.0  \n",
      "Gerald Henderson   215.0    Duke   6000000.0  \n",
      "Mason Plumlee      235.0    Duke   1415520.0  \n"
     ]
    }
   ],
   "source": [
    "result = data.query(\"Age > 25 and College == 'Duke'\")\n",
    "print(result)"
   ]
  },
  {
   "cell_type": "markdown",
   "id": "2f6db828-ff13-49f1-a257-4995f7a939ee",
   "metadata": {},
   "source": [
    "| Function             | Description                                                                 |\n",
    "|-----------------------|-----------------------------------------------------------------------------|\n",
    "| `DataFrame.iat[]`     | Access a single value for a row/column pair by integer position.             |\n",
    "| `DataFrame.pop()`     | Return item and drop from DataFrame.                                        |\n",
    "| `DataFrame.xs()`      | Return a cross-section (row(s) or column(s)) from the DataFrame.            |\n",
    "| `DataFrame.get()`     | Get item from object for given key (e.g., DataFrame column).                 |\n",
    "| `DataFrame.isin()`    | Return a boolean DataFrame showing whether each element is contained in values. |\n",
    "| `DataFrame.where()`   | Return an object of the same shape with entries from self where cond is True otherwise from other. |\n",
    "| `DataFrame.mask()`    | Return an object of the same shape with entries from self where cond is False otherwise from other. |\n",
    "| `DataFrame.insert()`  | Insert a column into DataFrame at a specified location.                      |\n"
   ]
  },
  {
   "cell_type": "code",
   "execution_count": null,
   "id": "cfe824f3-4b19-4bc0-b408-82517fcd7ad4",
   "metadata": {},
   "outputs": [],
   "source": []
  }
 ],
 "metadata": {
  "kernelspec": {
   "display_name": "Python 3 (ipykernel)",
   "language": "python",
   "name": "python3"
  },
  "language_info": {
   "codemirror_mode": {
    "name": "ipython",
    "version": 3
   },
   "file_extension": ".py",
   "mimetype": "text/x-python",
   "name": "python",
   "nbconvert_exporter": "python",
   "pygments_lexer": "ipython3",
   "version": "3.13.5"
  }
 },
 "nbformat": 4,
 "nbformat_minor": 5
}
