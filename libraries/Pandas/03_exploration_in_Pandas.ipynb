{
 "cells": [
  {
   "cell_type": "markdown",
   "id": "e36776cf-38a3-407d-8a9e-8e7636c1009b",
   "metadata": {},
   "source": [
    "When working with data in Python understanding the structure and content of our dataset is important. The dataframe.info() method in Pandas helps us in providing a concise summary of our DataFrame and it quickly assesses its structure, identify issues like missing values and optimize memory usage.\n",
    "\n",
    "Key features of dataframe.info() include:\n",
    "\n",
    "* Number of entries (rows) in the DataFrame.\n",
    "* Column names and their associated data types like integer, float, object, etc.\n",
    "* The number of non-null values in each column which is useful for spotting missing data.\n",
    "* A summary of how much memory the DataFrame is consuming.  \n",
    "In this article we'll see how to use dataframe.info() to streamline our data exploration process.  \n",
    "\n",
    "Lets see a examples for better understanding. Here we’ll be using the Pandas library and a random   dataset. We will display a concise summary of the DataFrame using the info() method."
   ]
  },
  {
   "cell_type": "code",
   "execution_count": 1,
   "id": "bfd4a6b1-6e31-4b32-89e0-3ca436105f60",
   "metadata": {},
   "outputs": [],
   "source": [
    "import pandas as pd"
   ]
  },
  {
   "cell_type": "code",
   "execution_count": 2,
   "id": "7e602274-4dbc-4bb5-a5e2-b5871e229490",
   "metadata": {},
   "outputs": [
    {
     "name": "stdout",
     "output_type": "stream",
     "text": [
      "<class 'pandas.core.frame.DataFrame'>\n",
      "RangeIndex: 458 entries, 0 to 457\n",
      "Data columns (total 9 columns):\n",
      " #   Column    Non-Null Count  Dtype  \n",
      "---  ------    --------------  -----  \n",
      " 0   Name      457 non-null    object \n",
      " 1   Team      457 non-null    object \n",
      " 2   Number    457 non-null    float64\n",
      " 3   Position  457 non-null    object \n",
      " 4   Age       457 non-null    float64\n",
      " 5   Height    457 non-null    object \n",
      " 6   Weight    457 non-null    float64\n",
      " 7   College   373 non-null    object \n",
      " 8   Salary    446 non-null    float64\n",
      "dtypes: float64(4), object(5)\n",
      "memory usage: 32.3+ KB\n"
     ]
    }
   ],
   "source": [
    "df=pd.read_csv(\"nba.csv\")\n",
    "df.info()"
   ]
  },
  {
   "cell_type": "markdown",
   "id": "2929a621-fcd0-4e53-b7c3-36cc4fca2c30",
   "metadata": {},
   "source": [
    "Here info() provides an overview of the DataFrame's structure such as number of entries, column names, data types and non-null counts."
   ]
  },
  {
   "cell_type": "markdown",
   "id": "f0c5fc78-2563-4bd7-a070-6a41e320f79e",
   "metadata": {},
   "source": [
    "##### Syntax of dataframe.info()  \n",
    "DataFrame.info(verbose=None, buf=None, max_cols=None, memory_usage=None, null_counts=None)  \n",
    "Parameters: \n",
    "\n",
    "1. verbose: Controls the level of detail in the summary.\n",
    "\n",
    "True: Displays the full summary.  \n",
    "False: Provides a concise summary.  \n",
    "\n",
    "2. memory_usage: Shows memory usage of the DataFrame.\n",
    "\n",
    "True: Displays basic memory usage.  \n",
    "deep: Provides a detailed view, including memory usage of each column’s objects.  \n",
    "\n",
    "3. null_counts: Controls whether the number of non-null entries is displayed.\n",
    "\n",
    "True: Shows non-null counts for each column.  \n",
    "False: Excludes non-null counts for a cleaner summary.  "
   ]
  },
  {
   "cell_type": "markdown",
   "id": "e78f0cdd-16ed-49b3-bb5e-50bbd746556e",
   "metadata": {},
   "source": [
    "### 1. Shortened Summary with verbose=False\n",
    "Here we will use the verbose parameter to generate a more concise summary of the DataFrame. By setting verbose=False we exclude detailed column information such as the number of non-null values which is useful when working with large datasets where we might not need all the details."
   ]
  },
  {
   "cell_type": "code",
   "execution_count": 3,
   "id": "3b7425f0-7cd2-44a5-8433-49aa868d0ebc",
   "metadata": {},
   "outputs": [
    {
     "name": "stdout",
     "output_type": "stream",
     "text": [
      "<class 'pandas.core.frame.DataFrame'>\n",
      "RangeIndex: 458 entries, 0 to 457\n",
      "Columns: 9 entries, Name to Salary\n",
      "dtypes: float64(4), object(5)\n",
      "memory usage: 32.3+ KB\n"
     ]
    }
   ],
   "source": [
    "df.info(verbose=False)"
   ]
  },
  {
   "cell_type": "markdown",
   "id": "0dbefe3e-e56a-4d48-9147-4f37810f530f",
   "metadata": {},
   "source": [
    "### 2. Full Summary with Memory Usage\n",
    "We will use the memory_usage parameter to include detailed memory consumption information in the summary. By setting memory_usage=True, the dataframe.info() method will provide an overview of how much memory the DataFrame uses including both data and index memory usage."
   ]
  },
  {
   "cell_type": "code",
   "execution_count": 4,
   "id": "473a9df9-a0b2-4b12-97b4-bc5a45fdd08f",
   "metadata": {},
   "outputs": [
    {
     "name": "stdout",
     "output_type": "stream",
     "text": [
      "<class 'pandas.core.frame.DataFrame'>\n",
      "RangeIndex: 458 entries, 0 to 457\n",
      "Data columns (total 9 columns):\n",
      " #   Column    Non-Null Count  Dtype  \n",
      "---  ------    --------------  -----  \n",
      " 0   Name      457 non-null    object \n",
      " 1   Team      457 non-null    object \n",
      " 2   Number    457 non-null    float64\n",
      " 3   Position  457 non-null    object \n",
      " 4   Age       457 non-null    float64\n",
      " 5   Height    457 non-null    object \n",
      " 6   Weight    457 non-null    float64\n",
      " 7   College   373 non-null    object \n",
      " 8   Salary    446 non-null    float64\n",
      "dtypes: float64(4), object(5)"
     ]
    }
   ],
   "source": [
    "df.info(memory_usage=False)"
   ]
  },
  {
   "cell_type": "markdown",
   "id": "31af7b69-7c07-4111-a7f5-867cc5797178",
   "metadata": {},
   "source": [
    "The describe() method in Pandas generates descriptive statistics of DataFrame columns which provides key metrics like mean, standard deviation, percentiles and more. It works with numeric data by default but can also handle categorical data which offers insights like the most frequent value and the number of unique entries. In this article, we'll see how to use describe() for both numeric and categorical data.\n",
    "\n",
    "##### Syntax:\n",
    "DataFrame.describe(percentiles=None, include=None, exclude=None)  \n",
    "\n",
    "##### Parameters:\n",
    "\n",
    "* percentiles: A list of numbers between 0 and 1 specifying which percentiles to return. The default is None which returns the 25th, 50th and 75th percentiles.\n",
    "* include: A list of data types to include in the summary like int, float, object for strings. Default is None means all numeric types are included.\n",
    "* exclude: A list of data types to exclude from the summary. Default is None means no types are excluded.  \n",
    "The describe() method returns a statistical summary of the DataFrame or Series which helps to understand the key characteristics of our data quickly. Lets see some examples for its better understanding.  "
   ]
  },
  {
   "cell_type": "markdown",
   "id": "6fdc66c2-aeb0-43c3-bad1-0b1ba69a54c0",
   "metadata": {},
   "source": [
    "### 1. Using describe() on a DataFrame\n",
    "Here we will see how the describe() method generates a statistical summary for numeric columns such as age and salary. This is a basic use case of describe() to give us an overview of key statistical metrics across the dataset."
   ]
  },
  {
   "cell_type": "code",
   "execution_count": 5,
   "id": "12729b62-7e27-46d2-9580-205f4ba41fad",
   "metadata": {},
   "outputs": [
    {
     "name": "stdout",
     "output_type": "stream",
     "text": [
      "NBA Dataset:\n",
      "            Name            Team  Number Position   Age Height  Weight  \\\n",
      "0  Avery Bradley  Boston Celtics     0.0       PG  25.0    6-2   180.0   \n",
      "1    Jae Crowder  Boston Celtics    99.0       SF  25.0    6-6   235.0   \n",
      "2   John Holland  Boston Celtics    30.0       SG  27.0    6-5   205.0   \n",
      "3    R.J. Hunter  Boston Celtics    28.0       SG  22.0    6-5   185.0   \n",
      "4  Jonas Jerebko  Boston Celtics     8.0       PF  29.0   6-10   231.0   \n",
      "\n",
      "             College     Salary  \n",
      "0              Texas  7730337.0  \n",
      "1          Marquette  6796117.0  \n",
      "2  Boston University        NaN  \n",
      "3      Georgia State  1148640.0  \n",
      "4                NaN  5000000.0  \n",
      "\n",
      "Summary Table Generated by .describe() Method:\n",
      "           Number         Age      Weight        Salary\n",
      "count  457.000000  457.000000  457.000000  4.460000e+02\n",
      "mean    17.678337   26.938731  221.522976  4.842684e+06\n",
      "std     15.966090    4.404016   26.368343  5.229238e+06\n",
      "min      0.000000   19.000000  161.000000  3.088800e+04\n",
      "25%      5.000000   24.000000  200.000000  1.044792e+06\n",
      "50%     13.000000   26.000000  220.000000  2.839073e+06\n",
      "75%     25.000000   30.000000  240.000000  6.500000e+06\n",
      "max     99.000000   40.000000  307.000000  2.500000e+07\n"
     ]
    }
   ],
   "source": [
    "print(\"NBA Dataset:\")\n",
    "print(df.head())\n",
    "\n",
    "print(\"\\nSummary Table Generated by .describe() Method:\")\n",
    "print(df.describe())"
   ]
  },
  {
   "cell_type": "markdown",
   "id": "b130fea8-e10b-4276-a65f-26a14bbb7bf7",
   "metadata": {},
   "source": [
    "Descriptive Statistics for Numerical Columns generated using .describe() Method\n",
    "\n",
    "1. count: Total number of non-null entries in each column.\n",
    "2. mean: Average (mean) of the values in the column.\n",
    "3. std: Standard deviation showing how spread out the values are.\n",
    "4. min: Minimum value in the column.\n",
    "5. 25%: The 25th percentile (Q1) which means 25% of the data points are less than this value.\n",
    "6. 50%: Median value (50th percentile) where half the data points are below it.\n",
    "7. 75%: The 75th percentile (Q3) means 75% of the data points are below this value.\n",
    "8. max: Maximum value in the column.  \n",
    "This summary provides us a quick overview of the numeric columns in the dataset which helps us understand the distribution of key variables like age and salary."
   ]
  },
  {
   "cell_type": "markdown",
   "id": "966294a2-fa23-4a90-892d-f97535b795d6",
   "metadata": {},
   "source": [
    "### 2. Customizing describe() with Percentiles\n",
    "We can customize the describe() method by specifying custom percentiles. By passing a list of percentiles we can obtain more detailed insights into our data’s distribution beyond the default 25th, 50th and 75th percentiles."
   ]
  },
  {
   "cell_type": "code",
   "execution_count": 6,
   "id": "8bd7503e-b8a9-4315-865f-78c41bbfa42c",
   "metadata": {},
   "outputs": [
    {
     "data": {
      "text/html": [
       "<div>\n",
       "<style scoped>\n",
       "    .dataframe tbody tr th:only-of-type {\n",
       "        vertical-align: middle;\n",
       "    }\n",
       "\n",
       "    .dataframe tbody tr th {\n",
       "        vertical-align: top;\n",
       "    }\n",
       "\n",
       "    .dataframe thead th {\n",
       "        text-align: right;\n",
       "    }\n",
       "</style>\n",
       "<table border=\"1\" class=\"dataframe\">\n",
       "  <thead>\n",
       "    <tr style=\"text-align: right;\">\n",
       "      <th></th>\n",
       "      <th>Name</th>\n",
       "      <th>Team</th>\n",
       "      <th>Number</th>\n",
       "      <th>Position</th>\n",
       "      <th>Age</th>\n",
       "      <th>Height</th>\n",
       "      <th>Weight</th>\n",
       "      <th>College</th>\n",
       "      <th>Salary</th>\n",
       "    </tr>\n",
       "  </thead>\n",
       "  <tbody>\n",
       "    <tr>\n",
       "      <th>count</th>\n",
       "      <td>457</td>\n",
       "      <td>457</td>\n",
       "      <td>457.000000</td>\n",
       "      <td>457</td>\n",
       "      <td>457.000000</td>\n",
       "      <td>457</td>\n",
       "      <td>457.000000</td>\n",
       "      <td>373</td>\n",
       "      <td>4.460000e+02</td>\n",
       "    </tr>\n",
       "    <tr>\n",
       "      <th>unique</th>\n",
       "      <td>457</td>\n",
       "      <td>30</td>\n",
       "      <td>NaN</td>\n",
       "      <td>5</td>\n",
       "      <td>NaN</td>\n",
       "      <td>18</td>\n",
       "      <td>NaN</td>\n",
       "      <td>118</td>\n",
       "      <td>NaN</td>\n",
       "    </tr>\n",
       "    <tr>\n",
       "      <th>top</th>\n",
       "      <td>Jeff Withey</td>\n",
       "      <td>New Orleans Pelicans</td>\n",
       "      <td>NaN</td>\n",
       "      <td>SG</td>\n",
       "      <td>NaN</td>\n",
       "      <td>6-9</td>\n",
       "      <td>NaN</td>\n",
       "      <td>Kentucky</td>\n",
       "      <td>NaN</td>\n",
       "    </tr>\n",
       "    <tr>\n",
       "      <th>freq</th>\n",
       "      <td>1</td>\n",
       "      <td>19</td>\n",
       "      <td>NaN</td>\n",
       "      <td>102</td>\n",
       "      <td>NaN</td>\n",
       "      <td>59</td>\n",
       "      <td>NaN</td>\n",
       "      <td>22</td>\n",
       "      <td>NaN</td>\n",
       "    </tr>\n",
       "    <tr>\n",
       "      <th>mean</th>\n",
       "      <td>NaN</td>\n",
       "      <td>NaN</td>\n",
       "      <td>17.678337</td>\n",
       "      <td>NaN</td>\n",
       "      <td>26.938731</td>\n",
       "      <td>NaN</td>\n",
       "      <td>221.522976</td>\n",
       "      <td>NaN</td>\n",
       "      <td>4.842684e+06</td>\n",
       "    </tr>\n",
       "    <tr>\n",
       "      <th>std</th>\n",
       "      <td>NaN</td>\n",
       "      <td>NaN</td>\n",
       "      <td>15.966090</td>\n",
       "      <td>NaN</td>\n",
       "      <td>4.404016</td>\n",
       "      <td>NaN</td>\n",
       "      <td>26.368343</td>\n",
       "      <td>NaN</td>\n",
       "      <td>5.229238e+06</td>\n",
       "    </tr>\n",
       "    <tr>\n",
       "      <th>min</th>\n",
       "      <td>NaN</td>\n",
       "      <td>NaN</td>\n",
       "      <td>0.000000</td>\n",
       "      <td>NaN</td>\n",
       "      <td>19.000000</td>\n",
       "      <td>NaN</td>\n",
       "      <td>161.000000</td>\n",
       "      <td>NaN</td>\n",
       "      <td>3.088800e+04</td>\n",
       "    </tr>\n",
       "    <tr>\n",
       "      <th>20%</th>\n",
       "      <td>NaN</td>\n",
       "      <td>NaN</td>\n",
       "      <td>4.000000</td>\n",
       "      <td>NaN</td>\n",
       "      <td>23.000000</td>\n",
       "      <td>NaN</td>\n",
       "      <td>195.600000</td>\n",
       "      <td>NaN</td>\n",
       "      <td>9.472760e+05</td>\n",
       "    </tr>\n",
       "    <tr>\n",
       "      <th>40%</th>\n",
       "      <td>NaN</td>\n",
       "      <td>NaN</td>\n",
       "      <td>10.000000</td>\n",
       "      <td>NaN</td>\n",
       "      <td>25.000000</td>\n",
       "      <td>NaN</td>\n",
       "      <td>213.400000</td>\n",
       "      <td>NaN</td>\n",
       "      <td>1.938840e+06</td>\n",
       "    </tr>\n",
       "    <tr>\n",
       "      <th>50%</th>\n",
       "      <td>NaN</td>\n",
       "      <td>NaN</td>\n",
       "      <td>13.000000</td>\n",
       "      <td>NaN</td>\n",
       "      <td>26.000000</td>\n",
       "      <td>NaN</td>\n",
       "      <td>220.000000</td>\n",
       "      <td>NaN</td>\n",
       "      <td>2.839073e+06</td>\n",
       "    </tr>\n",
       "    <tr>\n",
       "      <th>60%</th>\n",
       "      <td>NaN</td>\n",
       "      <td>NaN</td>\n",
       "      <td>18.600000</td>\n",
       "      <td>NaN</td>\n",
       "      <td>27.000000</td>\n",
       "      <td>NaN</td>\n",
       "      <td>230.000000</td>\n",
       "      <td>NaN</td>\n",
       "      <td>3.815000e+06</td>\n",
       "    </tr>\n",
       "    <tr>\n",
       "      <th>80%</th>\n",
       "      <td>NaN</td>\n",
       "      <td>NaN</td>\n",
       "      <td>30.000000</td>\n",
       "      <td>NaN</td>\n",
       "      <td>30.000000</td>\n",
       "      <td>NaN</td>\n",
       "      <td>245.000000</td>\n",
       "      <td>NaN</td>\n",
       "      <td>8.042895e+06</td>\n",
       "    </tr>\n",
       "    <tr>\n",
       "      <th>max</th>\n",
       "      <td>NaN</td>\n",
       "      <td>NaN</td>\n",
       "      <td>99.000000</td>\n",
       "      <td>NaN</td>\n",
       "      <td>40.000000</td>\n",
       "      <td>NaN</td>\n",
       "      <td>307.000000</td>\n",
       "      <td>NaN</td>\n",
       "      <td>2.500000e+07</td>\n",
       "    </tr>\n",
       "  </tbody>\n",
       "</table>\n",
       "</div>"
      ],
      "text/plain": [
       "               Name                  Team      Number Position         Age  \\\n",
       "count           457                   457  457.000000      457  457.000000   \n",
       "unique          457                    30         NaN        5         NaN   \n",
       "top     Jeff Withey  New Orleans Pelicans         NaN       SG         NaN   \n",
       "freq              1                    19         NaN      102         NaN   \n",
       "mean            NaN                   NaN   17.678337      NaN   26.938731   \n",
       "std             NaN                   NaN   15.966090      NaN    4.404016   \n",
       "min             NaN                   NaN    0.000000      NaN   19.000000   \n",
       "20%             NaN                   NaN    4.000000      NaN   23.000000   \n",
       "40%             NaN                   NaN   10.000000      NaN   25.000000   \n",
       "50%             NaN                   NaN   13.000000      NaN   26.000000   \n",
       "60%             NaN                   NaN   18.600000      NaN   27.000000   \n",
       "80%             NaN                   NaN   30.000000      NaN   30.000000   \n",
       "max             NaN                   NaN   99.000000      NaN   40.000000   \n",
       "\n",
       "       Height      Weight   College        Salary  \n",
       "count     457  457.000000       373  4.460000e+02  \n",
       "unique     18         NaN       118           NaN  \n",
       "top       6-9         NaN  Kentucky           NaN  \n",
       "freq       59         NaN        22           NaN  \n",
       "mean      NaN  221.522976       NaN  4.842684e+06  \n",
       "std       NaN   26.368343       NaN  5.229238e+06  \n",
       "min       NaN  161.000000       NaN  3.088800e+04  \n",
       "20%       NaN  195.600000       NaN  9.472760e+05  \n",
       "40%       NaN  213.400000       NaN  1.938840e+06  \n",
       "50%       NaN  220.000000       NaN  2.839073e+06  \n",
       "60%       NaN  230.000000       NaN  3.815000e+06  \n",
       "80%       NaN  245.000000       NaN  8.042895e+06  \n",
       "max       NaN  307.000000       NaN  2.500000e+07  "
      ]
     },
     "execution_count": 6,
     "metadata": {},
     "output_type": "execute_result"
    }
   ],
   "source": [
    "percentiles = [.20, .40, .60, .80]\n",
    "include = ['object', 'float', 'int']\n",
    "\n",
    "desc = df.describe(percentiles=percentiles, include=include)\n",
    "\n",
    "desc"
   ]
  },
  {
   "cell_type": "markdown",
   "id": "de90fe81-76fc-4953-851e-1f84786fc70d",
   "metadata": {},
   "source": [
    "### 3. Describing String (Object) Data\n",
    "The describe() method also works with string data i.e object data type. When used on string data, it provides different statistics such as the count of unique values, most frequent values etc. This example shows how to apply describe() to a column containing categorical (string) data."
   ]
  },
  {
   "cell_type": "code",
   "execution_count": 7,
   "id": "8893fd65-2b30-43ca-8c0c-21976979f665",
   "metadata": {},
   "outputs": [
    {
     "name": "stdout",
     "output_type": "stream",
     "text": [
      "count             457\n",
      "unique            457\n",
      "top       Jeff Withey\n",
      "freq                1\n",
      "Name: Name, dtype: object\n"
     ]
    }
   ],
   "source": [
    "desc = df[\"Name\"].describe()\n",
    "\n",
    "print(desc)"
   ]
  },
  {
   "cell_type": "markdown",
   "id": "60839fcb-f0ef-436b-8adf-c99b7e08c942",
   "metadata": {},
   "source": [
    "For string (object) data, describe() provides:\n",
    "\n",
    "1. count: Total number of non-null values.\n",
    "2. unique: Number of unique values in the column.\n",
    "3. top: Most frequent value in the column.\n",
    "4. freq: Frequency of the most common value.  \n",
    "This is useful for quickly understanding the distribution of categorical data or identifying the most frequent values."
   ]
  },
  {
   "cell_type": "markdown",
   "id": "bf23bd78-e262-4676-acbb-c905fab9d685",
   "metadata": {},
   "source": [
    "### 4. Describing Specific Columns with describe()\n",
    "We may sometimes want to generate a summary for a specific column in our DataFrame. For example we may be interested in analyzing just the \"Salary\" column without summarizing the other columns.\n",
    "\n",
    "\n",
    "\n",
    "\n"
   ]
  },
  {
   "cell_type": "code",
   "execution_count": 8,
   "id": "40c23d7d-1f18-4e69-93d7-b1303162d749",
   "metadata": {},
   "outputs": [
    {
     "data": {
      "text/plain": [
       "count    4.460000e+02\n",
       "mean     4.842684e+06\n",
       "std      5.229238e+06\n",
       "min      3.088800e+04\n",
       "25%      1.044792e+06\n",
       "50%      2.839073e+06\n",
       "75%      6.500000e+06\n",
       "max      2.500000e+07\n",
       "Name: Salary, dtype: float64"
      ]
     },
     "execution_count": 8,
     "metadata": {},
     "output_type": "execute_result"
    }
   ],
   "source": [
    "salary_desc = df[\"Salary\"].describe()\n",
    "\n",
    "salary_desc"
   ]
  },
  {
   "cell_type": "markdown",
   "id": "e3cb2edb-6fc3-41f5-97f3-1ae90bf3f376",
   "metadata": {},
   "source": [
    "### 5. Describing Data with include='all'\n",
    "By using the include='all' parameter we can generate a summary for all columns in the DataFrame regardless of data type. This is helpful when we want to analyze both numeric and categorical data at the same time."
   ]
  },
  {
   "cell_type": "code",
   "execution_count": 9,
   "id": "41d6f390-5e6b-48bb-9cb8-0bf8d62de34a",
   "metadata": {},
   "outputs": [
    {
     "data": {
      "text/html": [
       "<div>\n",
       "<style scoped>\n",
       "    .dataframe tbody tr th:only-of-type {\n",
       "        vertical-align: middle;\n",
       "    }\n",
       "\n",
       "    .dataframe tbody tr th {\n",
       "        vertical-align: top;\n",
       "    }\n",
       "\n",
       "    .dataframe thead th {\n",
       "        text-align: right;\n",
       "    }\n",
       "</style>\n",
       "<table border=\"1\" class=\"dataframe\">\n",
       "  <thead>\n",
       "    <tr style=\"text-align: right;\">\n",
       "      <th></th>\n",
       "      <th>Name</th>\n",
       "      <th>Team</th>\n",
       "      <th>Number</th>\n",
       "      <th>Position</th>\n",
       "      <th>Age</th>\n",
       "      <th>Height</th>\n",
       "      <th>Weight</th>\n",
       "      <th>College</th>\n",
       "      <th>Salary</th>\n",
       "    </tr>\n",
       "  </thead>\n",
       "  <tbody>\n",
       "    <tr>\n",
       "      <th>count</th>\n",
       "      <td>457</td>\n",
       "      <td>457</td>\n",
       "      <td>457.000000</td>\n",
       "      <td>457</td>\n",
       "      <td>457.000000</td>\n",
       "      <td>457</td>\n",
       "      <td>457.000000</td>\n",
       "      <td>373</td>\n",
       "      <td>4.460000e+02</td>\n",
       "    </tr>\n",
       "    <tr>\n",
       "      <th>unique</th>\n",
       "      <td>457</td>\n",
       "      <td>30</td>\n",
       "      <td>NaN</td>\n",
       "      <td>5</td>\n",
       "      <td>NaN</td>\n",
       "      <td>18</td>\n",
       "      <td>NaN</td>\n",
       "      <td>118</td>\n",
       "      <td>NaN</td>\n",
       "    </tr>\n",
       "    <tr>\n",
       "      <th>top</th>\n",
       "      <td>Jeff Withey</td>\n",
       "      <td>New Orleans Pelicans</td>\n",
       "      <td>NaN</td>\n",
       "      <td>SG</td>\n",
       "      <td>NaN</td>\n",
       "      <td>6-9</td>\n",
       "      <td>NaN</td>\n",
       "      <td>Kentucky</td>\n",
       "      <td>NaN</td>\n",
       "    </tr>\n",
       "    <tr>\n",
       "      <th>freq</th>\n",
       "      <td>1</td>\n",
       "      <td>19</td>\n",
       "      <td>NaN</td>\n",
       "      <td>102</td>\n",
       "      <td>NaN</td>\n",
       "      <td>59</td>\n",
       "      <td>NaN</td>\n",
       "      <td>22</td>\n",
       "      <td>NaN</td>\n",
       "    </tr>\n",
       "    <tr>\n",
       "      <th>mean</th>\n",
       "      <td>NaN</td>\n",
       "      <td>NaN</td>\n",
       "      <td>17.678337</td>\n",
       "      <td>NaN</td>\n",
       "      <td>26.938731</td>\n",
       "      <td>NaN</td>\n",
       "      <td>221.522976</td>\n",
       "      <td>NaN</td>\n",
       "      <td>4.842684e+06</td>\n",
       "    </tr>\n",
       "    <tr>\n",
       "      <th>std</th>\n",
       "      <td>NaN</td>\n",
       "      <td>NaN</td>\n",
       "      <td>15.966090</td>\n",
       "      <td>NaN</td>\n",
       "      <td>4.404016</td>\n",
       "      <td>NaN</td>\n",
       "      <td>26.368343</td>\n",
       "      <td>NaN</td>\n",
       "      <td>5.229238e+06</td>\n",
       "    </tr>\n",
       "    <tr>\n",
       "      <th>min</th>\n",
       "      <td>NaN</td>\n",
       "      <td>NaN</td>\n",
       "      <td>0.000000</td>\n",
       "      <td>NaN</td>\n",
       "      <td>19.000000</td>\n",
       "      <td>NaN</td>\n",
       "      <td>161.000000</td>\n",
       "      <td>NaN</td>\n",
       "      <td>3.088800e+04</td>\n",
       "    </tr>\n",
       "    <tr>\n",
       "      <th>25%</th>\n",
       "      <td>NaN</td>\n",
       "      <td>NaN</td>\n",
       "      <td>5.000000</td>\n",
       "      <td>NaN</td>\n",
       "      <td>24.000000</td>\n",
       "      <td>NaN</td>\n",
       "      <td>200.000000</td>\n",
       "      <td>NaN</td>\n",
       "      <td>1.044792e+06</td>\n",
       "    </tr>\n",
       "    <tr>\n",
       "      <th>50%</th>\n",
       "      <td>NaN</td>\n",
       "      <td>NaN</td>\n",
       "      <td>13.000000</td>\n",
       "      <td>NaN</td>\n",
       "      <td>26.000000</td>\n",
       "      <td>NaN</td>\n",
       "      <td>220.000000</td>\n",
       "      <td>NaN</td>\n",
       "      <td>2.839073e+06</td>\n",
       "    </tr>\n",
       "    <tr>\n",
       "      <th>75%</th>\n",
       "      <td>NaN</td>\n",
       "      <td>NaN</td>\n",
       "      <td>25.000000</td>\n",
       "      <td>NaN</td>\n",
       "      <td>30.000000</td>\n",
       "      <td>NaN</td>\n",
       "      <td>240.000000</td>\n",
       "      <td>NaN</td>\n",
       "      <td>6.500000e+06</td>\n",
       "    </tr>\n",
       "    <tr>\n",
       "      <th>max</th>\n",
       "      <td>NaN</td>\n",
       "      <td>NaN</td>\n",
       "      <td>99.000000</td>\n",
       "      <td>NaN</td>\n",
       "      <td>40.000000</td>\n",
       "      <td>NaN</td>\n",
       "      <td>307.000000</td>\n",
       "      <td>NaN</td>\n",
       "      <td>2.500000e+07</td>\n",
       "    </tr>\n",
       "  </tbody>\n",
       "</table>\n",
       "</div>"
      ],
      "text/plain": [
       "               Name                  Team      Number Position         Age  \\\n",
       "count           457                   457  457.000000      457  457.000000   \n",
       "unique          457                    30         NaN        5         NaN   \n",
       "top     Jeff Withey  New Orleans Pelicans         NaN       SG         NaN   \n",
       "freq              1                    19         NaN      102         NaN   \n",
       "mean            NaN                   NaN   17.678337      NaN   26.938731   \n",
       "std             NaN                   NaN   15.966090      NaN    4.404016   \n",
       "min             NaN                   NaN    0.000000      NaN   19.000000   \n",
       "25%             NaN                   NaN    5.000000      NaN   24.000000   \n",
       "50%             NaN                   NaN   13.000000      NaN   26.000000   \n",
       "75%             NaN                   NaN   25.000000      NaN   30.000000   \n",
       "max             NaN                   NaN   99.000000      NaN   40.000000   \n",
       "\n",
       "       Height      Weight   College        Salary  \n",
       "count     457  457.000000       373  4.460000e+02  \n",
       "unique     18         NaN       118           NaN  \n",
       "top       6-9         NaN  Kentucky           NaN  \n",
       "freq       59         NaN        22           NaN  \n",
       "mean      NaN  221.522976       NaN  4.842684e+06  \n",
       "std       NaN   26.368343       NaN  5.229238e+06  \n",
       "min       NaN  161.000000       NaN  3.088800e+04  \n",
       "25%       NaN  200.000000       NaN  1.044792e+06  \n",
       "50%       NaN  220.000000       NaN  2.839073e+06  \n",
       "75%       NaN  240.000000       NaN  6.500000e+06  \n",
       "max       NaN  307.000000       NaN  2.500000e+07  "
      ]
     },
     "execution_count": 9,
     "metadata": {},
     "output_type": "execute_result"
    }
   ],
   "source": [
    "desc_all = df.describe(include='all')\n",
    "\n",
    "desc_all"
   ]
  },
  {
   "cell_type": "markdown",
   "id": "bab6a896-d17a-4c88-8c3c-47e3bb0bedaa",
   "metadata": {},
   "source": [
    "Counting values in Pandas dataframe is important for understanding the distribution of data, checking for missing values or summarizing data. In this article, we will learn various methods to count values in a Pandas DataFrame.\n",
    "\n",
    "We will be using a sample DataFrame to learn about various methods:"
   ]
  },
  {
   "cell_type": "code",
   "execution_count": 11,
   "id": "8477b556-d7a2-45ad-abb4-33747814545c",
   "metadata": {},
   "outputs": [
    {
     "data": {
      "text/html": [
       "<div>\n",
       "<style scoped>\n",
       "    .dataframe tbody tr th:only-of-type {\n",
       "        vertical-align: middle;\n",
       "    }\n",
       "\n",
       "    .dataframe tbody tr th {\n",
       "        vertical-align: top;\n",
       "    }\n",
       "\n",
       "    .dataframe thead th {\n",
       "        text-align: right;\n",
       "    }\n",
       "</style>\n",
       "<table border=\"1\" class=\"dataframe\">\n",
       "  <thead>\n",
       "    <tr style=\"text-align: right;\">\n",
       "      <th></th>\n",
       "      <th>Name</th>\n",
       "      <th>Age</th>\n",
       "      <th>City</th>\n",
       "    </tr>\n",
       "  </thead>\n",
       "  <tbody>\n",
       "    <tr>\n",
       "      <th>0</th>\n",
       "      <td>Alice</td>\n",
       "      <td>25</td>\n",
       "      <td>New York</td>\n",
       "    </tr>\n",
       "    <tr>\n",
       "      <th>1</th>\n",
       "      <td>Bob</td>\n",
       "      <td>30</td>\n",
       "      <td>Chicago</td>\n",
       "    </tr>\n",
       "    <tr>\n",
       "      <th>2</th>\n",
       "      <td>Alice</td>\n",
       "      <td>25</td>\n",
       "      <td>New York</td>\n",
       "    </tr>\n",
       "    <tr>\n",
       "      <th>3</th>\n",
       "      <td>Charlie</td>\n",
       "      <td>35</td>\n",
       "      <td>San Francisco</td>\n",
       "    </tr>\n",
       "    <tr>\n",
       "      <th>4</th>\n",
       "      <td>Bob</td>\n",
       "      <td>30</td>\n",
       "      <td>Chicago</td>\n",
       "    </tr>\n",
       "    <tr>\n",
       "      <th>5</th>\n",
       "      <td>Alice</td>\n",
       "      <td>25</td>\n",
       "      <td>New York</td>\n",
       "    </tr>\n",
       "  </tbody>\n",
       "</table>\n",
       "</div>"
      ],
      "text/plain": [
       "      Name  Age           City\n",
       "0    Alice   25       New York\n",
       "1      Bob   30        Chicago\n",
       "2    Alice   25       New York\n",
       "3  Charlie   35  San Francisco\n",
       "4      Bob   30        Chicago\n",
       "5    Alice   25       New York"
      ]
     },
     "execution_count": 11,
     "metadata": {},
     "output_type": "execute_result"
    }
   ],
   "source": [
    "data = {\n",
    "    'Name': ['Alice', 'Bob', 'Alice', 'Charlie', 'Bob', 'Alice'],\n",
    "    'Age': [25, 30, 25, 35, 30, 25],\n",
    "    'City': ['New York', 'Chicago', 'New York', 'San Francisco', 'Chicago', 'New York']\n",
    "}\n",
    "\n",
    "df = pd.DataFrame(data)\n",
    "df"
   ]
  },
  {
   "cell_type": "markdown",
   "id": "a8b8de14-67fa-4476-bc11-cb3af77c02bc",
   "metadata": {},
   "source": [
    "### 1. Counting Unique Values in a Column\n",
    "To count the unique values in a specific column of a DataFrame we can use the nunique() method. This method returns the number of unique values in the column."
   ]
  },
  {
   "cell_type": "code",
   "execution_count": 12,
   "id": "ebc965dc-a99b-49e2-8363-af688eeee095",
   "metadata": {},
   "outputs": [
    {
     "name": "stdout",
     "output_type": "stream",
     "text": [
      "3\n"
     ]
    }
   ],
   "source": [
    "unique_names = df['Name'].nunique()\n",
    "print(unique_names)"
   ]
  },
  {
   "cell_type": "markdown",
   "id": "2d1d5541-34cf-456d-aa11-7a7a97732a86",
   "metadata": {},
   "source": [
    "### 2. Counting Non-Null Values\n",
    "Pandas provides the count() method to count non-null values in a DataFrame or a specific column. This method excludes NaN values."
   ]
  },
  {
   "cell_type": "code",
   "execution_count": 14,
   "id": "68172ed4-ad8b-4694-8d47-69e15b25d987",
   "metadata": {},
   "outputs": [
    {
     "name": "stdout",
     "output_type": "stream",
     "text": [
      "6\n"
     ]
    }
   ],
   "source": [
    "non_null_ages = df['Age'].count()\n",
    "print(non_null_ages)"
   ]
  },
  {
   "cell_type": "markdown",
   "id": "406c6622-2189-4205-92c9-8f1b781960b4",
   "metadata": {},
   "source": [
    "### 3. Counting Missing (Null) Values\n",
    "To count the number of missing or null values in a DataFrame we can use the isnull() function along with sum(). This combination will return the count of missing values in each column."
   ]
  },
  {
   "cell_type": "code",
   "execution_count": 15,
   "id": "de93a03a-2f0d-43f7-872a-69528619a292",
   "metadata": {},
   "outputs": [
    {
     "name": "stdout",
     "output_type": "stream",
     "text": [
      "0\n"
     ]
    }
   ],
   "source": [
    "# Count missing values for 'Age' column in the DataFrame\n",
    "missing_age_values = df['Age'].isnull().sum()\n",
    "print(missing_age_values)"
   ]
  },
  {
   "cell_type": "markdown",
   "id": "277ab5be-308a-4ee4-a293-af5b7833e562",
   "metadata": {},
   "source": [
    "### 4. Using value_counts() to Count Occurrences\n",
    "The value_counts() method is frequently used functions for counting values in a Pandas DataFrame. It returns the frequency of unique values in a column ordered by the frequency of occurrences."
   ]
  },
  {
   "cell_type": "code",
   "execution_count": 18,
   "id": "5750bdc9-f7a5-459b-a0ab-a9fd8cb81d74",
   "metadata": {},
   "outputs": [
    {
     "data": {
      "text/plain": [
       "Name\n",
       "Alice      3\n",
       "Bob        2\n",
       "Charlie    1\n",
       "Name: count, dtype: int64"
      ]
     },
     "execution_count": 18,
     "metadata": {},
     "output_type": "execute_result"
    }
   ],
   "source": [
    "df['Name'].value_counts()"
   ]
  },
  {
   "cell_type": "markdown",
   "id": "f76271e6-d59f-4df3-a04a-356d9487e87d",
   "metadata": {},
   "source": [
    "### 5. Handling NaN Values During Counting\n",
    "By default value_counts() excludes NaN values. If we want to include NaN in the count pass the dropna=False argument:"
   ]
  },
  {
   "cell_type": "code",
   "execution_count": 20,
   "id": "dbb9262a-ca86-43c3-90e0-9f284f40cd04",
   "metadata": {},
   "outputs": [
    {
     "name": "stdout",
     "output_type": "stream",
     "text": [
      "City\n",
      "New York         2\n",
      "Chicago          2\n",
      "NaN              1\n",
      "San Francisco    1\n",
      "Name: count, dtype: int64\n"
     ]
    }
   ],
   "source": [
    "import numpy as np\n",
    "# Adding a NaN value in the 'City' column at index 2\n",
    "df.loc[2, 'City'] = np.nan\n",
    "\n",
    "# Include NaN values in the count\n",
    "nan_included_counts = df['City'].value_counts(dropna=False)\n",
    "print(nan_included_counts)"
   ]
  },
  {
   "cell_type": "markdown",
   "id": "722d22c5-6634-4f12-878c-0b649bc56dab",
   "metadata": {},
   "source": [
    "### 6. Count Values by Grouping Data\n",
    "We can also count values in different groups using the groupby() method. This is useful when we want to count occurrences of values within each category of another column."
   ]
  },
  {
   "cell_type": "code",
   "execution_count": 21,
   "id": "72528bde-37ec-4a9e-9afe-b951ce8a524f",
   "metadata": {},
   "outputs": [
    {
     "name": "stdout",
     "output_type": "stream",
     "text": [
      "Age  Name   \n",
      "25   Alice      3\n",
      "30   Bob        2\n",
      "35   Charlie    1\n",
      "Name: count, dtype: int64\n"
     ]
    }
   ],
   "source": [
    "# Count occurrences of values in 'Name' column grouped by 'Age'\n",
    "grouped_counts = df.groupby('Age')['Name'].value_counts()\n",
    "print(grouped_counts)"
   ]
  },
  {
   "cell_type": "markdown",
   "id": "78147e1d-7864-4191-bb8b-ecc4b82f4946",
   "metadata": {},
   "source": [
    "The head() method structure and contents of our dataset without printing everything. By default it returns the first five rows but this can be customized to return any number of rows. It is commonly used to verify that data has been loaded correctly, check column names and inspect the initial records.\n",
    "\n",
    "Lets see an example of using head() on a DataFrame\n",
    "\n",
    "We will see how to use the head() method to retrieve the first few rows of the DataFrame(). This provides a quick preview of the dataset’s structure and contents."
   ]
  },
  {
   "cell_type": "code",
   "execution_count": 23,
   "id": "70df7ec3-8c97-4f24-ac98-343925dbb7c5",
   "metadata": {},
   "outputs": [
    {
     "name": "stdout",
     "output_type": "stream",
     "text": [
      "NBA Dataset (First 5 Rows):\n"
     ]
    },
    {
     "data": {
      "text/html": [
       "<div>\n",
       "<style scoped>\n",
       "    .dataframe tbody tr th:only-of-type {\n",
       "        vertical-align: middle;\n",
       "    }\n",
       "\n",
       "    .dataframe tbody tr th {\n",
       "        vertical-align: top;\n",
       "    }\n",
       "\n",
       "    .dataframe thead th {\n",
       "        text-align: right;\n",
       "    }\n",
       "</style>\n",
       "<table border=\"1\" class=\"dataframe\">\n",
       "  <thead>\n",
       "    <tr style=\"text-align: right;\">\n",
       "      <th></th>\n",
       "      <th>Name</th>\n",
       "      <th>Team</th>\n",
       "      <th>Number</th>\n",
       "      <th>Position</th>\n",
       "      <th>Age</th>\n",
       "      <th>Height</th>\n",
       "      <th>Weight</th>\n",
       "      <th>College</th>\n",
       "      <th>Salary</th>\n",
       "    </tr>\n",
       "  </thead>\n",
       "  <tbody>\n",
       "    <tr>\n",
       "      <th>0</th>\n",
       "      <td>Avery Bradley</td>\n",
       "      <td>Boston Celtics</td>\n",
       "      <td>0.0</td>\n",
       "      <td>PG</td>\n",
       "      <td>25.0</td>\n",
       "      <td>6-2</td>\n",
       "      <td>180.0</td>\n",
       "      <td>Texas</td>\n",
       "      <td>7730337.0</td>\n",
       "    </tr>\n",
       "    <tr>\n",
       "      <th>1</th>\n",
       "      <td>Jae Crowder</td>\n",
       "      <td>Boston Celtics</td>\n",
       "      <td>99.0</td>\n",
       "      <td>SF</td>\n",
       "      <td>25.0</td>\n",
       "      <td>6-6</td>\n",
       "      <td>235.0</td>\n",
       "      <td>Marquette</td>\n",
       "      <td>6796117.0</td>\n",
       "    </tr>\n",
       "    <tr>\n",
       "      <th>2</th>\n",
       "      <td>John Holland</td>\n",
       "      <td>Boston Celtics</td>\n",
       "      <td>30.0</td>\n",
       "      <td>SG</td>\n",
       "      <td>27.0</td>\n",
       "      <td>6-5</td>\n",
       "      <td>205.0</td>\n",
       "      <td>Boston University</td>\n",
       "      <td>NaN</td>\n",
       "    </tr>\n",
       "    <tr>\n",
       "      <th>3</th>\n",
       "      <td>R.J. Hunter</td>\n",
       "      <td>Boston Celtics</td>\n",
       "      <td>28.0</td>\n",
       "      <td>SG</td>\n",
       "      <td>22.0</td>\n",
       "      <td>6-5</td>\n",
       "      <td>185.0</td>\n",
       "      <td>Georgia State</td>\n",
       "      <td>1148640.0</td>\n",
       "    </tr>\n",
       "    <tr>\n",
       "      <th>4</th>\n",
       "      <td>Jonas Jerebko</td>\n",
       "      <td>Boston Celtics</td>\n",
       "      <td>8.0</td>\n",
       "      <td>PF</td>\n",
       "      <td>29.0</td>\n",
       "      <td>6-10</td>\n",
       "      <td>231.0</td>\n",
       "      <td>NaN</td>\n",
       "      <td>5000000.0</td>\n",
       "    </tr>\n",
       "  </tbody>\n",
       "</table>\n",
       "</div>"
      ],
      "text/plain": [
       "            Name            Team  Number Position   Age Height  Weight  \\\n",
       "0  Avery Bradley  Boston Celtics     0.0       PG  25.0    6-2   180.0   \n",
       "1    Jae Crowder  Boston Celtics    99.0       SF  25.0    6-6   235.0   \n",
       "2   John Holland  Boston Celtics    30.0       SG  27.0    6-5   205.0   \n",
       "3    R.J. Hunter  Boston Celtics    28.0       SG  22.0    6-5   185.0   \n",
       "4  Jonas Jerebko  Boston Celtics     8.0       PF  29.0   6-10   231.0   \n",
       "\n",
       "             College     Salary  \n",
       "0              Texas  7730337.0  \n",
       "1          Marquette  6796117.0  \n",
       "2  Boston University        NaN  \n",
       "3      Georgia State  1148640.0  \n",
       "4                NaN  5000000.0  "
      ]
     },
     "execution_count": 23,
     "metadata": {},
     "output_type": "execute_result"
    }
   ],
   "source": [
    "data = pd.read_csv(\"nba.csv\")\n",
    "\n",
    "print(\"NBA Dataset (First 5 Rows):\")\n",
    "data.head()"
   ]
  },
  {
   "cell_type": "markdown",
   "id": "084e2b45-1e36-4dfb-bf86-79a4783c3028",
   "metadata": {},
   "source": [
    "##### Syntax:  \n",
    "\n",
    "DataFrame.head(n=5)  \n",
    "\n",
    "Series.head(n=5)  \n",
    "\n",
    "Parameter:  \n",
    " \n",
    "n: Number of rows to retrieve from the top of the DataFrame or Series.\n",
    "Return: It returns the first n rows of the DataFrame or Series as a new DataFrame or Series."
   ]
  },
  {
   "cell_type": "markdown",
   "id": "aa6d6d94-2a16-4755-a021-ff18c9f08bd4",
   "metadata": {},
   "source": [
    "### Example of head() method\n",
    "Lets see other examples for its better understanding."
   ]
  },
  {
   "cell_type": "markdown",
   "id": "2f58de4a-f57f-4703-91d1-f64841fb6bfc",
   "metadata": {},
   "source": [
    "####  1. Using head() with a Custom Number of Rows\n",
    "While the default number of rows returned by head() is 5 but we can customize this number to preview a specific subset of the data. This is useful when we want to see more or fewer rows.\n"
   ]
  },
  {
   "cell_type": "code",
   "execution_count": 24,
   "id": "8b57709a-a104-41f0-a22b-05426b9d5cba",
   "metadata": {},
   "outputs": [
    {
     "name": "stdout",
     "output_type": "stream",
     "text": [
      "NBA Dataset (First 7 Rows):\n",
      "0    Avery Bradley\n",
      "1      Jae Crowder\n",
      "2     John Holland\n",
      "3      R.J. Hunter\n",
      "4    Jonas Jerebko\n",
      "5     Amir Johnson\n",
      "6    Jordan Mickey\n",
      "Name: Name, dtype: object\n"
     ]
    }
   ],
   "source": [
    "series = data[\"Name\"]\n",
    "\n",
    "top = series.head(n = 7)\n",
    "\n",
    "print(\"NBA Dataset (First 7 Rows):\")\n",
    "print(top)"
   ]
  },
  {
   "cell_type": "markdown",
   "id": "4b55dfd6-0938-4a7e-b957-c0871b8a87c1",
   "metadata": {},
   "source": [
    "#### 2. Using head() on a Series\n",
    "The head() method can also be used on a Pandas Series to retrieve the first few elements. This is useful when we're working with a single column of data and want to quickly inspect its contents."
   ]
  },
  {
   "cell_type": "code",
   "execution_count": 25,
   "id": "9480aa9f-c865-4e44-8d2c-6b1e04672683",
   "metadata": {},
   "outputs": [
    {
     "name": "stdout",
     "output_type": "stream",
     "text": [
      "First 5 Salaries:\n",
      "0    7730337.0\n",
      "1    6796117.0\n",
      "2          NaN\n",
      "3    1148640.0\n",
      "4    5000000.0\n",
      "Name: Salary, dtype: float64\n"
     ]
    }
   ],
   "source": [
    "salary = data['Salary']\n",
    "\n",
    "print(\"First 5 Salaries:\")\n",
    "print(salary.head())"
   ]
  },
  {
   "cell_type": "markdown",
   "id": "e0fa568f-19c2-4cde-ae2b-896b8a642fbf",
   "metadata": {},
   "source": [
    "#### 3. Describing Specific Columns with head()\n",
    "We can also use the head() method to preview specific columns of our dataset. This example focuses on previewing just the \"Name\" and \"Salary\" columns."
   ]
  },
  {
   "cell_type": "code",
   "execution_count": 27,
   "id": "9a84f398-1da2-4676-820e-32d6f446c98e",
   "metadata": {},
   "outputs": [
    {
     "name": "stdout",
     "output_type": "stream",
     "text": [
      "First 5 Rows of Name and Salary Columns:\n"
     ]
    },
    {
     "data": {
      "text/html": [
       "<div>\n",
       "<style scoped>\n",
       "    .dataframe tbody tr th:only-of-type {\n",
       "        vertical-align: middle;\n",
       "    }\n",
       "\n",
       "    .dataframe tbody tr th {\n",
       "        vertical-align: top;\n",
       "    }\n",
       "\n",
       "    .dataframe thead th {\n",
       "        text-align: right;\n",
       "    }\n",
       "</style>\n",
       "<table border=\"1\" class=\"dataframe\">\n",
       "  <thead>\n",
       "    <tr style=\"text-align: right;\">\n",
       "      <th></th>\n",
       "      <th>Name</th>\n",
       "      <th>Salary</th>\n",
       "    </tr>\n",
       "  </thead>\n",
       "  <tbody>\n",
       "    <tr>\n",
       "      <th>0</th>\n",
       "      <td>Avery Bradley</td>\n",
       "      <td>7730337.0</td>\n",
       "    </tr>\n",
       "    <tr>\n",
       "      <th>1</th>\n",
       "      <td>Jae Crowder</td>\n",
       "      <td>6796117.0</td>\n",
       "    </tr>\n",
       "    <tr>\n",
       "      <th>2</th>\n",
       "      <td>John Holland</td>\n",
       "      <td>NaN</td>\n",
       "    </tr>\n",
       "    <tr>\n",
       "      <th>3</th>\n",
       "      <td>R.J. Hunter</td>\n",
       "      <td>1148640.0</td>\n",
       "    </tr>\n",
       "    <tr>\n",
       "      <th>4</th>\n",
       "      <td>Jonas Jerebko</td>\n",
       "      <td>5000000.0</td>\n",
       "    </tr>\n",
       "  </tbody>\n",
       "</table>\n",
       "</div>"
      ],
      "text/plain": [
       "            Name     Salary\n",
       "0  Avery Bradley  7730337.0\n",
       "1    Jae Crowder  6796117.0\n",
       "2   John Holland        NaN\n",
       "3    R.J. Hunter  1148640.0\n",
       "4  Jonas Jerebko  5000000.0"
      ]
     },
     "execution_count": 27,
     "metadata": {},
     "output_type": "execute_result"
    }
   ],
   "source": [
    "salary_name = data[['Name', 'Salary']].head()\n",
    "\n",
    "print(\"First 5 Rows of Name and Salary Columns:\")\n",
    "salary_name"
   ]
  },
  {
   "cell_type": "markdown",
   "id": "dca72511-00d5-4282-ab24-9d4cf77b756e",
   "metadata": {},
   "source": [
    "#### 4. Using head() After Sorting a DataFrame\n",
    "Here we will use head() to inspect the first few rows of a DataFrame after sorting it by a specific column. This is useful when we want to identify the top records based on a specific criterion like the highest salary or the youngest player."
   ]
  },
  {
   "cell_type": "code",
   "execution_count": 31,
   "id": "6c22e81f-081b-4272-8d62-32cee57acfd7",
   "metadata": {},
   "outputs": [
    {
     "name": "stdout",
     "output_type": "stream",
     "text": [
      "First 5 Rows After Sorting by Age:\n"
     ]
    },
    {
     "data": {
      "text/html": [
       "<div>\n",
       "<style scoped>\n",
       "    .dataframe tbody tr th:only-of-type {\n",
       "        vertical-align: middle;\n",
       "    }\n",
       "\n",
       "    .dataframe tbody tr th {\n",
       "        vertical-align: top;\n",
       "    }\n",
       "\n",
       "    .dataframe thead th {\n",
       "        text-align: right;\n",
       "    }\n",
       "</style>\n",
       "<table border=\"1\" class=\"dataframe\">\n",
       "  <thead>\n",
       "    <tr style=\"text-align: right;\">\n",
       "      <th></th>\n",
       "      <th>Name</th>\n",
       "      <th>Team</th>\n",
       "      <th>Number</th>\n",
       "      <th>Position</th>\n",
       "      <th>Age</th>\n",
       "      <th>Height</th>\n",
       "      <th>Weight</th>\n",
       "      <th>College</th>\n",
       "      <th>Salary</th>\n",
       "    </tr>\n",
       "  </thead>\n",
       "  <tbody>\n",
       "    <tr>\n",
       "      <th>226</th>\n",
       "      <td>Rashad Vaughn</td>\n",
       "      <td>Milwaukee Bucks</td>\n",
       "      <td>20.0</td>\n",
       "      <td>SG</td>\n",
       "      <td>19.0</td>\n",
       "      <td>6-6</td>\n",
       "      <td>202.0</td>\n",
       "      <td>UNLV</td>\n",
       "      <td>1733040.0</td>\n",
       "    </tr>\n",
       "    <tr>\n",
       "      <th>122</th>\n",
       "      <td>Devin Booker</td>\n",
       "      <td>Phoenix Suns</td>\n",
       "      <td>1.0</td>\n",
       "      <td>SG</td>\n",
       "      <td>19.0</td>\n",
       "      <td>6-6</td>\n",
       "      <td>206.0</td>\n",
       "      <td>Kentucky</td>\n",
       "      <td>2127840.0</td>\n",
       "    </tr>\n",
       "    <tr>\n",
       "      <th>452</th>\n",
       "      <td>Trey Lyles</td>\n",
       "      <td>Utah Jazz</td>\n",
       "      <td>41.0</td>\n",
       "      <td>PF</td>\n",
       "      <td>20.0</td>\n",
       "      <td>6-10</td>\n",
       "      <td>234.0</td>\n",
       "      <td>Kentucky</td>\n",
       "      <td>2239800.0</td>\n",
       "    </tr>\n",
       "    <tr>\n",
       "      <th>427</th>\n",
       "      <td>Cliff Alexander</td>\n",
       "      <td>Portland Trail Blazers</td>\n",
       "      <td>34.0</td>\n",
       "      <td>PF</td>\n",
       "      <td>20.0</td>\n",
       "      <td>6-8</td>\n",
       "      <td>240.0</td>\n",
       "      <td>Kansas</td>\n",
       "      <td>525093.0</td>\n",
       "    </tr>\n",
       "    <tr>\n",
       "      <th>410</th>\n",
       "      <td>Karl-Anthony Towns</td>\n",
       "      <td>Minnesota Timberwolves</td>\n",
       "      <td>32.0</td>\n",
       "      <td>C</td>\n",
       "      <td>20.0</td>\n",
       "      <td>7-0</td>\n",
       "      <td>244.0</td>\n",
       "      <td>Kentucky</td>\n",
       "      <td>5703600.0</td>\n",
       "    </tr>\n",
       "  </tbody>\n",
       "</table>\n",
       "</div>"
      ],
      "text/plain": [
       "                   Name                    Team  Number Position   Age Height  \\\n",
       "226       Rashad Vaughn         Milwaukee Bucks    20.0       SG  19.0    6-6   \n",
       "122        Devin Booker            Phoenix Suns     1.0       SG  19.0    6-6   \n",
       "452          Trey Lyles               Utah Jazz    41.0       PF  20.0   6-10   \n",
       "427     Cliff Alexander  Portland Trail Blazers    34.0       PF  20.0    6-8   \n",
       "410  Karl-Anthony Towns  Minnesota Timberwolves    32.0        C  20.0    7-0   \n",
       "\n",
       "     Weight   College     Salary  \n",
       "226   202.0      UNLV  1733040.0  \n",
       "122   206.0  Kentucky  2127840.0  \n",
       "452   234.0  Kentucky  2239800.0  \n",
       "427   240.0    Kansas   525093.0  \n",
       "410   244.0  Kentucky  5703600.0  "
      ]
     },
     "execution_count": 31,
     "metadata": {},
     "output_type": "execute_result"
    }
   ],
   "source": [
    "sorted_data = data.sort_values(by='Age', ascending=True)\n",
    "\n",
    "top_sorted = sorted_data.head()\n",
    "\n",
    "print(\"First 5 Rows After Sorting by Age:\")\n",
    "top_sorted"
   ]
  },
  {
   "cell_type": "markdown",
   "id": "688b36d5-7207-4299-8fa4-b3d3f3b6393f",
   "metadata": {},
   "source": [
    "The tail() method allows us to quickly preview the last few rows of a DataFrame or Series. This method is useful for data exploration as it helps us to inspect the bottom of the dataset without printing everything. It is commonly used to verify that data has been loaded correctly, check the last records and inspect the data towards the end of a dataset.  \n",
    "\n",
    "Let's see an example: Using tail() on a DataFrame  \n",
    "\n",
    "We will use the tail() method to retrieve the last few rows of a DataFrame. This provides a quick preview of the dataset’s structure and contents. By default, the method returns and stores the last 5 rows of the DataFrame in a new variable but we can customized this to return any number of rows."
   ]
  },
  {
   "cell_type": "code",
   "execution_count": 32,
   "id": "ebee25c1-cea4-4545-9471-69254c27f497",
   "metadata": {},
   "outputs": [
    {
     "name": "stdout",
     "output_type": "stream",
     "text": [
      "NBA Dataset (Last 5 Rows):\n",
      "             Name       Team  Number Position   Age Height  Weight College  \\\n",
      "453  Shelvin Mack  Utah Jazz     8.0       PG  26.0    6-3   203.0  Butler   \n",
      "454     Raul Neto  Utah Jazz    25.0       PG  24.0    6-1   179.0     NaN   \n",
      "455  Tibor Pleiss  Utah Jazz    21.0        C  26.0    7-3   256.0     NaN   \n",
      "456   Jeff Withey  Utah Jazz    24.0        C  26.0    7-0   231.0  Kansas   \n",
      "457           NaN        NaN     NaN      NaN   NaN    NaN     NaN     NaN   \n",
      "\n",
      "        Salary  \n",
      "453  2433333.0  \n",
      "454   900000.0  \n",
      "455  2900000.0  \n",
      "456   947276.0  \n",
      "457        NaN  \n"
     ]
    }
   ],
   "source": [
    "print(\"NBA Dataset (Last 5 Rows):\")\n",
    "print(data.tail())"
   ]
  },
  {
   "cell_type": "markdown",
   "id": "ae4d11da-3580-4467-81e0-d97cf807cde7",
   "metadata": {},
   "source": [
    "he tail() method returns the last 5 rows of the dataset which provides a quick preview of the columns and their respective values at the bottom of the dataset.\n",
    "\n",
    "Syntax:  \n",
    "\n",
    "DataFrame.tail(n=5)  \n",
    "\n",
    "Series.tail(n=5)\n",
    "\n",
    "Parameter:  \n",
    "\n",
    "n: Number of rows to retrieve from the bottom of the DataFrame or Series.\n",
    "Return: It returns the last n rows of the DataFrame or Series as a new DataFrame or Series."
   ]
  },
  {
   "cell_type": "markdown",
   "id": "029c6775-2097-4beb-8a85-458d5c56f866",
   "metadata": {},
   "source": [
    "### Example of tail() method\n",
    "Let’s see other examples for a better understanding."
   ]
  },
  {
   "cell_type": "markdown",
   "id": "205c003a-f8d5-4fd0-b325-9b37fcabdbe8",
   "metadata": {},
   "source": [
    "#### 1. Using tail() with a Custom Number of Rows\n",
    "While the default number of rows returned by tail() is 5 but we can customize this number to preview a specific subset of the data. This is useful when we want to see more or fewer rows."
   ]
  },
  {
   "cell_type": "code",
   "execution_count": 33,
   "id": "8158f60d-dfe4-4027-85fb-7805f471f408",
   "metadata": {},
   "outputs": [
    {
     "name": "stdout",
     "output_type": "stream",
     "text": [
      "NBA Dataset (Last 7 Rows):\n",
      "451    Chris Johnson\n",
      "452       Trey Lyles\n",
      "453     Shelvin Mack\n",
      "454        Raul Neto\n",
      "455     Tibor Pleiss\n",
      "456      Jeff Withey\n",
      "457              NaN\n",
      "Name: Name, dtype: object\n"
     ]
    }
   ],
   "source": [
    "series = data[\"Name\"]\n",
    "\n",
    "bottom = series.tail(n = 7)\n",
    "\n",
    "print(\"NBA Dataset (Last 7 Rows):\")\n",
    "print(bottom)"
   ]
  },
  {
   "cell_type": "markdown",
   "id": "c4441181-8e09-47ba-be11-a2b3b0762596",
   "metadata": {},
   "source": [
    "#### 2. Using tail() on a Series\n",
    "The tail() method can also be used on a Pandas Series to retrieve the last few elements. This is useful when we're working with a single column of data and want to quickly inspect its contents."
   ]
  },
  {
   "cell_type": "code",
   "execution_count": 34,
   "id": "555e8f37-c4fc-4fc3-9b46-3f1ae061803b",
   "metadata": {},
   "outputs": [
    {
     "name": "stdout",
     "output_type": "stream",
     "text": [
      "Last 5 Salaries:\n",
      "453    2433333.0\n",
      "454     900000.0\n",
      "455    2900000.0\n",
      "456     947276.0\n",
      "457          NaN\n",
      "Name: Salary, dtype: float64\n"
     ]
    }
   ],
   "source": [
    "salary = data['Salary']\n",
    "\n",
    "print(\"Last 5 Salaries:\")\n",
    "print(salary.tail())"
   ]
  },
  {
   "cell_type": "markdown",
   "id": "2e6b5355-ea26-40d6-8436-828c8c654eda",
   "metadata": {},
   "source": [
    "#### 3. Describing Specific Columns with tail()\n",
    "We can also use the tail() method to preview specific columns of our dataset. This example focuses on previewing just the \"Name\" and \"Salary\" columns."
   ]
  },
  {
   "cell_type": "code",
   "execution_count": 35,
   "id": "b5eafbd8-794c-4f70-bc68-b9813b5d3074",
   "metadata": {},
   "outputs": [
    {
     "name": "stdout",
     "output_type": "stream",
     "text": [
      "Last 5 Rows of Name and Salary Columns:\n",
      "             Name     Salary\n",
      "453  Shelvin Mack  2433333.0\n",
      "454     Raul Neto   900000.0\n",
      "455  Tibor Pleiss  2900000.0\n",
      "456   Jeff Withey   947276.0\n",
      "457           NaN        NaN\n"
     ]
    }
   ],
   "source": [
    "salary_name = data[['Name', 'Salary']].tail()\n",
    "\n",
    "print(\"Last 5 Rows of Name and Salary Columns:\")\n",
    "print(salary_name)"
   ]
  },
  {
   "cell_type": "markdown",
   "id": "d9ba2df2-b908-4e35-a1ac-0e928e99dc69",
   "metadata": {},
   "source": [
    "#### 4. Using tail() After Sorting a DataFrame\n",
    "In this example, we will sort the DataFrame by the \"Age\" column and then use tail() to preview the oldest players. This shows how tail() can be used in combination with sorting to inspect specific records."
   ]
  },
  {
   "cell_type": "code",
   "execution_count": 37,
   "id": "52c5a1fe-9380-47b8-b980-ca11720b53b8",
   "metadata": {},
   "outputs": [
    {
     "name": "stdout",
     "output_type": "stream",
     "text": [
      "Last 5 Rows After Sorting by Age:\n"
     ]
    },
    {
     "data": {
      "text/html": [
       "<div>\n",
       "<style scoped>\n",
       "    .dataframe tbody tr th:only-of-type {\n",
       "        vertical-align: middle;\n",
       "    }\n",
       "\n",
       "    .dataframe tbody tr th {\n",
       "        vertical-align: top;\n",
       "    }\n",
       "\n",
       "    .dataframe thead th {\n",
       "        text-align: right;\n",
       "    }\n",
       "</style>\n",
       "<table border=\"1\" class=\"dataframe\">\n",
       "  <thead>\n",
       "    <tr style=\"text-align: right;\">\n",
       "      <th></th>\n",
       "      <th>Name</th>\n",
       "      <th>Team</th>\n",
       "      <th>Number</th>\n",
       "      <th>Position</th>\n",
       "      <th>Age</th>\n",
       "      <th>Height</th>\n",
       "      <th>Weight</th>\n",
       "      <th>College</th>\n",
       "      <th>Salary</th>\n",
       "    </tr>\n",
       "  </thead>\n",
       "  <tbody>\n",
       "    <tr>\n",
       "      <th>452</th>\n",
       "      <td>Trey Lyles</td>\n",
       "      <td>Utah Jazz</td>\n",
       "      <td>41.0</td>\n",
       "      <td>PF</td>\n",
       "      <td>20.0</td>\n",
       "      <td>6-10</td>\n",
       "      <td>234.0</td>\n",
       "      <td>Kentucky</td>\n",
       "      <td>2239800.0</td>\n",
       "    </tr>\n",
       "    <tr>\n",
       "      <th>410</th>\n",
       "      <td>Karl-Anthony Towns</td>\n",
       "      <td>Minnesota Timberwolves</td>\n",
       "      <td>32.0</td>\n",
       "      <td>C</td>\n",
       "      <td>20.0</td>\n",
       "      <td>7-0</td>\n",
       "      <td>244.0</td>\n",
       "      <td>Kentucky</td>\n",
       "      <td>5703600.0</td>\n",
       "    </tr>\n",
       "    <tr>\n",
       "      <th>226</th>\n",
       "      <td>Rashad Vaughn</td>\n",
       "      <td>Milwaukee Bucks</td>\n",
       "      <td>20.0</td>\n",
       "      <td>SG</td>\n",
       "      <td>19.0</td>\n",
       "      <td>6-6</td>\n",
       "      <td>202.0</td>\n",
       "      <td>UNLV</td>\n",
       "      <td>1733040.0</td>\n",
       "    </tr>\n",
       "    <tr>\n",
       "      <th>122</th>\n",
       "      <td>Devin Booker</td>\n",
       "      <td>Phoenix Suns</td>\n",
       "      <td>1.0</td>\n",
       "      <td>SG</td>\n",
       "      <td>19.0</td>\n",
       "      <td>6-6</td>\n",
       "      <td>206.0</td>\n",
       "      <td>Kentucky</td>\n",
       "      <td>2127840.0</td>\n",
       "    </tr>\n",
       "    <tr>\n",
       "      <th>457</th>\n",
       "      <td>NaN</td>\n",
       "      <td>NaN</td>\n",
       "      <td>NaN</td>\n",
       "      <td>NaN</td>\n",
       "      <td>NaN</td>\n",
       "      <td>NaN</td>\n",
       "      <td>NaN</td>\n",
       "      <td>NaN</td>\n",
       "      <td>NaN</td>\n",
       "    </tr>\n",
       "  </tbody>\n",
       "</table>\n",
       "</div>"
      ],
      "text/plain": [
       "                   Name                    Team  Number Position   Age Height  \\\n",
       "452          Trey Lyles               Utah Jazz    41.0       PF  20.0   6-10   \n",
       "410  Karl-Anthony Towns  Minnesota Timberwolves    32.0        C  20.0    7-0   \n",
       "226       Rashad Vaughn         Milwaukee Bucks    20.0       SG  19.0    6-6   \n",
       "122        Devin Booker            Phoenix Suns     1.0       SG  19.0    6-6   \n",
       "457                 NaN                     NaN     NaN      NaN   NaN    NaN   \n",
       "\n",
       "     Weight   College     Salary  \n",
       "452   234.0  Kentucky  2239800.0  \n",
       "410   244.0  Kentucky  5703600.0  \n",
       "226   202.0      UNLV  1733040.0  \n",
       "122   206.0  Kentucky  2127840.0  \n",
       "457     NaN       NaN        NaN  "
      ]
     },
     "execution_count": 37,
     "metadata": {},
     "output_type": "execute_result"
    }
   ],
   "source": [
    "sorted_data = data.sort_values(by='Age', ascending=False)\n",
    "\n",
    "bottom_sorted = sorted_data.tail()\n",
    "\n",
    "print(\"Last 5 Rows After Sorting by Age:\")\n",
    "bottom_sorted"
   ]
  },
  {
   "cell_type": "code",
   "execution_count": null,
   "id": "a5ffadec-b3e4-42c6-a8f8-76c6f85ac4ba",
   "metadata": {},
   "outputs": [],
   "source": []
  }
 ],
 "metadata": {
  "kernelspec": {
   "display_name": "Python 3 (ipykernel)",
   "language": "python",
   "name": "python3"
  },
  "language_info": {
   "codemirror_mode": {
    "name": "ipython",
    "version": 3
   },
   "file_extension": ".py",
   "mimetype": "text/x-python",
   "name": "python",
   "nbconvert_exporter": "python",
   "pygments_lexer": "ipython3",
   "version": "3.13.5"
  }
 },
 "nbformat": 4,
 "nbformat_minor": 5
}
