{
 "cells": [
  {
   "cell_type": "markdown",
   "id": "ffe760b7-6655-41fb-b604-f8b7ff3f801d",
   "metadata": {},
   "source": [
    "CRUD stands for Create, Read, Update and Delete. These are the four fundamental operations we'll use when working with data in Pandas. Whether we're creating a DataFrame from scratch, analyzing existing data, modifying values or saving our results these operations are important in Pandas.\n",
    "\n",
    "Let’s see each operation step by step to see how they make data manipulation easy."
   ]
  },
  {
   "cell_type": "markdown",
   "id": "94081e75-c419-4f4d-a214-8642fee205e2",
   "metadata": {},
   "source": [
    "### 1. Create: Creating Dataframe\n",
    "Creating a dataset in Pandas means building a DataFrame which is the main data structure in Pandas. We can create a DataFrame using various methods like reading from a file or directly creating one from Python objects like dictionaries, lists or arrays\n",
    "\n",
    "#### 1. Creating a DataFrame from a Dictationary\n",
    "\n",
    "This is one of the easiest and most commonly used methods to create a dataset in Pandas"
   ]
  },
  {
   "cell_type": "code",
   "execution_count": 1,
   "id": "4dcf22a4-d784-47b8-aeac-42a861cce3f2",
   "metadata": {},
   "outputs": [
    {
     "name": "stdout",
     "output_type": "stream",
     "text": [
      "    Name  Age       City\n",
      "0   Ansh   21  Moradabad\n",
      "1  Sahil   20  New Delhi\n",
      "2    Ram   41    Chennai\n"
     ]
    }
   ],
   "source": [
    "import pandas as pd\n",
    "data = {\n",
    "    \"Name\": [\"Ansh\", \"Sahil\", \"Ram\"],\n",
    "    \"Age\": [21, 20, 41],\n",
    "    \"City\": [\"Moradabad\", \"New Delhi\", \"Chennai\"]\n",
    "}\n",
    "df = pd.DataFrame(data)\n",
    "print(df)"
   ]
  },
  {
   "cell_type": "markdown",
   "id": "2cc2c9a4-ac72-4970-91e7-5f5280d8dc61",
   "metadata": {},
   "source": [
    "#### 2. Creating a DataFrame from Lists\n",
    "\n",
    "We can also create a DataFrame by combining lists."
   ]
  },
  {
   "cell_type": "code",
   "execution_count": 4,
   "id": "b6b4dcc2-cd21-4a80-910d-23c2ed3acf41",
   "metadata": {},
   "outputs": [
    {
     "data": {
      "text/html": [
       "<div>\n",
       "<style scoped>\n",
       "    .dataframe tbody tr th:only-of-type {\n",
       "        vertical-align: middle;\n",
       "    }\n",
       "\n",
       "    .dataframe tbody tr th {\n",
       "        vertical-align: top;\n",
       "    }\n",
       "\n",
       "    .dataframe thead th {\n",
       "        text-align: right;\n",
       "    }\n",
       "</style>\n",
       "<table border=\"1\" class=\"dataframe\">\n",
       "  <thead>\n",
       "    <tr style=\"text-align: right;\">\n",
       "      <th></th>\n",
       "      <th>Name</th>\n",
       "      <th>Age</th>\n",
       "      <th>City</th>\n",
       "    </tr>\n",
       "  </thead>\n",
       "  <tbody>\n",
       "    <tr>\n",
       "      <th>0</th>\n",
       "      <td>Akshit</td>\n",
       "      <td>25</td>\n",
       "      <td>Gurugram</td>\n",
       "    </tr>\n",
       "    <tr>\n",
       "      <th>1</th>\n",
       "      <td>Uday</td>\n",
       "      <td>30</td>\n",
       "      <td>New Delhi</td>\n",
       "    </tr>\n",
       "    <tr>\n",
       "      <th>2</th>\n",
       "      <td>Sam</td>\n",
       "      <td>35</td>\n",
       "      <td>Chicago</td>\n",
       "    </tr>\n",
       "  </tbody>\n",
       "</table>\n",
       "</div>"
      ],
      "text/plain": [
       "     Name  Age       City\n",
       "0  Akshit   25   Gurugram\n",
       "1    Uday   30  New Delhi\n",
       "2     Sam   35    Chicago"
      ]
     },
     "execution_count": 4,
     "metadata": {},
     "output_type": "execute_result"
    }
   ],
   "source": [
    "names = [\"Akshit\", \"Uday\", \"Sam\"]\n",
    "ages = [25, 30, 35]\n",
    "cities = [\"Gurugram\", \"New Delhi\", \"Chicago\"]\n",
    "\n",
    "df = pd.DataFrame({\n",
    "    \"Name\": names,\n",
    "    \"Age\": ages,\n",
    "    \"City\": cities\n",
    "})\n",
    "\n",
    "df"
   ]
  },
  {
   "cell_type": "markdown",
   "id": "c27d8f69-1955-40ac-80a0-66e3908f7af5",
   "metadata": {},
   "source": [
    "#### 3. Creating a DataFrame from a CSV File\n",
    "\n",
    "We can also create a DataFrame by reading an external file like a CSV. Here we used the random car.csv data."
   ]
  },
  {
   "cell_type": "code",
   "execution_count": 26,
   "id": "3d24ae66-764a-4266-a58d-0398b1e69533",
   "metadata": {},
   "outputs": [
    {
     "data": {
      "text/html": [
       "<div>\n",
       "<style scoped>\n",
       "    .dataframe tbody tr th:only-of-type {\n",
       "        vertical-align: middle;\n",
       "    }\n",
       "\n",
       "    .dataframe tbody tr th {\n",
       "        vertical-align: top;\n",
       "    }\n",
       "\n",
       "    .dataframe thead th {\n",
       "        text-align: right;\n",
       "    }\n",
       "</style>\n",
       "<table border=\"1\" class=\"dataframe\">\n",
       "  <thead>\n",
       "    <tr style=\"text-align: right;\">\n",
       "      <th></th>\n",
       "      <th>name</th>\n",
       "      <th>year</th>\n",
       "      <th>selling_price</th>\n",
       "      <th>km_driven</th>\n",
       "      <th>fuel</th>\n",
       "      <th>seller_type</th>\n",
       "      <th>transmission</th>\n",
       "      <th>owner</th>\n",
       "    </tr>\n",
       "  </thead>\n",
       "  <tbody>\n",
       "    <tr>\n",
       "      <th>0</th>\n",
       "      <td>Maruti 800 AC</td>\n",
       "      <td>2007</td>\n",
       "      <td>60000</td>\n",
       "      <td>70000</td>\n",
       "      <td>Petrol</td>\n",
       "      <td>Individual</td>\n",
       "      <td>Manual</td>\n",
       "      <td>First Owner</td>\n",
       "    </tr>\n",
       "    <tr>\n",
       "      <th>1</th>\n",
       "      <td>Maruti Wagon R LXI Minor</td>\n",
       "      <td>2007</td>\n",
       "      <td>135000</td>\n",
       "      <td>50000</td>\n",
       "      <td>Petrol</td>\n",
       "      <td>Individual</td>\n",
       "      <td>Manual</td>\n",
       "      <td>First Owner</td>\n",
       "    </tr>\n",
       "    <tr>\n",
       "      <th>2</th>\n",
       "      <td>Hyundai Verna 1.6 SX</td>\n",
       "      <td>2012</td>\n",
       "      <td>600000</td>\n",
       "      <td>100000</td>\n",
       "      <td>Diesel</td>\n",
       "      <td>Individual</td>\n",
       "      <td>Manual</td>\n",
       "      <td>First Owner</td>\n",
       "    </tr>\n",
       "    <tr>\n",
       "      <th>3</th>\n",
       "      <td>Datsun RediGO T Option</td>\n",
       "      <td>2017</td>\n",
       "      <td>250000</td>\n",
       "      <td>46000</td>\n",
       "      <td>Petrol</td>\n",
       "      <td>Individual</td>\n",
       "      <td>Manual</td>\n",
       "      <td>First Owner</td>\n",
       "    </tr>\n",
       "    <tr>\n",
       "      <th>4</th>\n",
       "      <td>Honda Amaze VX i-DTEC</td>\n",
       "      <td>2014</td>\n",
       "      <td>450000</td>\n",
       "      <td>141000</td>\n",
       "      <td>Diesel</td>\n",
       "      <td>Individual</td>\n",
       "      <td>Manual</td>\n",
       "      <td>Second Owner</td>\n",
       "    </tr>\n",
       "  </tbody>\n",
       "</table>\n",
       "</div>"
      ],
      "text/plain": [
       "                       name  year  selling_price  km_driven    fuel  \\\n",
       "0             Maruti 800 AC  2007          60000      70000  Petrol   \n",
       "1  Maruti Wagon R LXI Minor  2007         135000      50000  Petrol   \n",
       "2      Hyundai Verna 1.6 SX  2012         600000     100000  Diesel   \n",
       "3    Datsun RediGO T Option  2017         250000      46000  Petrol   \n",
       "4     Honda Amaze VX i-DTEC  2014         450000     141000  Diesel   \n",
       "\n",
       "  seller_type transmission         owner  \n",
       "0  Individual       Manual   First Owner  \n",
       "1  Individual       Manual   First Owner  \n",
       "2  Individual       Manual   First Owner  \n",
       "3  Individual       Manual   First Owner  \n",
       "4  Individual       Manual  Second Owner  "
      ]
     },
     "execution_count": 26,
     "metadata": {},
     "output_type": "execute_result"
    }
   ],
   "source": [
    "df=pd.read_csv(\"CAR.csv\")\n",
    "df.head()"
   ]
  },
  {
   "cell_type": "markdown",
   "id": "9ae583f1-21d3-4a51-9a86-b2e8927c4b56",
   "metadata": {},
   "source": [
    "### 2. Read: Reading Dataframe\n",
    "Now that we’ve created a dataset using the Create operation, lets see by using the Read operation. This step is all about accessing and understanding our data. Pandas provides simple methods to view our dataset, check its structure and analyze its contents.\n",
    "\n",
    "#### 1. Viewing Rows in a DataFrame\n",
    "\n",
    "head(n): Displaying the First Few Rows\n",
    "tail(n): Displaying the Last Few Rows"
   ]
  },
  {
   "cell_type": "code",
   "execution_count": 28,
   "id": "22c0e778-c5b6-43f0-aa70-ea53bdbdb438",
   "metadata": {},
   "outputs": [
    {
     "name": "stdout",
     "output_type": "stream",
     "text": [
      "      Name  Age City\n",
      "0      Eve   25   NY\n",
      "1     Jack   30   LA\n",
      "2  Charlie   35   SF\n",
      "\n",
      "    Name  Age     City\n",
      "3  Henry   40  Houston\n",
      "4   John   45  Seattle\n"
     ]
    }
   ],
   "source": [
    "data = {\"Name\": [\"Eve\", \"Jack\", \"Charlie\", \"Henry\", \"John\"],\n",
    "        \"Age\": [25, 30, 35, 40, 45],\n",
    "        \"City\": [\"NY\", \"LA\", \"SF\", \"Houston\", \"Seattle\"]}\n",
    "df = pd.DataFrame(data)\n",
    "\n",
    "print(df.head(3))\n",
    "\n",
    "print()\n",
    "\n",
    "print(df.tail(2))"
   ]
  },
  {
   "cell_type": "markdown",
   "id": "55a7cdd6-e163-4dcb-bf36-30631252fb1b",
   "metadata": {},
   "source": [
    "#### 2. Exploring Columns of the dataset"
   ]
  },
  {
   "cell_type": "code",
   "execution_count": 7,
   "id": "8b9923e5-4f3e-4da6-9160-71ecd8d0d949",
   "metadata": {},
   "outputs": [
    {
     "name": "stdout",
     "output_type": "stream",
     "text": [
      "Index(['Name', 'Age', 'City'], dtype='object')\n"
     ]
    }
   ],
   "source": [
    "print(df.columns)"
   ]
  },
  {
   "cell_type": "markdown",
   "id": "2832b005-2cf4-40b6-9379-5d38ce4529ef",
   "metadata": {},
   "source": [
    "#### 3. Checking Data Types with dtype\n",
    "\n",
    "We use df.types to check the particular data type of the columns we have for further operations"
   ]
  },
  {
   "cell_type": "code",
   "execution_count": 8,
   "id": "bdaacfc4-5c67-4d2b-85a8-2138d6a4f21f",
   "metadata": {},
   "outputs": [
    {
     "name": "stdout",
     "output_type": "stream",
     "text": [
      "Name    object\n",
      "Age      int64\n",
      "City    object\n",
      "dtype: object\n"
     ]
    }
   ],
   "source": [
    "print(df.dtypes)"
   ]
  },
  {
   "cell_type": "markdown",
   "id": "4474e045-c341-4dba-aa19-5f7a7722969f",
   "metadata": {},
   "source": [
    "#### 4. Generating Descriptive Statistics with describe()\n",
    "\n",
    "This is a very important command used in pandas to check the overall statistics for the numerical data so that we can make predictions and move easily in our data exploration."
   ]
  },
  {
   "cell_type": "code",
   "execution_count": 9,
   "id": "26c47325-7f20-44f7-8f0f-ef71a38879f6",
   "metadata": {},
   "outputs": [
    {
     "name": "stdout",
     "output_type": "stream",
     "text": [
      "             Age\n",
      "count   5.000000\n",
      "mean   35.000000\n",
      "std     7.905694\n",
      "min    25.000000\n",
      "25%    30.000000\n",
      "50%    35.000000\n",
      "75%    40.000000\n",
      "max    45.000000\n"
     ]
    }
   ],
   "source": [
    "print(df.describe())"
   ]
  },
  {
   "cell_type": "markdown",
   "id": "1fc2d3da-a2eb-4525-ad6a-bd07e0d8ae47",
   "metadata": {},
   "source": [
    "#### 3. Filtering Columns\n",
    "\n",
    "Accessing a single Column."
   ]
  },
  {
   "cell_type": "code",
   "execution_count": 11,
   "id": "58c63782-c5c1-48a6-a95b-dc67df7ee712",
   "metadata": {},
   "outputs": [
    {
     "name": "stdout",
     "output_type": "stream",
     "text": [
      "0        Eve\n",
      "1       Jack\n",
      "2    Charlie\n",
      "3      Henry\n",
      "4       John\n",
      "Name: Name, dtype: object\n"
     ]
    }
   ],
   "source": [
    "print(df[\"Name\"])"
   ]
  },
  {
   "cell_type": "markdown",
   "id": "52d1702f-3316-4f3d-a415-c3907b07a959",
   "metadata": {},
   "source": [
    "#### 4. Accessing Multiple columns"
   ]
  },
  {
   "cell_type": "code",
   "execution_count": 12,
   "id": "075f59ec-a059-4f46-83d4-925933dd8e3a",
   "metadata": {},
   "outputs": [
    {
     "name": "stdout",
     "output_type": "stream",
     "text": [
      "      Name     City\n",
      "0      Eve       NY\n",
      "1     Jack       LA\n",
      "2  Charlie       SF\n",
      "3    Henry  Houston\n",
      "4     John  Seattle\n"
     ]
    }
   ],
   "source": [
    "print(df[[\"Name\", \"City\"]])"
   ]
  },
  {
   "cell_type": "markdown",
   "id": "c503c2ce-9c74-4ee1-8301-db5fd2ac0638",
   "metadata": {},
   "source": [
    "#### 5. Finding Unique Values in a Column\n",
    "\n",
    "Finding unique tends to provide the non-duplicates values in our columns."
   ]
  },
  {
   "cell_type": "code",
   "execution_count": 13,
   "id": "3a3f4776-863f-4f1b-b3f8-5ab5ad5af4b9",
   "metadata": {},
   "outputs": [
    {
     "name": "stdout",
     "output_type": "stream",
     "text": [
      "['NY' 'LA' 'SF' 'Houston' 'Seattle']\n"
     ]
    }
   ],
   "source": [
    "print(df[\"City\"].unique())"
   ]
  },
  {
   "cell_type": "markdown",
   "id": "a1a899d7-dcef-45c1-a238-42370a1c45aa",
   "metadata": {},
   "source": [
    "#### 6. Filtering Rows (Conditional Filtering)\n",
    "\n",
    "Single Condition Filtering."
   ]
  },
  {
   "cell_type": "code",
   "execution_count": 15,
   "id": "b7c865f9-a3a5-4373-8e03-b087302d2fc7",
   "metadata": {},
   "outputs": [
    {
     "name": "stdout",
     "output_type": "stream",
     "text": [
      "      Name  Age     City\n",
      "2  Charlie   35       SF\n",
      "3    Henry   40  Houston\n",
      "4     John   45  Seattle\n"
     ]
    }
   ],
   "source": [
    "print(df[df[\"Age\"] > 30])"
   ]
  },
  {
   "cell_type": "markdown",
   "id": "4c7b372b-2285-4067-8db3-0a6d622d4cb9",
   "metadata": {},
   "source": [
    "#### 7. Filtering with Multiple Conditions (AND/OR Logic)"
   ]
  },
  {
   "cell_type": "code",
   "execution_count": 16,
   "id": "513c6339-d755-465a-be93-bf1f90378bdc",
   "metadata": {},
   "outputs": [
    {
     "name": "stdout",
     "output_type": "stream",
     "text": [
      "      Name  Age City\n",
      "2  Charlie   35   SF\n",
      "      Name  Age     City\n",
      "1     Jack   30       LA\n",
      "2  Charlie   35       SF\n",
      "3    Henry   40  Houston\n",
      "4     John   45  Seattle\n"
     ]
    }
   ],
   "source": [
    "print(df[(df[\"Age\"] > 30) & (df[\"City\"] == \"SF\")])\n",
    "\n",
    "print(df[(df[\"Age\"] > 30) | (df[\"City\"] == \"LA\")])"
   ]
  },
  {
   "cell_type": "markdown",
   "id": "ba62445a-77cd-47a1-8d4e-2e0976324132",
   "metadata": {},
   "source": [
    "#### 8. Indexing in Pandas\n",
    "\n",
    "Integer-Based Indexing with iloc."
   ]
  },
  {
   "cell_type": "code",
   "execution_count": 18,
   "id": "0cefa3d7-5f77-4003-89ba-52bc5023a461",
   "metadata": {},
   "outputs": [
    {
     "name": "stdout",
     "output_type": "stream",
     "text": [
      "Name    Eve\n",
      "Age      25\n",
      "City     NY\n",
      "Name: 0, dtype: object\n"
     ]
    }
   ],
   "source": [
    "print(df.iloc[0])"
   ]
  },
  {
   "cell_type": "markdown",
   "id": "2fee0887-8608-427b-8bbe-08a285619280",
   "metadata": {},
   "source": [
    "#### 9. Accessing Rows and Cells"
   ]
  },
  {
   "cell_type": "code",
   "execution_count": 17,
   "id": "585b8cdb-633f-4c7a-8998-1bd1eed1d66c",
   "metadata": {},
   "outputs": [
    {
     "name": "stdout",
     "output_type": "stream",
     "text": [
      "NY\n"
     ]
    }
   ],
   "source": [
    "print(df.iloc[0, 2])"
   ]
  },
  {
   "cell_type": "markdown",
   "id": "0a8bc403-56c2-4155-8c81-61e3f11c9592",
   "metadata": {},
   "source": [
    "#### 10. Slicing Rows"
   ]
  },
  {
   "cell_type": "code",
   "execution_count": 19,
   "id": "5bf22922-9527-4369-88f5-75a8f9b21c70",
   "metadata": {},
   "outputs": [
    {
     "name": "stdout",
     "output_type": "stream",
     "text": [
      "      Name  Age City\n",
      "1     Jack   30   LA\n",
      "2  Charlie   35   SF\n"
     ]
    }
   ],
   "source": [
    "print(df.iloc[1:3])"
   ]
  },
  {
   "cell_type": "markdown",
   "id": "25c5e01f-1c9a-47b1-b358-c14968b6d453",
   "metadata": {},
   "source": [
    "#### 11. Label-Based Indexing"
   ]
  },
  {
   "cell_type": "code",
   "execution_count": 29,
   "id": "44b58e54-ab96-487d-83c3-2284f7cd22c8",
   "metadata": {},
   "outputs": [],
   "source": [
    "df.set_index(\"Name\", inplace=True)"
   ]
  },
  {
   "cell_type": "markdown",
   "id": "b0fc1aa8-f206-4023-a865-cf2f5c45e810",
   "metadata": {},
   "source": [
    "#### 12. Setting an Index and Accessing Rows by Labels"
   ]
  },
  {
   "cell_type": "code",
   "execution_count": 31,
   "id": "37c8d221-30a6-4058-968f-e3a12c8cb538",
   "metadata": {},
   "outputs": [
    {
     "name": "stdout",
     "output_type": "stream",
     "text": [
      "Age     25\n",
      "City    NY\n",
      "Name: Eve, dtype: object\n"
     ]
    }
   ],
   "source": [
    "print(df.loc[\"Eve\"])"
   ]
  },
  {
   "cell_type": "markdown",
   "id": "38a68967-660f-4cd3-a209-0de97fea85b8",
   "metadata": {},
   "source": [
    "### 3. Update: Modifying Data in Pandas\n",
    "Update operation allows us to modify existing data within a DataFrame. Whether we're changing specific values, updating entire columns or applying conditions to update data, Pandas makes it simple.\n",
    "\n",
    "We will use the following dataset for the update operations."
   ]
  },
  {
   "cell_type": "code",
   "execution_count": 32,
   "id": "41f5a65b-4bab-47a7-826c-8ababae272bb",
   "metadata": {},
   "outputs": [
    {
     "data": {
      "text/html": [
       "<div>\n",
       "<style scoped>\n",
       "    .dataframe tbody tr th:only-of-type {\n",
       "        vertical-align: middle;\n",
       "    }\n",
       "\n",
       "    .dataframe tbody tr th {\n",
       "        vertical-align: top;\n",
       "    }\n",
       "\n",
       "    .dataframe thead th {\n",
       "        text-align: right;\n",
       "    }\n",
       "</style>\n",
       "<table border=\"1\" class=\"dataframe\">\n",
       "  <thead>\n",
       "    <tr style=\"text-align: right;\">\n",
       "      <th></th>\n",
       "      <th>Name</th>\n",
       "      <th>Age</th>\n",
       "      <th>City</th>\n",
       "    </tr>\n",
       "  </thead>\n",
       "  <tbody>\n",
       "    <tr>\n",
       "      <th>0</th>\n",
       "      <td>Eve</td>\n",
       "      <td>25</td>\n",
       "      <td>NY</td>\n",
       "    </tr>\n",
       "    <tr>\n",
       "      <th>1</th>\n",
       "      <td>Jack</td>\n",
       "      <td>30</td>\n",
       "      <td>LA</td>\n",
       "    </tr>\n",
       "    <tr>\n",
       "      <th>2</th>\n",
       "      <td>Charlie</td>\n",
       "      <td>35</td>\n",
       "      <td>SF</td>\n",
       "    </tr>\n",
       "    <tr>\n",
       "      <th>3</th>\n",
       "      <td>Henry</td>\n",
       "      <td>40</td>\n",
       "      <td>Houston</td>\n",
       "    </tr>\n",
       "    <tr>\n",
       "      <th>4</th>\n",
       "      <td>John</td>\n",
       "      <td>45</td>\n",
       "      <td>Seattle</td>\n",
       "    </tr>\n",
       "  </tbody>\n",
       "</table>\n",
       "</div>"
      ],
      "text/plain": [
       "      Name  Age     City\n",
       "0      Eve   25       NY\n",
       "1     Jack   30       LA\n",
       "2  Charlie   35       SF\n",
       "3    Henry   40  Houston\n",
       "4     John   45  Seattle"
      ]
     },
     "execution_count": 32,
     "metadata": {},
     "output_type": "execute_result"
    }
   ],
   "source": [
    "data = {'Name': ['Eve', 'Jack', 'Charlie', 'Henry', 'John'],\n",
    "        'Age': [25, 30, 35, 40, 45],\n",
    "        'City': ['NY', 'LA', 'SF', 'Houston', 'Seattle']}\n",
    "df = pd.DataFrame(data)\n",
    "df"
   ]
  },
  {
   "cell_type": "markdown",
   "id": "3e9d6687-05e1-49f6-bf84-70164f172c7a",
   "metadata": {},
   "source": [
    "#### 1. Updating a Single Value: We can update a single value in a specific row and column using loc or iloc."
   ]
  },
  {
   "cell_type": "code",
   "execution_count": 33,
   "id": "dce5fc95-1b43-4dc9-8c5a-ca9aec881046",
   "metadata": {},
   "outputs": [
    {
     "name": "stdout",
     "output_type": "stream",
     "text": [
      "      Name  Age     City\n",
      "0      Eve   25       NY\n",
      "1     Jack   42       LA\n",
      "2  Charlie   35       SF\n",
      "3    Henry   40  Houston\n",
      "4     John   45  Seattle\n"
     ]
    }
   ],
   "source": [
    "df.loc[df['Name'] == 'Jack', 'Age'] = 42\n",
    "\n",
    "print(df)"
   ]
  },
  {
   "cell_type": "markdown",
   "id": "efb62b3a-30e3-4ae8-9d1c-7bd8de6e9e9b",
   "metadata": {},
   "source": [
    "#### 2. Updating an Entire Column: We can update an entire column by assigning a new list, series or value."
   ]
  },
  {
   "cell_type": "code",
   "execution_count": 34,
   "id": "1ced472b-968b-4e49-8bd0-8efaae8c6618",
   "metadata": {},
   "outputs": [
    {
     "data": {
      "text/html": [
       "<div>\n",
       "<style scoped>\n",
       "    .dataframe tbody tr th:only-of-type {\n",
       "        vertical-align: middle;\n",
       "    }\n",
       "\n",
       "    .dataframe tbody tr th {\n",
       "        vertical-align: top;\n",
       "    }\n",
       "\n",
       "    .dataframe thead th {\n",
       "        text-align: right;\n",
       "    }\n",
       "</style>\n",
       "<table border=\"1\" class=\"dataframe\">\n",
       "  <thead>\n",
       "    <tr style=\"text-align: right;\">\n",
       "      <th></th>\n",
       "      <th>Name</th>\n",
       "      <th>Age</th>\n",
       "      <th>City</th>\n",
       "    </tr>\n",
       "  </thead>\n",
       "  <tbody>\n",
       "    <tr>\n",
       "      <th>0</th>\n",
       "      <td>Eve</td>\n",
       "      <td>25</td>\n",
       "      <td>Boston</td>\n",
       "    </tr>\n",
       "    <tr>\n",
       "      <th>1</th>\n",
       "      <td>Jack</td>\n",
       "      <td>42</td>\n",
       "      <td>Chicago</td>\n",
       "    </tr>\n",
       "    <tr>\n",
       "      <th>2</th>\n",
       "      <td>Charlie</td>\n",
       "      <td>35</td>\n",
       "      <td>LA</td>\n",
       "    </tr>\n",
       "    <tr>\n",
       "      <th>3</th>\n",
       "      <td>Henry</td>\n",
       "      <td>40</td>\n",
       "      <td>Austin</td>\n",
       "    </tr>\n",
       "    <tr>\n",
       "      <th>4</th>\n",
       "      <td>John</td>\n",
       "      <td>45</td>\n",
       "      <td>Miami</td>\n",
       "    </tr>\n",
       "  </tbody>\n",
       "</table>\n",
       "</div>"
      ],
      "text/plain": [
       "      Name  Age     City\n",
       "0      Eve   25   Boston\n",
       "1     Jack   42  Chicago\n",
       "2  Charlie   35       LA\n",
       "3    Henry   40   Austin\n",
       "4     John   45    Miami"
      ]
     },
     "execution_count": 34,
     "metadata": {},
     "output_type": "execute_result"
    }
   ],
   "source": [
    "df['City'] = ['Boston', 'Chicago', 'LA', 'Austin', 'Miami']\n",
    "df"
   ]
  },
  {
   "cell_type": "markdown",
   "id": "04032a0a-3063-4c36-99e1-b9209254d415",
   "metadata": {},
   "source": [
    "#### 3. Updating Based on a Condition: We can apply conditions to update values in a DataFrame"
   ]
  },
  {
   "cell_type": "code",
   "execution_count": 35,
   "id": "a23ac50c-cb9f-44ba-a9ab-4ab2dcbc60be",
   "metadata": {},
   "outputs": [
    {
     "data": {
      "text/html": [
       "<div>\n",
       "<style scoped>\n",
       "    .dataframe tbody tr th:only-of-type {\n",
       "        vertical-align: middle;\n",
       "    }\n",
       "\n",
       "    .dataframe tbody tr th {\n",
       "        vertical-align: top;\n",
       "    }\n",
       "\n",
       "    .dataframe thead th {\n",
       "        text-align: right;\n",
       "    }\n",
       "</style>\n",
       "<table border=\"1\" class=\"dataframe\">\n",
       "  <thead>\n",
       "    <tr style=\"text-align: right;\">\n",
       "      <th></th>\n",
       "      <th>Name</th>\n",
       "      <th>Age</th>\n",
       "      <th>City</th>\n",
       "    </tr>\n",
       "  </thead>\n",
       "  <tbody>\n",
       "    <tr>\n",
       "      <th>0</th>\n",
       "      <td>Eve</td>\n",
       "      <td>25</td>\n",
       "      <td>Boston</td>\n",
       "    </tr>\n",
       "    <tr>\n",
       "      <th>1</th>\n",
       "      <td>Jack</td>\n",
       "      <td>42</td>\n",
       "      <td>Chicago</td>\n",
       "    </tr>\n",
       "    <tr>\n",
       "      <th>2</th>\n",
       "      <td>Charlie</td>\n",
       "      <td>31</td>\n",
       "      <td>LA</td>\n",
       "    </tr>\n",
       "    <tr>\n",
       "      <th>3</th>\n",
       "      <td>Henry</td>\n",
       "      <td>40</td>\n",
       "      <td>Austin</td>\n",
       "    </tr>\n",
       "    <tr>\n",
       "      <th>4</th>\n",
       "      <td>John</td>\n",
       "      <td>45</td>\n",
       "      <td>Miami</td>\n",
       "    </tr>\n",
       "  </tbody>\n",
       "</table>\n",
       "</div>"
      ],
      "text/plain": [
       "      Name  Age     City\n",
       "0      Eve   25   Boston\n",
       "1     Jack   42  Chicago\n",
       "2  Charlie   31       LA\n",
       "3    Henry   40   Austin\n",
       "4     John   45    Miami"
      ]
     },
     "execution_count": 35,
     "metadata": {},
     "output_type": "execute_result"
    }
   ],
   "source": [
    "df.loc[df['City'] == 'LA', 'Age'] = 31\n",
    "df"
   ]
  },
  {
   "cell_type": "markdown",
   "id": "2376ea70-478f-451d-a323-940ee0132d7e",
   "metadata": {},
   "source": [
    "### 4. Delete: Removing Data in Pandas\n",
    "Delete operation allows us to remove data from a DataFrame. We can drop rows, columns or specific values providing flexibility in cleaning and manipulating datasets. For the delete operations we will use the dataset below."
   ]
  },
  {
   "cell_type": "code",
   "execution_count": 36,
   "id": "56c24722-995b-4ca3-a27b-199f914295ab",
   "metadata": {},
   "outputs": [
    {
     "name": "stdout",
     "output_type": "stream",
     "text": [
      "      Name  Age     City\n",
      "0      Eve   25       NY\n",
      "1     Jack   30       LA\n",
      "2  Charlie   35       SF\n",
      "3    Henry   40  Houston\n",
      "4     John   45  Seattle\n"
     ]
    }
   ],
   "source": [
    "data = {'Name': ['Eve', 'Jack', 'Charlie', 'Henry', 'John'],\n",
    "        'Age': [25, 30, 35, 40, 45],\n",
    "        'City': ['NY', 'LA', 'SF', 'Houston', 'Seattle']}\n",
    "df = pd.DataFrame(data)\n",
    "\n",
    "print(df)"
   ]
  },
  {
   "cell_type": "markdown",
   "id": "2683a879-568d-405c-9f85-ceec13f85e0d",
   "metadata": {},
   "source": [
    "#### 1. Delete a Column: We can delete a column using the drop() method."
   ]
  },
  {
   "cell_type": "code",
   "execution_count": 37,
   "id": "42c4921d-159e-4ece-a813-824a9a1b2904",
   "metadata": {},
   "outputs": [
    {
     "name": "stdout",
     "output_type": "stream",
     "text": [
      "      Name  Age\n",
      "0      Eve   25\n",
      "1     Jack   30\n",
      "2  Charlie   35\n",
      "3    Henry   40\n",
      "4     John   45\n"
     ]
    }
   ],
   "source": [
    "df = df.drop('City', axis=1)\n",
    "print(df)"
   ]
  },
  {
   "cell_type": "markdown",
   "id": "01ca246c-d4f5-413d-a0b2-89375c8cb3db",
   "metadata": {},
   "source": [
    "#### 2. Delete a Row: Similarly we can delete rows by specifying the index."
   ]
  },
  {
   "cell_type": "code",
   "execution_count": 38,
   "id": "9671a15f-971f-4e6b-b04b-5833336c6225",
   "metadata": {},
   "outputs": [
    {
     "name": "stdout",
     "output_type": "stream",
     "text": [
      "    Name  Age\n",
      "0    Eve   25\n",
      "1   Jack   30\n",
      "3  Henry   40\n",
      "4   John   45\n"
     ]
    }
   ],
   "source": [
    "df = df.drop(2, axis=0) \n",
    "print(df)"
   ]
  },
  {
   "cell_type": "markdown",
   "id": "47b143bc-ac11-4209-9b7d-9e7463db489a",
   "metadata": {},
   "source": [
    "#### 3. Delete Rows Based on Condition: We can delete rows based on conditions."
   ]
  },
  {
   "cell_type": "code",
   "execution_count": 39,
   "id": "062419c6-d8d9-495c-9748-5da158e50b8a",
   "metadata": {},
   "outputs": [
    {
     "name": "stdout",
     "output_type": "stream",
     "text": [
      "    Name  Age\n",
      "0    Eve   25\n",
      "1   Jack   30\n",
      "3  Henry   40\n",
      "4   John   45\n"
     ]
    }
   ],
   "source": [
    "df = df[df['Age'] != 35]\n",
    "print(df)"
   ]
  },
  {
   "cell_type": "markdown",
   "id": "fe3aedea-ddc6-4699-812a-12b78bea7ba5",
   "metadata": {},
   "source": [
    "#### 4. Delete entire dataset: To delete the entire DataFrame, we can use the del statement or reassign it to an empty DataFrame."
   ]
  },
  {
   "cell_type": "code",
   "execution_count": 40,
   "id": "485926fd-fb5b-4289-85ff-559f01ba0bbc",
   "metadata": {},
   "outputs": [],
   "source": [
    "df = pd.DataFrame(data)\n",
    "\n",
    "del df"
   ]
  },
  {
   "cell_type": "code",
   "execution_count": null,
   "id": "46cd60be-037b-4418-99ea-90471d965096",
   "metadata": {},
   "outputs": [],
   "source": []
  }
 ],
 "metadata": {
  "kernelspec": {
   "display_name": "Python 3 (ipykernel)",
   "language": "python",
   "name": "python3"
  },
  "language_info": {
   "codemirror_mode": {
    "name": "ipython",
    "version": 3
   },
   "file_extension": ".py",
   "mimetype": "text/x-python",
   "name": "python",
   "nbconvert_exporter": "python",
   "pygments_lexer": "ipython3",
   "version": "3.13.5"
  }
 },
 "nbformat": 4,
 "nbformat_minor": 5
}
