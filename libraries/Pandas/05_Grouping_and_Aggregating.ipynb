{
 "cells": [
  {
   "cell_type": "markdown",
   "id": "d2cb4d2b-0a59-44a5-b8e8-156eb45894f4",
   "metadata": {},
   "source": [
    "When working with large datasets it's used to group and summarize the data to make analysis easier. Pandas a popular Python library provides powerful tools for this. In this article you'll learn how to use Pandas' groupby() and aggregation functions step by step with clear explanations and practical examples. "
   ]
  },
  {
   "cell_type": "markdown",
   "id": "9f6ac761-306d-480c-9fb6-f6d4bd5f2d0e",
   "metadata": {},
   "source": [
    "# Aggregation in Pandas  \n",
    "\n",
    "Aggregation means applying a mathematical function to summarize data. It can be used to get a summary of columns in our dataset, like getting sum, minimum, maximum, etc., from a particular column.  \n",
    "The function used for aggregation is **`agg()`**, and the parameter is the function we want to perform.  \n",
    "\n",
    "Some commonly used aggregation functions are:\n",
    "\n",
    "| Function      | Description                                              |\n",
    "|---------------|----------------------------------------------------------|\n",
    "| `sum()`       | Compute sum of column values                             |\n",
    "| `min()`       | Compute minimum of column values                         |\n",
    "| `max()`       | Compute maximum of column values                         |\n",
    "| `mean()`      | Compute mean (average) of column values                  |\n",
    "| `size()`      | Compute column sizes                                     |\n",
    "| `describe()`  | Generate descriptive statistics                          |\n",
    "| `first()`     | Compute first of group values                            |\n",
    "| `last()`      | Compute last of group values                             |\n",
    "| `count()`     | Compute count of column values                           |\n",
    "| `std()`       | Standard deviation of column values                      |\n",
    "| `var()`       | Compute variance of column values                        |\n",
    "| `sem()`       | Standard error of the mean of column values              |\n"
   ]
  },
  {
   "cell_type": "markdown",
   "id": "4ef09b23-1684-47e3-ad2b-fc34a3e2c4a7",
   "metadata": {},
   "source": [
    "### Creating a Sample Dataset\n",
    "Let's create a small dataset of student marks in Maths, English, Science and History."
   ]
  },
  {
   "cell_type": "code",
   "execution_count": 2,
   "id": "6f9e71a1-d67e-49dc-a630-d06385f72f03",
   "metadata": {},
   "outputs": [
    {
     "data": {
      "text/html": [
       "<div>\n",
       "<style scoped>\n",
       "    .dataframe tbody tr th:only-of-type {\n",
       "        vertical-align: middle;\n",
       "    }\n",
       "\n",
       "    .dataframe tbody tr th {\n",
       "        vertical-align: top;\n",
       "    }\n",
       "\n",
       "    .dataframe thead th {\n",
       "        text-align: right;\n",
       "    }\n",
       "</style>\n",
       "<table border=\"1\" class=\"dataframe\">\n",
       "  <thead>\n",
       "    <tr style=\"text-align: right;\">\n",
       "      <th></th>\n",
       "      <th>Maths</th>\n",
       "      <th>English</th>\n",
       "      <th>Science</th>\n",
       "      <th>History</th>\n",
       "    </tr>\n",
       "  </thead>\n",
       "  <tbody>\n",
       "    <tr>\n",
       "      <th>0</th>\n",
       "      <td>9</td>\n",
       "      <td>4</td>\n",
       "      <td>8</td>\n",
       "      <td>9</td>\n",
       "    </tr>\n",
       "    <tr>\n",
       "      <th>1</th>\n",
       "      <td>8</td>\n",
       "      <td>10</td>\n",
       "      <td>7</td>\n",
       "      <td>6</td>\n",
       "    </tr>\n",
       "    <tr>\n",
       "      <th>2</th>\n",
       "      <td>7</td>\n",
       "      <td>6</td>\n",
       "      <td>8</td>\n",
       "      <td>5</td>\n",
       "    </tr>\n",
       "  </tbody>\n",
       "</table>\n",
       "</div>"
      ],
      "text/plain": [
       "   Maths  English  Science  History\n",
       "0      9        4        8        9\n",
       "1      8       10        7        6\n",
       "2      7        6        8        5"
      ]
     },
     "execution_count": 2,
     "metadata": {},
     "output_type": "execute_result"
    }
   ],
   "source": [
    "import pandas as pd\n",
    "\n",
    "df = pd.DataFrame([[9, 4, 8, 9],\n",
    "                   [8, 10, 7, 6],\n",
    "                   [7, 6, 8, 5]],\n",
    "                  columns=['Maths',  'English', \n",
    "                           'Science', 'History'])\n",
    "\n",
    "df"
   ]
  },
  {
   "cell_type": "markdown",
   "id": "9e0a0cad-8ba8-4eb9-aa1b-ab5aa40f17aa",
   "metadata": {},
   "source": [
    "#### 1. Summing Up All Values (sum())\n",
    "The sum() function adds up all values in each column."
   ]
  },
  {
   "cell_type": "code",
   "execution_count": 4,
   "id": "d22c9d96-2c23-490d-8e61-86b27a51ca03",
   "metadata": {},
   "outputs": [
    {
     "data": {
      "text/plain": [
       "Maths      24\n",
       "English    20\n",
       "Science    23\n",
       "History    20\n",
       "dtype: int64"
      ]
     },
     "execution_count": 4,
     "metadata": {},
     "output_type": "execute_result"
    }
   ],
   "source": [
    "sumOfData=df.sum()\n",
    "sumOfData"
   ]
  },
  {
   "cell_type": "markdown",
   "id": "306af78d-ac39-4ac7-9b48-d7b30f69608a",
   "metadata": {},
   "source": [
    "#### 2. Getting a Summary (describe())\n",
    "Instead of calculating sum, mean, min and max separately we can use describe() which provides all important statistics in one go."
   ]
  },
  {
   "cell_type": "code",
   "execution_count": 5,
   "id": "38aba778-8698-4908-b4c4-50b5b5d9d5b8",
   "metadata": {},
   "outputs": [
    {
     "data": {
      "text/html": [
       "<div>\n",
       "<style scoped>\n",
       "    .dataframe tbody tr th:only-of-type {\n",
       "        vertical-align: middle;\n",
       "    }\n",
       "\n",
       "    .dataframe tbody tr th {\n",
       "        vertical-align: top;\n",
       "    }\n",
       "\n",
       "    .dataframe thead th {\n",
       "        text-align: right;\n",
       "    }\n",
       "</style>\n",
       "<table border=\"1\" class=\"dataframe\">\n",
       "  <thead>\n",
       "    <tr style=\"text-align: right;\">\n",
       "      <th></th>\n",
       "      <th>Maths</th>\n",
       "      <th>English</th>\n",
       "      <th>Science</th>\n",
       "      <th>History</th>\n",
       "    </tr>\n",
       "  </thead>\n",
       "  <tbody>\n",
       "    <tr>\n",
       "      <th>count</th>\n",
       "      <td>3.0</td>\n",
       "      <td>3.000000</td>\n",
       "      <td>3.000000</td>\n",
       "      <td>3.000000</td>\n",
       "    </tr>\n",
       "    <tr>\n",
       "      <th>mean</th>\n",
       "      <td>8.0</td>\n",
       "      <td>6.666667</td>\n",
       "      <td>7.666667</td>\n",
       "      <td>6.666667</td>\n",
       "    </tr>\n",
       "    <tr>\n",
       "      <th>std</th>\n",
       "      <td>1.0</td>\n",
       "      <td>3.055050</td>\n",
       "      <td>0.577350</td>\n",
       "      <td>2.081666</td>\n",
       "    </tr>\n",
       "    <tr>\n",
       "      <th>min</th>\n",
       "      <td>7.0</td>\n",
       "      <td>4.000000</td>\n",
       "      <td>7.000000</td>\n",
       "      <td>5.000000</td>\n",
       "    </tr>\n",
       "    <tr>\n",
       "      <th>25%</th>\n",
       "      <td>7.5</td>\n",
       "      <td>5.000000</td>\n",
       "      <td>7.500000</td>\n",
       "      <td>5.500000</td>\n",
       "    </tr>\n",
       "    <tr>\n",
       "      <th>50%</th>\n",
       "      <td>8.0</td>\n",
       "      <td>6.000000</td>\n",
       "      <td>8.000000</td>\n",
       "      <td>6.000000</td>\n",
       "    </tr>\n",
       "    <tr>\n",
       "      <th>75%</th>\n",
       "      <td>8.5</td>\n",
       "      <td>8.000000</td>\n",
       "      <td>8.000000</td>\n",
       "      <td>7.500000</td>\n",
       "    </tr>\n",
       "    <tr>\n",
       "      <th>max</th>\n",
       "      <td>9.0</td>\n",
       "      <td>10.000000</td>\n",
       "      <td>8.000000</td>\n",
       "      <td>9.000000</td>\n",
       "    </tr>\n",
       "  </tbody>\n",
       "</table>\n",
       "</div>"
      ],
      "text/plain": [
       "       Maths    English   Science   History\n",
       "count    3.0   3.000000  3.000000  3.000000\n",
       "mean     8.0   6.666667  7.666667  6.666667\n",
       "std      1.0   3.055050  0.577350  2.081666\n",
       "min      7.0   4.000000  7.000000  5.000000\n",
       "25%      7.5   5.000000  7.500000  5.500000\n",
       "50%      8.0   6.000000  8.000000  6.000000\n",
       "75%      8.5   8.000000  8.000000  7.500000\n",
       "max      9.0  10.000000  8.000000  9.000000"
      ]
     },
     "execution_count": 5,
     "metadata": {},
     "output_type": "execute_result"
    }
   ],
   "source": [
    "df.describe()"
   ]
  },
  {
   "cell_type": "markdown",
   "id": "8928a4f4-93fd-476e-8a68-45c883c6ff78",
   "metadata": {},
   "source": [
    "#### 3. Applying Multiple Aggregations at Once (agg())\n",
    "The .agg() function lets you apply multiple aggregation functions at the same time."
   ]
  },
  {
   "cell_type": "code",
   "execution_count": 6,
   "id": "4f5d999b-5df9-4387-91f9-652faeed3754",
   "metadata": {},
   "outputs": [
    {
     "data": {
      "text/html": [
       "<div>\n",
       "<style scoped>\n",
       "    .dataframe tbody tr th:only-of-type {\n",
       "        vertical-align: middle;\n",
       "    }\n",
       "\n",
       "    .dataframe tbody tr th {\n",
       "        vertical-align: top;\n",
       "    }\n",
       "\n",
       "    .dataframe thead th {\n",
       "        text-align: right;\n",
       "    }\n",
       "</style>\n",
       "<table border=\"1\" class=\"dataframe\">\n",
       "  <thead>\n",
       "    <tr style=\"text-align: right;\">\n",
       "      <th></th>\n",
       "      <th>Maths</th>\n",
       "      <th>English</th>\n",
       "      <th>Science</th>\n",
       "      <th>History</th>\n",
       "    </tr>\n",
       "  </thead>\n",
       "  <tbody>\n",
       "    <tr>\n",
       "      <th>sum</th>\n",
       "      <td>24.0</td>\n",
       "      <td>20.000000</td>\n",
       "      <td>23.000000</td>\n",
       "      <td>20.000000</td>\n",
       "    </tr>\n",
       "    <tr>\n",
       "      <th>min</th>\n",
       "      <td>7.0</td>\n",
       "      <td>4.000000</td>\n",
       "      <td>7.000000</td>\n",
       "      <td>5.000000</td>\n",
       "    </tr>\n",
       "    <tr>\n",
       "      <th>mean</th>\n",
       "      <td>8.0</td>\n",
       "      <td>6.666667</td>\n",
       "      <td>7.666667</td>\n",
       "      <td>6.666667</td>\n",
       "    </tr>\n",
       "  </tbody>\n",
       "</table>\n",
       "</div>"
      ],
      "text/plain": [
       "      Maths    English    Science    History\n",
       "sum    24.0  20.000000  23.000000  20.000000\n",
       "min     7.0   4.000000   7.000000   5.000000\n",
       "mean    8.0   6.666667   7.666667   6.666667"
      ]
     },
     "execution_count": 6,
     "metadata": {},
     "output_type": "execute_result"
    }
   ],
   "source": [
    "df.agg(['sum','min','mean'])"
   ]
  },
  {
   "cell_type": "markdown",
   "id": "715328d6-8f54-42ed-8a43-30a66ac1cbb2",
   "metadata": {},
   "source": [
    "## Grouping in Pandas\n",
    "Grouping in Pandas means organizing your data into groups based on some columns. Once grouped you can perform actions like finding the total, average, count or even pick the first row from each group. This method follows a split-apply-combine process:\n",
    "\n",
    "* Split the data into groups\n",
    "* Apply some calculation like sum, average etc.\n",
    "* Combine the results into a new table.  \n",
    "Let’s understand grouping in Pandas using a small bakery order dataset as an example."
   ]
  },
  {
   "cell_type": "code",
   "execution_count": 8,
   "id": "7ea61e95-c783-4eb3-b7f3-9168ace223fb",
   "metadata": {},
   "outputs": [
    {
     "data": {
      "text/html": [
       "<div>\n",
       "<style scoped>\n",
       "    .dataframe tbody tr th:only-of-type {\n",
       "        vertical-align: middle;\n",
       "    }\n",
       "\n",
       "    .dataframe tbody tr th {\n",
       "        vertical-align: top;\n",
       "    }\n",
       "\n",
       "    .dataframe thead th {\n",
       "        text-align: right;\n",
       "    }\n",
       "</style>\n",
       "<table border=\"1\" class=\"dataframe\">\n",
       "  <thead>\n",
       "    <tr style=\"text-align: right;\">\n",
       "      <th></th>\n",
       "      <th>Item</th>\n",
       "      <th>Flavor</th>\n",
       "      <th>Price</th>\n",
       "    </tr>\n",
       "  </thead>\n",
       "  <tbody>\n",
       "    <tr>\n",
       "      <th>0</th>\n",
       "      <td>Cake</td>\n",
       "      <td>Chocolate</td>\n",
       "      <td>250</td>\n",
       "    </tr>\n",
       "    <tr>\n",
       "      <th>1</th>\n",
       "      <td>Cake</td>\n",
       "      <td>Vanilla</td>\n",
       "      <td>220</td>\n",
       "    </tr>\n",
       "    <tr>\n",
       "      <th>2</th>\n",
       "      <td>Bread</td>\n",
       "      <td>Whole Wheat</td>\n",
       "      <td>80</td>\n",
       "    </tr>\n",
       "    <tr>\n",
       "      <th>3</th>\n",
       "      <td>Pastry</td>\n",
       "      <td>Strawberry</td>\n",
       "      <td>120</td>\n",
       "    </tr>\n",
       "    <tr>\n",
       "      <th>4</th>\n",
       "      <td>Cake</td>\n",
       "      <td>Chocolate</td>\n",
       "      <td>250</td>\n",
       "    </tr>\n",
       "  </tbody>\n",
       "</table>\n",
       "</div>"
      ],
      "text/plain": [
       "     Item       Flavor  Price\n",
       "0    Cake    Chocolate    250\n",
       "1    Cake      Vanilla    220\n",
       "2   Bread  Whole Wheat     80\n",
       "3  Pastry   Strawberry    120\n",
       "4    Cake    Chocolate    250"
      ]
     },
     "execution_count": 8,
     "metadata": {},
     "output_type": "execute_result"
    }
   ],
   "source": [
    "data = {\n",
    "    'Item': ['Cake', 'Cake', 'Bread', 'Pastry', 'Cake'],\n",
    "    'Flavor': ['Chocolate', 'Vanilla', 'Whole Wheat', 'Strawberry', 'Chocolate'],\n",
    "    'Price': [250, 220, 80, 120, 250]\n",
    "}\n",
    "\n",
    "df = pd.DataFrame(data)\n",
    "df"
   ]
  },
  {
   "cell_type": "markdown",
   "id": "1ca4d176-5685-4941-be1c-d8970b93d07a",
   "metadata": {},
   "source": [
    "#### 1. Grouping Data by One Column Using groupby()\n",
    "Let’s say we want to group the orders based on the Item column."
   ]
  },
  {
   "cell_type": "code",
   "execution_count": 10,
   "id": "68e3ccce-f2eb-48da-b6bd-d2b6cb5915bb",
   "metadata": {},
   "outputs": [
    {
     "data": {
      "text/plain": [
       "<pandas.core.groupby.generic.DataFrameGroupBy object at 0x0000023C18D5BD90>"
      ]
     },
     "execution_count": 10,
     "metadata": {},
     "output_type": "execute_result"
    }
   ],
   "source": [
    "grouped=df.groupby('Item')\n",
    "grouped"
   ]
  },
  {
   "cell_type": "markdown",
   "id": "3d903248-b1da-46d7-8771-5ee92b102d7a",
   "metadata": {},
   "source": [
    "This doesn't show the result directly it just creates a grouped object. To actually see the data we need to apply a method like .sum(), .mean() or first(). Let’s find the total price of each item sold:"
   ]
  },
  {
   "cell_type": "code",
   "execution_count": 12,
   "id": "63e11cc6-cc5d-4985-b6a1-47092861a054",
   "metadata": {},
   "outputs": [
    {
     "data": {
      "text/plain": [
       "Item\n",
       "Bread      80\n",
       "Cake      720\n",
       "Pastry    120\n",
       "Name: Price, dtype: int64"
      ]
     },
     "execution_count": 12,
     "metadata": {},
     "output_type": "execute_result"
    }
   ],
   "source": [
    "grouped=df.groupby('Item')['Price'].sum()\n",
    "grouped"
   ]
  },
  {
   "cell_type": "markdown",
   "id": "5a96e246-a0ef-4a44-aac8-b05155ec96c8",
   "metadata": {},
   "source": [
    "#### 2. Grouping by Multiple Columns\n",
    "Now let’s group by Item and Flavor to see how each flavored item sold."
   ]
  },
  {
   "cell_type": "code",
   "execution_count": 13,
   "id": "a28e4048-c137-41ef-b20d-bf46d7c8c0c0",
   "metadata": {},
   "outputs": [
    {
     "data": {
      "text/plain": [
       "Item    Flavor     \n",
       "Bread   Whole Wheat     80\n",
       "Cake    Chocolate      500\n",
       "        Vanilla        220\n",
       "Pastry  Strawberry     120\n",
       "Name: Price, dtype: int64"
      ]
     },
     "execution_count": 13,
     "metadata": {},
     "output_type": "execute_result"
    }
   ],
   "source": [
    "grouped=df.groupby(['Item','Flavor'])['Price'].sum()\n",
    "grouped"
   ]
  },
  {
   "cell_type": "code",
   "execution_count": null,
   "id": "7d41e9fb-f562-4dc8-a6aa-0e67093c86ef",
   "metadata": {},
   "outputs": [],
   "source": []
  }
 ],
 "metadata": {
  "kernelspec": {
   "display_name": "Python 3 (ipykernel)",
   "language": "python",
   "name": "python3"
  },
  "language_info": {
   "codemirror_mode": {
    "name": "ipython",
    "version": 3
   },
   "file_extension": ".py",
   "mimetype": "text/x-python",
   "name": "python",
   "nbconvert_exporter": "python",
   "pygments_lexer": "ipython3",
   "version": "3.13.5"
  }
 },
 "nbformat": 4,
 "nbformat_minor": 5
}
