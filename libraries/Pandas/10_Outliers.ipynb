{
 "cells": [
  {
   "cell_type": "markdown",
   "id": "83cede9d-270a-4bdc-985b-58a77938af7c",
   "metadata": {},
   "source": [
    "# Interquartile Range (IQR)\n",
    "\n",
    "The **Interquartile Range (IQR)** helps us understand the spread of data by focusing on the **middle 50%** of a dataset.  \n",
    "Unlike the range, which can be heavily influenced by extreme values (outliers), the IQR isolates the central portion of the data.  \n",
    "It is calculated as the difference between the **first quartile (Q1)** and the **third quartile (Q3)**.  \n",
    "\n",
    "In this article, we'll see how to calculate the IQR and apply it in real-world scenarios.\n",
    "\n",
    "---\n",
    "\n",
    "## 🔑 Key Concepts\n",
    "\n",
    "### 1. Quartiles\n",
    "Quartiles divide a dataset into four equal parts:\n",
    "\n",
    "- **Q1 (First Quartile):** Separates the lowest 25% of the data (median of the lower half).  \n",
    "- **Q2 (Second Quartile / Median):** The middle value of the dataset, splitting it into two equal halves.  \n",
    "- **Q3 (Third Quartile):** Separates the top 25% of the data (median of the upper half).  \n",
    "\n",
    "The IQR focuses on the range between Q1 and Q3, which captures the **middle 50%** of the data.\n",
    "\n",
    "---\n",
    "\n",
    "### 2. Interquartile Range (IQR)\n",
    "The **IQR** measures variability by dividing the data into quartiles:\n",
    "\n",
    "\\[\n",
    "\\text{IQR} = Q3 - Q1\n",
    "\\]\n",
    "\n",
    "It shows how spread out the central 50% of the data is, without being influenced by extreme outliers.\n",
    "\n",
    "---\n",
    "\n",
    "## 📐 Steps to Calculate the Interquartile Range\n",
    "\n",
    "1. **Sort the Data** in ascending order.  \n",
    "2. **Find the Median (Q2):**  \n",
    "   - If odd number of values → middle value.  \n",
    "   - If even number of values → average of the two middle values.  \n",
    "3. **Find Q1 and Q3:**  \n",
    "   - Q1 = median of the lower half (excluding Q2 if odd).  \n",
    "   - Q3 = median of the upper half (excluding Q2 if odd).  \n",
    "4. **Calculate IQR:**  \n",
    "\n",
    "\\[\n",
    "\\text{IQR} = Q3 - Q1\n",
    "\\]\n",
    "\n",
    "---\n",
    "\n",
    "## 📊 Example Calculation\n",
    "\n",
    "Dataset: **77, 85, 92, 64, 78, 95, 82**\n",
    "\n",
    "1. **Sort the Data:** 64, 77, 78, 82, 85, 92, 95  \n",
    "2. **Median (Q2):** 82  \n",
    "3. **Lower Half:** 64, 77, 78 → Q1 = 77  \n",
    "   **Upper Half:** 85, 92, 95 → Q3 = 92  \n",
    "4. **IQR:** 92 - 77 = **15**  \n",
    "\n",
    "✅ The IQR for this dataset = **15**\n",
    "\n",
    "---\n",
    "\n",
    "## ⚖️ Semi-Interquartile Range (SIQR)\n",
    "\n",
    "The **Semi-Interquartile Range (SIQR)**, also called **Quartile Deviation**, measures the spread of the middle 50% of data:\n",
    "\n",
    "\\[\n",
    "\\text{SIQR} = \\frac{Q3 - Q1}{2} = \\frac{\\text{IQR}}{2}\n",
    "\\]\n",
    "\n",
    "### Key Points:\n",
    "- SIQR is **half of the IQR**.  \n",
    "- Focuses on variability around the **median**.  \n",
    "- Less sensitive to extreme values → useful for skewed datasets.\n",
    "\n",
    "---\n",
    "\n",
    "## 📌 IQR Median\n",
    "\n",
    "The **IQR Median** is the **median of the interquartile range**, giving a measure of the **central tendency** of the middle 50%.  \n",
    "- **Median (Q2):** splits dataset into two halves.  \n",
    "- **IQR:** shows variability of the central 50%.  \n",
    "\n",
    "When dealing with skewed distributions, use **Median + IQR** instead of **Mean + Standard Deviation**.\n",
    "\n",
    "---\n",
    "\n",
    "## 🔎 Applications of IQR\n",
    "\n",
    "- **Outlier Detection:**  \n",
    "  Data points outside  \n",
    "  \\[\n",
    "  Q1 - 1.5 \\times IQR \\quad \\text{to} \\quad Q3 + 1.5 \\times IQR\n",
    "  \\]  \n",
    "  are considered outliers.  \n",
    "\n",
    "- **Measure of Variability for Skewed Data:**  \n",
    "  Less sensitive to extreme values than the range.  \n",
    "\n",
    "- **Data Summary & Comparison:**  \n",
    "  Summarizes non-normally distributed datasets.  \n",
    "\n",
    "- **Predictive Analytics:**  \n",
    "  Helps in understanding distribution, improving model accuracy.  \n",
    "\n",
    "- **Central Tendency Analysis:**  \n",
    "  Provides clearer insight into the \"true center\" of data.  \n",
    "\n",
    "---\n",
    "\n",
    "## 📝 Solved Examples\n",
    "\n",
    "### Example 1\n",
    "Dataset: **18, 19, 20, 21, 22, 35, 13, 23**\n",
    "\n",
    "1. Sort: 13, 18, 19, 20, 21, 22, 23, 35  \n",
    "2. Median = (20 + 21)/2 = 20.5  \n",
    "3. Lower Half: 13, 18, 19, 20 → Q1 = (18+19)/2 = 18.5  \n",
    "   Upper Half: 21, 22, 23, 35 → Q3 = (22+23)/2 = 22.5  \n",
    "4. **IQR = 22.5 - 18.5 = 4**\n",
    "\n",
    "---\n",
    "\n",
    "### Example 2\n",
    "Dataset: **4, 5, 6, 3, 12, 14, 15, 13**\n",
    "\n",
    "1. Sort: 3, 4, 5, 6, 12, 13, 14, 15  \n",
    "2. Median = (6 + 12)/2 = 9  \n",
    "3. Lower Half: 3, 4, 5 → Q1 = 4  \n",
    "   Upper Half: 13, 14, 15 → Q3 = 14  \n",
    "4. **IQR = 14 - 4 = 10**  \n",
    "5. **SIQR = IQR / 2 = 5**\n",
    "\n",
    "---\n",
    "\n",
    "## 🏋 Practice Questions\n",
    "\n",
    "1. Dataset: 12, 15, 20, 25, 30, 35, 40, 45 → Find the IQR.  \n",
    "2. Dataset (temperatures °C): 18, 22, 20, 25, 19, 28, 17 → Find the IQR.  \n",
    "3. Dataset (heights in inches): 62, 67, 71, 68, 70, 75, 61, 66, 69, 70 → Find the IQR.  \n",
    "\n",
    "---\n",
    "\n",
    "✅ By understanding and applying the **Interquartile Range (IQR)**, we can gain deeper insights into data distribution, manage outliers effectively, and make **data-driven decisions** with better accuracy.\n"
   ]
  },
  {
   "cell_type": "markdown",
   "id": "5d7a1e0a-d225-41e7-afec-0e455366ecea",
   "metadata": {},
   "source": [
    "# Outlier Detection Using Z-Score\n",
    "\n",
    "**Outlier detection** is an important task in data analysis. Identifying outliers helps us understand the data better and improves the accuracy of models.  \n",
    "\n",
    "One common technique for detecting outliers is the **Z-score**.  \n",
    "The Z-score describes **how far a data point is from the mean**, expressed in terms of **standard deviations**.\n",
    "\n",
    "---\n",
    "\n",
    "## 📌 Z-Score Formula\n",
    "\n",
    "\\[\n",
    "Z = \\frac{X - \\mu}{\\sigma}\n",
    "\\]\n",
    "\n",
    "Where:  \n",
    "- **X** = Value of the data point  \n",
    "- **μ** = Mean of the dataset  \n",
    "- **σ** = Standard deviation of the dataset  \n",
    "\n",
    "---\n",
    "\n",
    "## 📖 Interpretation of Z-Score\n",
    "\n",
    "- **Z = 0** → Data point is exactly at the mean.  \n",
    "- **Z > 0** → Data point is above the mean.  \n",
    "- **Z < 0** → Data point is below the mean.  \n",
    "\n",
    "👉 Commonly, **Z > 3** or **Z < -3** are considered **outliers**  \n",
    "(since they lie more than 3 standard deviations away from the mean).  \n",
    "\n",
    "---\n",
    "\n",
    "## 🎯 Why Use Z-Score for Outlier Detection?\n",
    "\n",
    "- ✅ **Simple Calculation** → Only requires mean & standard deviation.  \n",
    "- ✅ **Standardized Measure** → Works across datasets with different scales/units.  \n",
    "- ✅ **Identifies Extremes** → Perfect for spotting anomalies far from the mean.  \n",
    "\n",
    "📊 In a normal distribution:\n",
    "- ~68% of values lie within ±1 standard deviation.  \n",
    "- ~95% of values lie within ±2 standard deviations.  \n",
    "- ~99.7% of values lie within ±3 standard deviations.  \n",
    "\n",
    "This is known as the **68-95-99.7 Rule**.\n",
    "\n",
    "---\n",
    "\n",
    "## 🧪 Example\n",
    "\n",
    "Dataset (survey of children per family):  \n",
    "\n"
   ]
  },
  {
   "cell_type": "markdown",
   "id": "fff930fd-2c62-44c3-95fd-0343b7d15991",
   "metadata": {},
   "source": [
    "### Step 1: Importing Necessary Libraries\n",
    "We will be importing numpy, pandas, scipy and matplotlib for calculating the Z-Score and visualizing the outliers."
   ]
  },
  {
   "cell_type": "code",
   "execution_count": 2,
   "id": "9cccaf52-86f3-42aa-98ea-04b483728df7",
   "metadata": {},
   "outputs": [],
   "source": [
    "import numpy as np\n",
    "import pandas as pd\n",
    "from scipy.stats import zscore\n",
    "import matplotlib.pyplot as plt"
   ]
  },
  {
   "cell_type": "markdown",
   "id": "f6bce36b-58b4-4a92-9fc9-a65e28dc7a45",
   "metadata": {},
   "source": [
    "### Step 2: Creating the Dataset\n",
    "For this example, we will use sample data and convert this into a pandas DataFrame."
   ]
  },
  {
   "cell_type": "code",
   "execution_count": 5,
   "id": "7bfd308e-821f-44ab-8cfa-78764f26fd3f",
   "metadata": {},
   "outputs": [
    {
     "data": {
      "text/html": [
       "<div>\n",
       "<style scoped>\n",
       "    .dataframe tbody tr th:only-of-type {\n",
       "        vertical-align: middle;\n",
       "    }\n",
       "\n",
       "    .dataframe tbody tr th {\n",
       "        vertical-align: top;\n",
       "    }\n",
       "\n",
       "    .dataframe thead th {\n",
       "        text-align: right;\n",
       "    }\n",
       "</style>\n",
       "<table border=\"1\" class=\"dataframe\">\n",
       "  <thead>\n",
       "    <tr style=\"text-align: right;\">\n",
       "      <th></th>\n",
       "      <th>Value</th>\n",
       "    </tr>\n",
       "  </thead>\n",
       "  <tbody>\n",
       "    <tr>\n",
       "      <th>0</th>\n",
       "      <td>5.00</td>\n",
       "    </tr>\n",
       "    <tr>\n",
       "      <th>1</th>\n",
       "      <td>2.00</td>\n",
       "    </tr>\n",
       "    <tr>\n",
       "      <th>2</th>\n",
       "      <td>4.50</td>\n",
       "    </tr>\n",
       "    <tr>\n",
       "      <th>3</th>\n",
       "      <td>4.00</td>\n",
       "    </tr>\n",
       "    <tr>\n",
       "      <th>4</th>\n",
       "      <td>3.00</td>\n",
       "    </tr>\n",
       "    <tr>\n",
       "      <th>5</th>\n",
       "      <td>2.00</td>\n",
       "    </tr>\n",
       "    <tr>\n",
       "      <th>6</th>\n",
       "      <td>6.00</td>\n",
       "    </tr>\n",
       "    <tr>\n",
       "      <th>7</th>\n",
       "      <td>20.00</td>\n",
       "    </tr>\n",
       "    <tr>\n",
       "      <th>8</th>\n",
       "      <td>9.00</td>\n",
       "    </tr>\n",
       "    <tr>\n",
       "      <th>9</th>\n",
       "      <td>2.50</td>\n",
       "    </tr>\n",
       "    <tr>\n",
       "      <th>10</th>\n",
       "      <td>3.50</td>\n",
       "    </tr>\n",
       "    <tr>\n",
       "      <th>11</th>\n",
       "      <td>4.75</td>\n",
       "    </tr>\n",
       "    <tr>\n",
       "      <th>12</th>\n",
       "      <td>6.50</td>\n",
       "    </tr>\n",
       "    <tr>\n",
       "      <th>13</th>\n",
       "      <td>2.50</td>\n",
       "    </tr>\n",
       "    <tr>\n",
       "      <th>14</th>\n",
       "      <td>8.00</td>\n",
       "    </tr>\n",
       "    <tr>\n",
       "      <th>15</th>\n",
       "      <td>1.00</td>\n",
       "    </tr>\n",
       "  </tbody>\n",
       "</table>\n",
       "</div>"
      ],
      "text/plain": [
       "    Value\n",
       "0    5.00\n",
       "1    2.00\n",
       "2    4.50\n",
       "3    4.00\n",
       "4    3.00\n",
       "5    2.00\n",
       "6    6.00\n",
       "7   20.00\n",
       "8    9.00\n",
       "9    2.50\n",
       "10   3.50\n",
       "11   4.75\n",
       "12   6.50\n",
       "13   2.50\n",
       "14   8.00\n",
       "15   1.00"
      ]
     },
     "execution_count": 5,
     "metadata": {},
     "output_type": "execute_result"
    }
   ],
   "source": [
    "data = [5, 2, 4.5, 4, 3, 2, 6, 20, 9, 2.5, 3.5, 4.75, 6.5, 2.5, 8, 1]\n",
    "df = pd.DataFrame(data, columns=['Value'])\n",
    "df"
   ]
  },
  {
   "cell_type": "markdown",
   "id": "ac57e593-fb41-43d6-aabc-331713980f16",
   "metadata": {},
   "source": [
    "### Step 3: Calculating the Z-Scores\n",
    "Now, we calculate the Z-scores for this dataset using the z-score function from scipy.stats."
   ]
  },
  {
   "cell_type": "code",
   "execution_count": 6,
   "id": "9dc30ea8-f795-476f-8038-331c1537e490",
   "metadata": {},
   "outputs": [
    {
     "name": "stdout",
     "output_type": "stream",
     "text": [
      "    Value   Z-score\n",
      "0    5.00 -0.060721\n",
      "1    2.00 -0.746510\n",
      "2    4.50 -0.175019\n",
      "3    4.00 -0.289317\n",
      "4    3.00 -0.517913\n",
      "5    2.00 -0.746510\n",
      "6    6.00  0.167875\n",
      "7   20.00  3.368222\n",
      "8    9.00  0.853664\n",
      "9    2.50 -0.632211\n",
      "10   3.50 -0.403615\n",
      "11   4.75 -0.117870\n",
      "12   6.50  0.282173\n",
      "13   2.50 -0.632211\n",
      "14   8.00  0.625068\n",
      "15   1.00 -0.975106\n"
     ]
    }
   ],
   "source": [
    "df['Z-score'] = zscore(df['Value'])\n",
    "print(df)"
   ]
  },
  {
   "cell_type": "markdown",
   "id": "af1be39c-7f62-48d1-9687-509514b7da2c",
   "metadata": {},
   "source": [
    "### Step 4: Identifying Outliers\n",
    "Next, we'll identify the data points that have a Z-score greater than 3 or less than -3 which are commonly considered outliers."
   ]
  },
  {
   "cell_type": "code",
   "execution_count": 7,
   "id": "51bad94f-f585-4fbf-9caf-b8da61a7eb75",
   "metadata": {},
   "outputs": [
    {
     "data": {
      "text/html": [
       "<div>\n",
       "<style scoped>\n",
       "    .dataframe tbody tr th:only-of-type {\n",
       "        vertical-align: middle;\n",
       "    }\n",
       "\n",
       "    .dataframe tbody tr th {\n",
       "        vertical-align: top;\n",
       "    }\n",
       "\n",
       "    .dataframe thead th {\n",
       "        text-align: right;\n",
       "    }\n",
       "</style>\n",
       "<table border=\"1\" class=\"dataframe\">\n",
       "  <thead>\n",
       "    <tr style=\"text-align: right;\">\n",
       "      <th></th>\n",
       "      <th>Value</th>\n",
       "      <th>Z-score</th>\n",
       "    </tr>\n",
       "  </thead>\n",
       "  <tbody>\n",
       "    <tr>\n",
       "      <th>7</th>\n",
       "      <td>20.0</td>\n",
       "      <td>3.368222</td>\n",
       "    </tr>\n",
       "  </tbody>\n",
       "</table>\n",
       "</div>"
      ],
      "text/plain": [
       "   Value   Z-score\n",
       "7   20.0  3.368222"
      ]
     },
     "execution_count": 7,
     "metadata": {},
     "output_type": "execute_result"
    }
   ],
   "source": [
    "outliers=df[df['Z-score'].abs()>3]\n",
    "outliers"
   ]
  },
  {
   "cell_type": "markdown",
   "id": "4e07339a-0c52-495c-a7ce-bc88e2592008",
   "metadata": {},
   "source": [
    "### Step 5: Visualizing the Data\n",
    "To better understand the outliers, let’s create a scatter plot to visualize the dataset and highlight the outliers."
   ]
  },
  {
   "cell_type": "code",
   "execution_count": 8,
   "id": "c64344b8-352a-4e24-bc2b-94ff84eeb7bf",
   "metadata": {},
   "outputs": [
    {
     "data": {
      "image/png": "[encoded data removed]",
      "text/plain": [
       "<Figure size 1000x600 with 1 Axes>"
      ]
     },
     "metadata": {},
     "output_type": "display_data"
    }
   ],
   "source": [
    "plt.figure(figsize=(10, 6))\n",
    "\n",
    "plt.scatter(df['Value'].index, df['Z-score'], label='Data Points')\n",
    "plt.scatter(outliers['Value'].index, outliers['Z-score'], color='red', label='Outlier')\n",
    "\n",
    "plt.xlabel('Index Value')\n",
    "plt.ylabel('Z-score')\n",
    "plt.title('Scatter Plot of Value vs. Z-score')\n",
    "plt.legend()\n",
    "plt.grid(True)\n",
    "plt.show()"
   ]
  },
  {
   "cell_type": "markdown",
   "id": "4484dd75-65e8-49bf-a18c-18e3abbf32b6",
   "metadata": {},
   "source": [
    "# Outliers in Data\n",
    "\n",
    "**Outliers** are extreme values that lie far away from the majority of the data points in a dataset.  \n",
    "These values do not follow the general pattern of the data and can occur due to various reasons, such as:\n",
    "\n",
    "- Data entry mistakes  \n",
    "- Measurement errors  \n",
    "- Natural variations  \n",
    "\n",
    "📌 **Example:**  \n",
    "If most people in a group weigh between **50–70 kg**, and one person weighs **150 kg**,  \n",
    "that person's weight is considered an **outlier** because it is much higher than the others.\n",
    "\n",
    "---\n",
    "\n",
    "## Types of Outliers\n",
    "\n",
    "1. **Univariate Outliers**  \n",
    "   - Detected in a **single feature or variable**.  \n",
    "\n",
    "2. **Multivariate Outliers**  \n",
    "   - Detected based on **relationships between two or more features**.  \n",
    "\n",
    "---\n",
    "\n",
    "## Why Handle Outliers?\n",
    "\n",
    "Outliers can negatively affect data analysis and machine learning models. They can:\n",
    "\n",
    "- Skew statistical results  \n",
    "- Mislead machine learning models  \n",
    "- Reduce model accuracy  \n",
    "- Cause high error rates  \n",
    "\n",
    "🚨 **Ignoring outliers** may lead to incorrect conclusions and poor performance in tasks such as regression and clustering.\n",
    "\n",
    "---\n",
    "\n",
    "## Methods to Identify Outliers in Python\n",
    "\n",
    "### 1. Visualization Techniques\n",
    "\n",
    "Visualization is one of the easiest ways to spot outliers.  \n",
    "It gives a clear picture of the data distribution.  \n",
    "\n",
    "We will be using the following libraries:  \n",
    "- **Pandas**  \n",
    "- **NumPy**  \n",
    "- **Seaborn**  \n",
    "- **Matplotlib**\n",
    "\n",
    "\n"
   ]
  },
  {
   "cell_type": "markdown",
   "id": "110ebda7-a18d-46c8-adad-ccda33ec3316",
   "metadata": {},
   "source": [
    "### 1. Box Plot\n",
    "A box plot shows the minimum, first quartile (Q1), median, third quartile (Q3) and maximum values of the dataset. Outliers are typically plotted as individual points."
   ]
  },
  {
   "cell_type": "code",
   "execution_count": 9,
   "id": "48e2875e-b525-4953-b57f-090ff0bed229",
   "metadata": {},
   "outputs": [
    {
     "data": {
      "image/png": "[encoded data removed]",
      "text/plain": [
       "<Figure size 640x480 with 1 Axes>"
      ]
     },
     "metadata": {},
     "output_type": "display_data"
    }
   ],
   "source": [
    "import pandas as pd\n",
    "import numpy as np\n",
    "import seaborn as sns\n",
    "import matplotlib.pyplot as plt\n",
    "\n",
    "data = {'Age': [22, 25, 28, 24, 23, 29, 150, 27, 26, 22]}\n",
    "df = pd.DataFrame(data)\n",
    "\n",
    "sns.boxplot(x=df['Age'])\n",
    "plt.title(\"Box Plot for Age\")\n",
    "plt.show()"
   ]
  },
  {
   "cell_type": "markdown",
   "id": "5f066eaa-3337-4c3e-9f49-eb7256d137d8",
   "metadata": {},
   "source": [
    "### 2. Scatter Plot\n",
    "A scatter plot helps to visualize the relationship between two variables and spot any unusual data points."
   ]
  },
  {
   "cell_type": "code",
   "execution_count": 10,
   "id": "bcee884f-417d-49d6-bf36-ae325f7c2549",
   "metadata": {},
   "outputs": [
    {
     "data": {
      "image/png": "[encoded data removed]",
      "text/plain": [
       "<Figure size 640x480 with 1 Axes>"
      ]
     },
     "metadata": {},
     "output_type": "display_data"
    }
   ],
   "source": [
    "sns.scatterplot(x=range(len(df['Age'])), y=df['Age'])\n",
    "plt.title(\"Scatter Plot for Age\")\n",
    "plt.show()"
   ]
  },
  {
   "cell_type": "markdown",
   "id": "86bd8e70-7e1c-42db-ac41-ecc801faf3f1",
   "metadata": {},
   "source": [
    "### 3. Histogram\n",
    "Histogram displays the frequency distribution of a dataset making it easier to identify outliers by looking at extremely low or high frequency bars."
   ]
  },
  {
   "cell_type": "code",
   "execution_count": 11,
   "id": "a02b7a3e-e37c-49d1-b3ad-ae28fc59bd3d",
   "metadata": {},
   "outputs": [
    {
     "data": {
      "image/png": "[encoded data removed]",
      "text/plain": [
       "<Figure size 640x480 with 1 Axes>"
      ]
     },
     "metadata": {},
     "output_type": "display_data"
    }
   ],
   "source": [
    "df['Age'].hist(bins=10)\n",
    "plt.title(\"Histogram for Age\")\n",
    "plt.show()"
   ]
  },
  {
   "cell_type": "markdown",
   "id": "77e7b4d3-3d37-4d97-b0f6-fa00466b8fe8",
   "metadata": {},
   "source": [
    "## Statistical Methods\n",
    "We have statistical methods also to detect outliers that are:"
   ]
  },
  {
   "cell_type": "markdown",
   "id": "a6227b4a-d837-4334-8739-6cf0c31d13e4",
   "metadata": {},
   "source": [
    "### 1. Z-Score Method\n",
    "Z-Score method calculates how many standard deviations a data point is from the mean. Data points with a Z-score greater than 3 or less than -3 are considered outliers."
   ]
  },
  {
   "cell_type": "code",
   "execution_count": 14,
   "id": "f2121829-0e26-4bcb-ad4e-10fa345dd372",
   "metadata": {},
   "outputs": [
    {
     "name": "stdout",
     "output_type": "stream",
     "text": [
      "Z-Score Values:\n",
      " [0.41558794 0.33566718 0.25574643 0.36230744 0.38894769 0.22910617\n",
      " 2.9943644  0.28238668 0.30902693 0.41558794]\n",
      "Outliers:\n",
      " Empty DataFrame\n",
      "Columns: [Age]\n",
      "Index: []\n"
     ]
    }
   ],
   "source": [
    "from scipy import stats\n",
    "import numpy as np\n",
    "import pandas as pd\n",
    "\n",
    "data = {'Age': [22, 25, 28, 24, 23, 29, 150, 27, 26, 22]}\n",
    "df = pd.DataFrame(data)\n",
    "\n",
    "z = np.abs(stats.zscore(df['Age']))\n",
    "print(\"Z-Score Values:\\n\", z)\n",
    "\n",
    "outliers = df[z > 3]\n",
    "print(\"Outliers:\\n\", outliers)"
   ]
  },
  {
   "cell_type": "markdown",
   "id": "84f7e95e-25b6-4e59-9f2d-d8583eaa45bc",
   "metadata": {},
   "source": [
    "### 2. Interquartile Range (IQR) Method\n",
    "Interquartile Range (IQR) method identifies outliers by measuring the spread between the first quartile (Q1) and third quartile (Q3). Any data point below \n",
    "Q1−1.5∗IQR or above \n",
    "Q3+1.5∗IQRis considered an outlier."
   ]
  },
  {
   "cell_type": "code",
   "execution_count": 15,
   "id": "d111250e-a470-4340-ad4c-9c65ee4084e7",
   "metadata": {},
   "outputs": [
    {
     "name": "stdout",
     "output_type": "stream",
     "text": [
      "Outliers:\n",
      "\n"
     ]
    },
    {
     "data": {
      "text/html": [
       "<div>\n",
       "<style scoped>\n",
       "    .dataframe tbody tr th:only-of-type {\n",
       "        vertical-align: middle;\n",
       "    }\n",
       "\n",
       "    .dataframe tbody tr th {\n",
       "        vertical-align: top;\n",
       "    }\n",
       "\n",
       "    .dataframe thead th {\n",
       "        text-align: right;\n",
       "    }\n",
       "</style>\n",
       "<table border=\"1\" class=\"dataframe\">\n",
       "  <thead>\n",
       "    <tr style=\"text-align: right;\">\n",
       "      <th></th>\n",
       "      <th>Age</th>\n",
       "    </tr>\n",
       "  </thead>\n",
       "  <tbody>\n",
       "    <tr>\n",
       "      <th>6</th>\n",
       "      <td>150</td>\n",
       "    </tr>\n",
       "  </tbody>\n",
       "</table>\n",
       "</div>"
      ],
      "text/plain": [
       "   Age\n",
       "6  150"
      ]
     },
     "execution_count": 15,
     "metadata": {},
     "output_type": "execute_result"
    }
   ],
   "source": [
    "Q1 = df['Age'].quantile(0.25)\n",
    "Q3 = df['Age'].quantile(0.75)\n",
    "IQR = Q3 - Q1\n",
    "\n",
    "lower_bound = Q1 - 1.5 * IQR\n",
    "upper_bound = Q3 + 1.5 * IQR\n",
    "\n",
    "outliers = df[(df['Age'] < lower_bound) | (df['Age'] > upper_bound)]\n",
    "print(\"Outliers:\\n\")\n",
    "outliers"
   ]
  },
  {
   "cell_type": "markdown",
   "id": "2eab1406-ec06-4f25-9a87-fdad00297ae5",
   "metadata": {},
   "source": [
    "## How to Handle Outliers?\n",
    "Once we have detected outliers we can handle them using different methods:"
   ]
  },
  {
   "cell_type": "markdown",
   "id": "3b313cd0-86c3-4917-b0b5-f1358e985cc8",
   "metadata": {},
   "source": [
    "### 1. Removing Outliers\n",
    "If the outliers are due to data entry errors or measurement mistakes, removing them is the best option. This method works well if the outliers are not important for analysis. Now see how it can be done."
   ]
  },
  {
   "cell_type": "code",
   "execution_count": 16,
   "id": "2b6f64db-c8a1-488c-b14f-5ac56dbb3b82",
   "metadata": {},
   "outputs": [
    {
     "name": "stdout",
     "output_type": "stream",
     "text": [
      "Cleaned Data:\n",
      "    Age\n",
      "0   22\n",
      "1   25\n",
      "2   28\n",
      "3   24\n",
      "4   23\n",
      "5   29\n",
      "7   27\n",
      "8   26\n",
      "9   22\n"
     ]
    }
   ],
   "source": [
    "df_cleaned = df[(df['Age'] >= lower_bound) & (df['Age'] <= upper_bound)]\n",
    "print(\"Cleaned Data:\\n\", df_cleaned)"
   ]
  },
  {
   "cell_type": "markdown",
   "id": "065eacb9-6610-4dc5-b847-8b49cacf6158",
   "metadata": {},
   "source": [
    "### 2. Replacing Outliers\n",
    "In some cases outliers can be replaced with statistical measures like mean or median to reduce their impact without losing data. Median is preferred because it is less affected by extreme values."
   ]
  },
  {
   "cell_type": "code",
   "execution_count": 17,
   "id": "2a47123c-def3-4e21-83b3-10836b281679",
   "metadata": {},
   "outputs": [
    {
     "name": "stdout",
     "output_type": "stream",
     "text": [
      "Data after Replacing Outliers:\n",
      "     Age\n",
      "0  22.0\n",
      "1  25.0\n",
      "2  28.0\n",
      "3  24.0\n",
      "4  23.0\n",
      "5  29.0\n",
      "6  25.5\n",
      "7  27.0\n",
      "8  26.0\n",
      "9  22.0\n"
     ]
    }
   ],
   "source": [
    "df['Age'] = np.where((df['Age'] < lower_bound) | (df['Age'] > upper_bound), df['Age'].median(), df['Age'])\n",
    "print(\"Data after Replacing Outliers:\\n\", df)"
   ]
  },
  {
   "cell_type": "markdown",
   "id": "fbb82307-aa75-47ed-9bb0-78741fe68df4",
   "metadata": {},
   "source": [
    "### 3. Capping Outliers\n",
    "Capping limits the extreme values to predefined upper and lower bounds ensures no value exceeds these limits."
   ]
  },
  {
   "cell_type": "code",
   "execution_count": 18,
   "id": "ba30db82-c98a-4d2b-bb86-1edc97cf7ade",
   "metadata": {},
   "outputs": [
    {
     "name": "stdout",
     "output_type": "stream",
     "text": [
      "Data after Capping Outliers:\n",
      "     Age\n",
      "0  22.0\n",
      "1  25.0\n",
      "2  28.0\n",
      "3  24.0\n",
      "4  23.0\n",
      "5  29.0\n",
      "6  25.5\n",
      "7  27.0\n",
      "8  26.0\n",
      "9  22.0\n"
     ]
    }
   ],
   "source": [
    "df['Age'] = np.clip(df['Age'], lower_bound, upper_bound)\n",
    "print(\"Data after Capping Outliers:\\n\", df)"
   ]
  },
  {
   "cell_type": "code",
   "execution_count": null,
   "id": "869b1398-a725-4926-802b-0e788b668158",
   "metadata": {},
   "outputs": [],
   "source": []
  }
 ],
 "metadata": {
  "kernelspec": {
   "display_name": "Python 3 (ipykernel)",
   "language": "python",
   "name": "python3"
  },
  "language_info": {
   "codemirror_mode": {
    "name": "ipython",
    "version": 3
   },
   "file_extension": ".py",
   "mimetype": "text/x-python",
   "name": "python",
   "nbconvert_exporter": "python",
   "pygments_lexer": "ipython3",
   "version": "3.13.5"
  }
 },
 "nbformat": 4,
 "nbformat_minor": 5
}
