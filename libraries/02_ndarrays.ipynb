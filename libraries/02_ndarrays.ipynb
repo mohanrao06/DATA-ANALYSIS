{
 "cells": [
  {
   "cell_type": "markdown",
   "id": "404f81c0-fc83-431d-a8f3-06df13b22f4e",
   "metadata": {},
   "source": [
    "ndarray is a short form for N-dimensional array which is a important component of NumPy. It’s allows us to store and manipulate large amounts of data efficiently. All elements in an ndarray must be of same type making it a homogeneous array. This structure supports multiple dimensions which makes it ideal for handling complex datasets like those used in scientific computing or data analysis. With this we can perform fast and memory efficient operations on data."
   ]
  },
  {
   "cell_type": "code",
   "execution_count": 1,
   "id": "12ef8613-297f-4479-9bf4-c96729788326",
   "metadata": {},
   "outputs": [],
   "source": [
    "import numpy as np"
   ]
  },
  {
   "cell_type": "code",
   "execution_count": 3,
   "id": "7065459d-2bcf-4b9b-beaf-815791ccd4bd",
   "metadata": {},
   "outputs": [
    {
     "name": "stdout",
     "output_type": "stream",
     "text": [
      "[1 2 3 4 5]\n",
      "[[1 2 3]\n",
      " [4 5 6]]\n",
      "[[[1 2]\n",
      "  [3 4]]\n",
      "\n",
      " [[5 6]\n",
      "  [7 8]]]\n"
     ]
    }
   ],
   "source": [
    "arr1=np.array([1,2,3,4,5])\n",
    "arr2=np.array([[1,2,3],[4,5,6]])\n",
    "arr3 = np.array([[[1, 2], [3, 4]], [[5, 6], [7, 8]]])\n",
    "print(arr1)\n",
    "print(arr2)\n",
    "print(arr3)"
   ]
  },
  {
   "cell_type": "markdown",
   "id": "15542f00-5d81-4533-9a1f-8e1b45fae285",
   "metadata": {},
   "source": [
    "### Attributes of ndarray\n",
    "Understanding the attributes of an ndarray is important while working with NumPy effectively. Here are the key attributes:\n",
    "\n",
    "1. ndarray.shape: Returns a tuple representing the shape (dimensions) of the array.\n",
    "2. ndarray.ndim: Returns the number of dimensions (axes) of the array.\n",
    "3. ndarray.size: Returns the total number of elements in the array.\n",
    "4. ndarray.dtype: Provides the data type of the array elements.\n",
    "5. ndarray.itemsize: Returns the size in bytes of each element"
   ]
  },
  {
   "cell_type": "code",
   "execution_count": 4,
   "id": "b6feffb7-4879-4320-b261-555402138ea4",
   "metadata": {},
   "outputs": [
    {
     "name": "stdout",
     "output_type": "stream",
     "text": [
      "Shape: (2, 3)\n",
      "Dimensions: 2\n",
      "Size: 6\n",
      "Data type: int64\n",
      "Item size: 8\n"
     ]
    }
   ],
   "source": [
    "arr = np.array([[1, 2, 3], [4, 5, 6]])\n",
    "\n",
    "print(\"Shape:\", arr.shape)  \n",
    "print(\"Dimensions:\", arr.ndim)  \n",
    "print(\"Size:\", arr.size) \n",
    "print(\"Data type:\", arr.dtype)  \n",
    "print(\"Item size:\", arr.itemsize)"
   ]
  },
  {
   "cell_type": "code",
   "execution_count": null,
   "id": "2e5a43aa-f6f5-4162-bbee-d390ed823bee",
   "metadata": {},
   "outputs": [],
   "source": []
  }
 ],
 "metadata": {
  "kernelspec": {
   "display_name": "Python 3 (ipykernel)",
   "language": "python",
   "name": "python3"
  },
  "language_info": {
   "codemirror_mode": {
    "name": "ipython",
    "version": 3
   },
   "file_extension": ".py",
   "mimetype": "text/x-python",
   "name": "python",
   "nbconvert_exporter": "python",
   "pygments_lexer": "ipython3",
   "version": "3.13.5"
  }
 },
 "nbformat": 4,
 "nbformat_minor": 5
}
