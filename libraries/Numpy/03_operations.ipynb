{
 "cells": [
  {
   "cell_type": "markdown",
   "id": "904a08eb-2607-4a35-b47e-88141e8ac224",
   "metadata": {},
   "source": [
    "Arithmetic operations are used for numerical computation and we can perform them on arrays using NumPy. With NumPy we can quickly add, subtract, multiply, divide and get power of elements in an array. NumPy performs these operations even with large amounts of data. In this article, we’ll see at the basic arithmetic functions in NumPy and show how to use them for simple calculations."
   ]
  },
  {
   "cell_type": "markdown",
   "id": "71038b52-22ce-488e-a364-4b7a18f1f1fe",
   "metadata": {},
   "source": [
    "### 1. Addition of Arrays\n",
    "Addition is an arithmetic operation where the corresponding elements of two arrays are added together. In NumPy the addition of two arrays is done using the np.add() function."
   ]
  },
  {
   "cell_type": "code",
   "execution_count": 2,
   "id": "60d2ee9a-ff4b-4d08-9ff3-e6004f1b8c3a",
   "metadata": {},
   "outputs": [
    {
     "name": "stdout",
     "output_type": "stream",
     "text": [
      "[  7  77  23 130]\n"
     ]
    }
   ],
   "source": [
    "import numpy as np\n",
    "a = np.array([5, 72, 13, 100])\n",
    "b = np.array([2, 5, 10, 30])\n",
    "\n",
    "add_ans = np.add(a, b)\n",
    "print(add_ans)"
   ]
  },
  {
   "cell_type": "markdown",
   "id": "5c1f6775-15c1-4e9c-8045-f306de63e2a7",
   "metadata": {},
   "source": [
    "### 2. Subtraction of Arrays\n",
    "We can subtract two arrays element-wise using the np.subtract() function. This function subtracts each element of the second array from the corresponding element in the first array."
   ]
  },
  {
   "cell_type": "code",
   "execution_count": 3,
   "id": "01ba51a6-2ba8-40e8-acd3-fa7718cb9b19",
   "metadata": {},
   "outputs": [
    {
     "name": "stdout",
     "output_type": "stream",
     "text": [
      "[ 3 67  3 70]\n"
     ]
    }
   ],
   "source": [
    "a = np.array([5, 72, 13, 100])\n",
    "b = np.array([2, 5, 10, 30])\n",
    "\n",
    "sub_ans = np.subtract(a, b)\n",
    "print(sub_ans)"
   ]
  },
  {
   "cell_type": "markdown",
   "id": "62535c45-c8f1-4d22-a3cd-36d6455cb55a",
   "metadata": {},
   "source": [
    "### 3. Multiplication of Arrays\n",
    "Multiplication in NumPy can be done element-wise using the np.multiply() function. This multiplies corresponding elements of two arrays."
   ]
  },
  {
   "cell_type": "code",
   "execution_count": 4,
   "id": "ee98f424-bf4a-44bb-a0ae-b7beade5859d",
   "metadata": {},
   "outputs": [
    {
     "name": "stdout",
     "output_type": "stream",
     "text": [
      "[  10  360  130 3000]\n"
     ]
    }
   ],
   "source": [
    "a = np.array([5, 72, 13, 100])\n",
    "b = np.array([2, 5, 10, 30])\n",
    "\n",
    "mul_ans = np.multiply(a, b)\n",
    "print(mul_ans)"
   ]
  },
  {
   "cell_type": "markdown",
   "id": "1ae8ee6c-eddf-4f3d-9998-487f5832c465",
   "metadata": {},
   "source": [
    "### 4. Division of Arrays\n",
    "Division is another important operation that is performed element-wise using the np.divide() function. This divides each element of the first array by the corresponding element in the second array."
   ]
  },
  {
   "cell_type": "code",
   "execution_count": 5,
   "id": "7fcdd858-ca39-4e6e-b2a0-78da840bf0c7",
   "metadata": {},
   "outputs": [
    {
     "name": "stdout",
     "output_type": "stream",
     "text": [
      "[ 2.5        14.4         1.3         3.33333333]\n"
     ]
    }
   ],
   "source": [
    "a = np.array([5, 72, 13, 100])\n",
    "b = np.array([2, 5, 10, 30])\n",
    "\n",
    "div_ans = np.divide(a, b)\n",
    "print(div_ans)"
   ]
  },
  {
   "cell_type": "markdown",
   "id": "08c63024-6194-4137-841c-18e3c7464d84",
   "metadata": {},
   "source": [
    "### 5. Exponentiation (Power)\n",
    "It allows us to raise each element in an array to a specified power. In NumPy, this can be done using the np.power() function."
   ]
  },
  {
   "cell_type": "code",
   "execution_count": 6,
   "id": "d832acb2-5787-412c-b8ed-feb4db02adba",
   "metadata": {},
   "outputs": [
    {
     "name": "stdout",
     "output_type": "stream",
     "text": [
      "[                 25          1934917632        137858491849\n",
      " 1152921504606846976]\n"
     ]
    }
   ],
   "source": [
    "a = np.array([5, 72, 13, 100])\n",
    "b = np.array([2, 5, 10, 30])\n",
    "\n",
    "pow_ans = np.power(a, b)\n",
    "print(pow_ans)"
   ]
  },
  {
   "cell_type": "markdown",
   "id": "2e3297bd-b798-41d1-a85b-27db065c785e",
   "metadata": {},
   "source": [
    "### 6. Modulus Operation\n",
    "It finds the remainder when one number is divided by another. In NumPy, you can use the np.mod() function to calculate the modulus element-wise between two arrays."
   ]
  },
  {
   "cell_type": "code",
   "execution_count": 7,
   "id": "d8509ef2-2d5e-4ce4-b95c-44c0e6e88330",
   "metadata": {},
   "outputs": [
    {
     "name": "stdout",
     "output_type": "stream",
     "text": [
      "[ 1  2  3 10]\n"
     ]
    }
   ],
   "source": [
    "a = np.array([5, 72, 13, 100])\n",
    "b = np.array([2, 5, 10, 30])\n",
    "\n",
    "mod_ans = np.mod(a, b)\n",
    "print(mod_ans)"
   ]
  },
  {
   "cell_type": "code",
   "execution_count": null,
   "id": "825e632f-1cbc-4384-97fc-5490aa227d7e",
   "metadata": {},
   "outputs": [],
   "source": []
  }
 ],
 "metadata": {
  "kernelspec": {
   "display_name": "Python 3 (ipykernel)",
   "language": "python",
   "name": "python3"
  },
  "language_info": {
   "codemirror_mode": {
    "name": "ipython",
    "version": 3
   },
   "file_extension": ".py",
   "mimetype": "text/x-python",
   "name": "python",
   "nbconvert_exporter": "python",
   "pygments_lexer": "ipython3",
   "version": "3.13.5"
  }
 },
 "nbformat": 4,
 "nbformat_minor": 5
}
