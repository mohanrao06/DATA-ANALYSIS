{
 "cells": [
  {
   "cell_type": "markdown",
   "id": "cc12a485-d073-4c69-87c0-d318571634d4",
   "metadata": {},
   "source": [
    "NumPy stands for Numerical Python and is used for handling large, multi-dimensional arrays and matrices. Unlike Python's built-in lists NumPy arrays provide efficient storage and faster processing for numerical and scientific computations. It offers functions for linear algebra and random number generation making it important for data science and machine learning."
   ]
  },
  {
   "cell_type": "markdown",
   "id": "4060c70e-f61e-43da-86ea-b30b52758fb2",
   "metadata": {},
   "source": [
    "##### 1. One Dimensional Array:\n",
    "A one-dimensional array is a type of linear array.\n",
    "\n"
   ]
  },
  {
   "cell_type": "code",
   "execution_count": 8,
   "id": "4fd0b112-a461-472a-936d-a522c358369e",
   "metadata": {},
   "outputs": [
    {
     "name": "stdout",
     "output_type": "stream",
     "text": [
      "list in python:  [1, 2, 3, 4, 5]\n",
      "numpy array in python:  [1 2 3 4 5]\n"
     ]
    }
   ],
   "source": [
    "import numpy as np\n",
    "list_1=[1,2,3,4,5]\n",
    "sample_array=np.array(list_1)\n",
    "print(\"list in python: \",list_1)\n",
    "print(\"numpy array in python: \",sample_array)"
   ]
  },
  {
   "cell_type": "code",
   "execution_count": 2,
   "id": "3ee1a685-e5c1-47d7-8dbb-caf6438fb9f5",
   "metadata": {},
   "outputs": [
    {
     "name": "stdout",
     "output_type": "stream",
     "text": [
      "<class 'list'>\n",
      "<class 'numpy.ndarray'>\n"
     ]
    }
   ],
   "source": [
    "print(type(list_1))\n",
    "\n",
    "print(type(sample_array))"
   ]
  },
  {
   "cell_type": "markdown",
   "id": "603044b0-17ac-49cd-836d-4f08f95a1989",
   "metadata": {},
   "source": [
    "##### 2. Multi-Dimensional Array:\n",
    "A Multi-Dimensional Array is an array that can store data in more than one dimension such as rows and columns. In simple terms it is a array of arrays.\n",
    "\n",
    "For example a 2D array is like a table with rows and columns where each element is accessed by two indices: one for the row and one for the column. Higher dimensions like 3D arrays involve adding additional layers. \n",
    "\n",
    "* Note: use [ ] operators inside numpy.array() for multi-dimensional."
   ]
  },
  {
   "cell_type": "code",
   "execution_count": 3,
   "id": "71c65bb2-20da-4954-a555-ff90921ed87d",
   "metadata": {},
   "outputs": [
    {
     "name": "stdout",
     "output_type": "stream",
     "text": [
      "Numpy multi dimensional array in python\n",
      " [[ 1  2  3  4]\n",
      " [ 5  6  7  8]\n",
      " [ 9 10 11 12]]\n"
     ]
    }
   ],
   "source": [
    "\n",
    "list_1 = [1, 2, 3, 4]\n",
    "list_2 = [5, 6, 7, 8]\n",
    "list_3 = [9, 10, 11, 12]\n",
    "\n",
    "sample_array = np.array([list_1, \n",
    "                         list_2,\n",
    "                         list_3])\n",
    "print(\"Numpy multi dimensional array in python\\n\",\n",
    "      sample_array)"
   ]
  },
  {
   "cell_type": "markdown",
   "id": "77aa79c0-f727-44c3-8eab-e29f73f1194d",
   "metadata": {},
   "source": [
    "###### Parameters of a Numpy Array\n",
    "1. Axis: Axis of an array describes the order of the indexing into the array.  \n",
    "Axis 0 = one dimensional  \n",
    "Axis 1 = Two dimensional  \n",
    "Axis 2 = Three dimensional\n"
   ]
  },
  {
   "cell_type": "markdown",
   "id": "b0817f5b-c75f-4957-858d-ed0912e18680",
   "metadata": {},
   "source": [
    "###### 2. Shape: Number of elements along with each axis and is returned as a tuple."
   ]
  },
  {
   "cell_type": "code",
   "execution_count": 4,
   "id": "106fdba0-afd8-447d-a944-19af98721cfe",
   "metadata": {},
   "outputs": [
    {
     "data": {
      "text/plain": [
       "(3, 4)"
      ]
     },
     "execution_count": 4,
     "metadata": {},
     "output_type": "execute_result"
    }
   ],
   "source": [
    "sample_array.shape"
   ]
  },
  {
   "cell_type": "markdown",
   "id": "9885a80d-a162-4800-9a35-4e8694043743",
   "metadata": {},
   "source": [
    "##### 3. Rank: Rank of an array is simply the number of axes or dimensions it has.\n",
    "\n",
    "One-dimensional array has rank 1.  \n",
    "Rank 1  \n",
    "Two-dimensional array has rank 2.  \n",
    "Rank 2  \n"
   ]
  },
  {
   "cell_type": "markdown",
   "id": "811ed724-0877-462b-bef0-eae481c9ed79",
   "metadata": {},
   "source": [
    "\n",
    "##### 4. Data type objects (dtype): Data type objects (dtype) is an example of numpy.dtype class. It describes how the bytes in the fixed-size block of memory corresponding to an array item should be interpreted."
   ]
  },
  {
   "cell_type": "code",
   "execution_count": 5,
   "id": "0fbb49b6-e64d-43f6-895f-45c865d5d206",
   "metadata": {},
   "outputs": [
    {
     "name": "stdout",
     "output_type": "stream",
     "text": [
      "Data type of the array 1 : int64\n",
      "Data type of array 2 : float64\n"
     ]
    }
   ],
   "source": [
    "sample_array_1 = np.array([[0, 4, 2]])\n",
    "\n",
    "sample_array_2 = np.array([0.2, 0.4, 2.4])\n",
    "\n",
    "print(\"Data type of the array 1 :\",\n",
    "      sample_array_1.dtype)\n",
    "\n",
    "print(\"Data type of array 2 :\",\n",
    "      sample_array_2.dtype)"
   ]
  },
  {
   "cell_type": "markdown",
   "id": "0887b4fe-67b7-4423-8492-d32fcebca4d0",
   "metadata": {},
   "source": [
    "#### Different Ways of Creating Numpy Array\n",
    "1. numpy.array(): Numpy array object in Numpy is called ndarray. We can create ndarray using this function."
   ]
  },
  {
   "cell_type": "code",
   "execution_count": 6,
   "id": "8b6c4990-90d0-4fb3-b696-5c5b0f26d537",
   "metadata": {},
   "outputs": [
    {
     "name": "stdout",
     "output_type": "stream",
     "text": [
      "Array : [3 4 5 5]\n"
     ]
    }
   ],
   "source": [
    "arr = np.array([3,4,5,5])\n",
    "\n",
    "print(\"Array :\",arr)"
   ]
  },
  {
   "cell_type": "markdown",
   "id": "e04f67d4-5c4e-497f-aa8c-2f287363f322",
   "metadata": {},
   "source": [
    "2. numpy.fromiter(): The fromiter() function create a new one-dimensional array from an iterable object."
   ]
  },
  {
   "cell_type": "code",
   "execution_count": 12,
   "id": "b87bfa32-80b0-4921-ad7a-fe4b37fdb7fb",
   "metadata": {},
   "outputs": [
    {
     "name": "stdout",
     "output_type": "stream",
     "text": [
      "nnew array:  ['v' 'e' 'n' 'k' 'e' 'y' 'r' 'e' 'd' 'd' 'y']\n"
     ]
    }
   ],
   "source": [
    "var=\"venkeyreddy\"\n",
    "arr=np.fromiter(var,dtype='U2')\n",
    "print(\"nnew array: \",arr)"
   ]
  },
  {
   "cell_type": "markdown",
   "id": "503228da-98a3-4573-a822-05a36dab03f8",
   "metadata": {},
   "source": [
    "3. numpy.arange(): This is an inbuilt NumPy function that returns evenly spaced values within a given interval."
   ]
  },
  {
   "cell_type": "code",
   "execution_count": 17,
   "id": "60af9fed-a9eb-44b5-b51e-5c7136069aa9",
   "metadata": {},
   "outputs": [
    {
     "data": {
      "text/plain": [
       "array([ 1,  3,  5,  7,  9, 11, 13, 15, 17, 19])"
      ]
     },
     "execution_count": 17,
     "metadata": {},
     "output_type": "execute_result"
    }
   ],
   "source": [
    "np.arange(1,20,2,dtype=np.int64)"
   ]
  },
  {
   "cell_type": "markdown",
   "id": "dee910f3-3fb3-4474-8f13-6a06369dafe2",
   "metadata": {},
   "source": [
    "4. numpy.linspace(): This function returns evenly spaced numbers over a specified between two limits. "
   ]
  },
  {
   "cell_type": "code",
   "execution_count": 26,
   "id": "44ffa6c9-0af4-4c6a-9b60-c89a1960788f",
   "metadata": {},
   "outputs": [
    {
     "data": {
      "text/plain": [
       "array([ 1,  3,  5,  7, 10], dtype=int32)"
      ]
     },
     "execution_count": 26,
     "metadata": {},
     "output_type": "execute_result"
    }
   ],
   "source": [
    "np.linspace(1,10,5,dtype=np.int32)"
   ]
  },
  {
   "cell_type": "markdown",
   "id": "546377c1-7ad7-4d74-9a95-42c537de92b8",
   "metadata": {},
   "source": [
    "5. numpy.empty(): This function create a new array of given shape and type without initializing value."
   ]
  },
  {
   "cell_type": "code",
   "execution_count": 28,
   "id": "43b75fe0-bb46-41c5-8693-79e4a0378e06",
   "metadata": {},
   "outputs": [
    {
     "data": {
      "text/plain": [
       "array([[         0,          0,          0],\n",
       "       [1072693248, 1074790400, 1075838976],\n",
       "       [         0,          0,          0],\n",
       "       [1073741824, 1075314688, 1076101120]], dtype=int32)"
      ]
     },
     "execution_count": 28,
     "metadata": {},
     "output_type": "execute_result"
    }
   ],
   "source": [
    "np.empty([4,3],dtype=np.int32,order='f')"
   ]
  },
  {
   "cell_type": "markdown",
   "id": "ec71c3df-4c19-4951-90f0-8d99b085493e",
   "metadata": {},
   "source": [
    "6. numpy.ones(): This function is used to get a new array of given shape and type filled with ones (1)."
   ]
  },
  {
   "cell_type": "code",
   "execution_count": 30,
   "id": "773154fa-4615-4f59-abff-793dd6b2d6be",
   "metadata": {},
   "outputs": [
    {
     "data": {
      "text/plain": [
       "array([[1, 1, 1, 1, 1],\n",
       "       [1, 1, 1, 1, 1],\n",
       "       [1, 1, 1, 1, 1],\n",
       "       [1, 1, 1, 1, 1],\n",
       "       [1, 1, 1, 1, 1]], dtype=int32)"
      ]
     },
     "execution_count": 30,
     "metadata": {},
     "output_type": "execute_result"
    }
   ],
   "source": [
    "np.ones([5,5],dtype=np.int32)"
   ]
  },
  {
   "cell_type": "markdown",
   "id": "c3c61b3e-f0a9-481e-8bf0-06033f1f4a01",
   "metadata": {},
   "source": [
    "7. numpy.zeros(): This function is used to get a new array of given shape and type filled with zeros (0). "
   ]
  },
  {
   "cell_type": "code",
   "execution_count": 31,
   "id": "76dbf328-ff2f-45b9-8d90-664b7ae4fee0",
   "metadata": {},
   "outputs": [
    {
     "data": {
      "text/plain": [
       "array([[0, 0, 0, 0, 0],\n",
       "       [0, 0, 0, 0, 0],\n",
       "       [0, 0, 0, 0, 0],\n",
       "       [0, 0, 0, 0, 0],\n",
       "       [0, 0, 0, 0, 0]], dtype=int32)"
      ]
     },
     "execution_count": 31,
     "metadata": {},
     "output_type": "execute_result"
    }
   ],
   "source": [
    "np.zeros([5,5],dtype=np.int32)"
   ]
  },
  {
   "cell_type": "code",
   "execution_count": null,
   "id": "312dfe08-480d-409b-b98c-b3f56272724d",
   "metadata": {},
   "outputs": [],
   "source": []
  }
 ],
 "metadata": {
  "kernelspec": {
   "display_name": "Python 3 (ipykernel)",
   "language": "python",
   "name": "python3"
  },
  "language_info": {
   "codemirror_mode": {
    "name": "ipython",
    "version": 3
   },
   "file_extension": ".py",
   "mimetype": "text/x-python",
   "name": "python",
   "nbconvert_exporter": "python",
   "pygments_lexer": "ipython3",
   "version": "3.13.5"
  }
 },
 "nbformat": 4,
 "nbformat_minor": 5
}
