{
 "cells": [
  {
   "cell_type": "markdown",
   "id": "57b4e86c-f972-49e2-8fb5-e78c3d58d506",
   "metadata": {},
   "source": [
    "Broadcasting in NumPy allows us to perform arithmetic operations on arrays of different shapes without reshaping them. It automatically adjusts the smaller array to match the larger array's shape by replicating its values along the necessary dimensions. This makes element-wise operations more efficient by reducing memory usage and eliminating the need for loops. In this article, we will see how broadcasting works."
   ]
  },
  {
   "cell_type": "code",
   "execution_count": 1,
   "id": "599151be-b3b8-4f4b-8898-c1577217104f",
   "metadata": {},
   "outputs": [
    {
     "name": "stdout",
     "output_type": "stream",
     "text": [
      "[[11 12 13]\n",
      " [14 15 16]]\n"
     ]
    }
   ],
   "source": [
    "import numpy as np\n",
    "\n",
    "array_2d = np.array([[1, 2, 3], [4, 5, 6]])  \n",
    "scalar = 10  \n",
    "\n",
    "result = array_2d + scalar\n",
    "print(result)"
   ]
  },
  {
   "cell_type": "markdown",
   "id": "cbd5f834-4d6e-4625-8f61-50997957e03a",
   "metadata": {},
   "source": [
    "### Working of Broadcasting in NumPy\n",
    "Broadcasting applies specific rules to find whether two arrays can be aligned for operations or not that are:\n",
    "\n",
    "2. Check Dimensions: Ensure the arrays have the same number of dimensions or expandable dimensions.\n",
    "1. Dimension Padding: If arrays have different numbers of dimensions the smaller array is left-padded with ones.\n",
    "3. Shape Compatibility: Two dimensions are compatible if they are equal or one of them is 1.\n",
    "If these conditions aren’t met NumPy will raise a ValueError.\n",
    "\n",
    "Lets see various examples for broadcasting below:  \n",
    "\n",
    "Example 1: Broadcasting a Scalar to a 1D Array"
   ]
  },
  {
   "cell_type": "code",
   "execution_count": 2,
   "id": "1120eae9-ff17-4d35-8495-7ba7d2d948cd",
   "metadata": {},
   "outputs": [
    {
     "name": "stdout",
     "output_type": "stream",
     "text": [
      "[2 3 4]\n"
     ]
    }
   ],
   "source": [
    "arr = np.array([1, 2, 3])\n",
    "\n",
    "res = arr + 1  \n",
    "print(res)"
   ]
  },
  {
   "cell_type": "markdown",
   "id": "d5500fac-382a-4ab5-836b-2316c1ee733d",
   "metadata": {},
   "source": [
    "Example 2: Broadcasting a 1D Array to a 2D Array\n",
    "This example shows how a 1D array a1 is added to a 2D array a2. NumPy automatically expands the 1D array along the rows of the 2D array to perform element-wise addition."
   ]
  },
  {
   "cell_type": "code",
   "execution_count": 3,
   "id": "46e31e57-8dcf-4b87-b534-f9ae097c0142",
   "metadata": {},
   "outputs": [
    {
     "name": "stdout",
     "output_type": "stream",
     "text": [
      "[[ 3  7 11]\n",
      " [ 9 13 17]]\n"
     ]
    }
   ],
   "source": [
    "a1 = np.array([2, 4, 6])\n",
    "a2 = np.array([[1, 3, 5], [7, 9, 11]])\n",
    "res = a1 + a2\n",
    "print(res)"
   ]
  },
  {
   "cell_type": "markdown",
   "id": "c5e19f0c-7282-4ff1-bb80-70530d656674",
   "metadata": {},
   "source": [
    "Example 3: Broadcasting in Conditional Operations\n",
    "We may need to apply a condition to an entire array or a subset of it. Broadcasting can help to perform these operations efficiently without needing loops."
   ]
  },
  {
   "cell_type": "code",
   "execution_count": 4,
   "id": "fd2ab561-8ee7-4dff-8d99-985d62135552",
   "metadata": {},
   "outputs": [
    {
     "name": "stdout",
     "output_type": "stream",
     "text": [
      "['Minor' 'Adult' 'Adult' 'Adult' 'Adult' 'Adult']\n"
     ]
    }
   ],
   "source": [
    "ages = np.array([12, 24, 35, 45, 60, 72])\n",
    "\n",
    "age_group = np.array([\"Adult\", \"Minor\"])\n",
    "\n",
    "result = np.where(ages > 18, age_group[0], age_group[1])\n",
    "\n",
    "print(result)"
   ]
  },
  {
   "cell_type": "markdown",
   "id": "1d32b7ad-b4a8-40cf-9de2-b25211400a13",
   "metadata": {},
   "source": [
    "Example 4: Using Broadcasting for Matrix Multiplication\n",
    "In this example, each element of a 2D matrix is multiplied by the corresponding element in a broadcasted vector."
   ]
  },
  {
   "cell_type": "code",
   "execution_count": 5,
   "id": "5f0f0a38-088c-43bf-be7f-1bda394b5e1e",
   "metadata": {},
   "outputs": [
    {
     "name": "stdout",
     "output_type": "stream",
     "text": [
      "[[10 40]\n",
      " [30 80]]\n"
     ]
    }
   ],
   "source": [
    "matrix = np.array([[1, 2], [3, 4]])\n",
    "vector = np.array([10, 20])\n",
    "result = matrix * vector\n",
    "print(result)"
   ]
  },
  {
   "cell_type": "markdown",
   "id": "752aaac9-75f1-41fa-916e-cac9c916e1be",
   "metadata": {},
   "source": [
    "Example 5: Scaling Data with Broadcasting\n",
    "Consider a real-world scenario where we need to calculate the total calories in foods based on the amount of fats, proteins and carbohydrates. Each nutrient has a specific caloric value per gram.\n",
    "\n",
    "Fats: 9 calories per gram (CPG)\n",
    "Proteins: 4 CPG\n",
    "Carbohydrates: 4 CPG  \n",
    "Left table shows the original data with food items and their respective grams of fats, proteins and carbs. The array [3, 3, 8] represents the caloric values per gram for fats, proteins and carbs respectively. This array is being broadcast to match the dimensions of the original data and arrow indicates the broadcasting operation.\n",
    "\n",
    "Broadcasting array is multiplied element-wise with each row of the original data.\n",
    "As a result right table shows the result of the multiplication where each cell represents the caloric contribution of that specific nutrient in the food item."
   ]
  },
  {
   "cell_type": "code",
   "execution_count": 6,
   "id": "5c996a76-5596-4ef7-ab86-a68053038e05",
   "metadata": {},
   "outputs": [
    {
     "name": "stdout",
     "output_type": "stream",
     "text": [
      "[[  2.4   8.7  31.2]\n",
      " [157.2  70.8 292. ]\n",
      " [165.6  95.1 191.2]\n",
      " [ 43.2  33.   39.2]]\n"
     ]
    }
   ],
   "source": [
    "food_data = np.array([[0.8, 2.9, 3.9], \n",
    "                      [52.4, 23.6, 36.5],\n",
    "                      [55.2, 31.7, 23.9],\n",
    "                      [14.4, 11, 4.9]])\n",
    "\n",
    "caloric_values = np.array([3, 3, 8]) \n",
    "\n",
    "caloric_matrix = caloric_values \n",
    "\n",
    "calorie_breakdown = food_data * caloric_matrix\n",
    "print(calorie_breakdown)"
   ]
  },
  {
   "cell_type": "markdown",
   "id": "2d9f7e0c-4c9e-4083-b73f-05fc324d0545",
   "metadata": {},
   "source": [
    "Example 6: Adjusting Temperature Data Across Multiple Locations\n",
    "Suppose you have a 2D array representing daily temperature readings across multiple cities and you want to apply a correction factor to each city’s temperature data."
   ]
  },
  {
   "cell_type": "code",
   "execution_count": 7,
   "id": "50db0d24-ce2d-4379-b88b-2e9184b203a5",
   "metadata": {},
   "outputs": [
    {
     "name": "stdout",
     "output_type": "stream",
     "text": [
      "[[31.5 33.5 35.5 34.5 32.5]\n",
      " [24.5 26.5 28.5 27.5 25.5]\n",
      " [22.  24.  26.  25.  23. ]]\n"
     ]
    }
   ],
   "source": [
    "temperatures = np.array([\n",
    "    [30, 32, 34, 33, 31],  \n",
    "    [25, 27, 29, 28, 26], \n",
    "    [20, 22, 24, 23, 21]  \n",
    "])\n",
    "\n",
    "corrections = np.array([1.5, -0.5, 2.0])\n",
    "\n",
    "adjusted_temperatures = temperatures + corrections[:, np.newaxis]\n",
    "print(adjusted_temperatures)"
   ]
  },
  {
   "cell_type": "markdown",
   "id": "d13e87b3-202d-4c05-955f-7a6531b9c5df",
   "metadata": {},
   "source": [
    "Example 7: Normalizing Image Data\n",
    "Normalization is important in many real-world scenarios like image processing and machine learning because it:\n",
    "\n",
    "Centers data by subtracting the mean by ensuring features have zero mean.\n",
    "Scales data by dividing by the standard deviation by ensuring features have unit variance.\n",
    "Improves numerical stability and performance of algorithms like gradient descent.\n",
    "Let's see how broadcasting simplifies normalization:"
   ]
  },
  {
   "cell_type": "code",
   "execution_count": 8,
   "id": "727d52b7-de1a-4ee0-ae2b-b245addc253b",
   "metadata": {},
   "outputs": [
    {
     "name": "stdout",
     "output_type": "stream",
     "text": [
      "[[ 1.22474487  1.22474487  0.        ]\n",
      " [ 0.          0.          1.22474487]\n",
      " [-1.22474487 -1.22474487 -1.22474487]]\n"
     ]
    }
   ],
   "source": [
    "image = np.array([\n",
    "    [100, 120, 130],\n",
    "    [90, 110, 140],\n",
    "    [80, 100, 120]\n",
    "])\n",
    "\n",
    "mean = image.mean(axis=0)   \n",
    "std = image.std(axis=0)    \n",
    "\n",
    "normalized_image = (image - mean) / std\n",
    "print(normalized_image)"
   ]
  },
  {
   "cell_type": "markdown",
   "id": "17bb0835-a746-4f93-be84-849d37f0a725",
   "metadata": {},
   "source": [
    "Example 8: Centering Data in Machine Learning\n",
    "Centering data is an important step in many machine learning workflows. Broadcasting helps center the data efficiently by subtracting the mean from each feature."
   ]
  },
  {
   "cell_type": "code",
   "execution_count": 9,
   "id": "96070d47-ad17-41ba-8965-d79826b1063b",
   "metadata": {},
   "outputs": [
    {
     "name": "stdout",
     "output_type": "stream",
     "text": [
      "[[-5. -5.]\n",
      " [ 0.  0.]\n",
      " [ 5.  5.]]\n"
     ]
    }
   ],
   "source": [
    "data = np.array([\n",
    "    [10, 20],\n",
    "    [15, 25],\n",
    "    [20, 30]\n",
    "])\n",
    "\n",
    "feature_mean = data.mean(axis=0)\n",
    "\n",
    "centered_data = data - feature_mean\n",
    "print(centered_data)"
   ]
  },
  {
   "cell_type": "code",
   "execution_count": null,
   "id": "a6387b14-005d-4215-a04b-c16898ab007f",
   "metadata": {},
   "outputs": [],
   "source": []
  }
 ],
 "metadata": {
  "kernelspec": {
   "display_name": "Python 3 (ipykernel)",
   "language": "python",
   "name": "python3"
  },
  "language_info": {
   "codemirror_mode": {
    "name": "ipython",
    "version": 3
   },
   "file_extension": ".py",
   "mimetype": "text/x-python",
   "name": "python",
   "nbconvert_exporter": "python",
   "pygments_lexer": "ipython3",
   "version": "3.13.5"
  }
 },
 "nbformat": 4,
 "nbformat_minor": 5
}
